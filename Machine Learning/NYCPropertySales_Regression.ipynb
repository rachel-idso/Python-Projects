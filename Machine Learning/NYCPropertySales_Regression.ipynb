{
 "cells": [
  {
   "cell_type": "markdown",
   "id": "08d867ee",
   "metadata": {},
   "source": [
    "# HW4 - Linear Regression "
   ]
  },
  {
   "cell_type": "markdown",
   "id": "791a4f32",
   "metadata": {},
   "source": [
    "## Question 1: "
   ]
  },
  {
   "cell_type": "markdown",
   "id": "439fbc49",
   "metadata": {},
   "source": [
    "Import Libraries and load the CSV file. "
   ]
  },
  {
   "cell_type": "code",
   "execution_count": 1,
   "id": "51db42d6",
   "metadata": {},
   "outputs": [],
   "source": [
    "import numpy as np\n",
    "import pandas as pd\n",
    "import matplotlib.pyplot as plt\n",
    "import seaborn as sns\n",
    "from sklearn.linear_model import LinearRegression"
   ]
  },
  {
   "cell_type": "code",
   "execution_count": 2,
   "id": "fb6302ea",
   "metadata": {},
   "outputs": [],
   "source": [
    "rand_state = 1000"
   ]
  },
  {
   "cell_type": "markdown",
   "id": "f44ac472",
   "metadata": {},
   "source": [
    "Let's read in the data set nyc-rolling-sales_clean.csv. "
   ]
  },
  {
   "cell_type": "code",
   "execution_count": 3,
   "id": "931b682a",
   "metadata": {},
   "outputs": [
    {
     "data": {
      "text/html": [
       "<div>\n",
       "<style scoped>\n",
       "    .dataframe tbody tr th:only-of-type {\n",
       "        vertical-align: middle;\n",
       "    }\n",
       "\n",
       "    .dataframe tbody tr th {\n",
       "        vertical-align: top;\n",
       "    }\n",
       "\n",
       "    .dataframe thead th {\n",
       "        text-align: right;\n",
       "    }\n",
       "</style>\n",
       "<table border=\"1\" class=\"dataframe\">\n",
       "  <thead>\n",
       "    <tr style=\"text-align: right;\">\n",
       "      <th></th>\n",
       "      <th>BOROUGH</th>\n",
       "      <th>NEIGHBORHOOD</th>\n",
       "      <th>BUILDING CLASS CATEGORY</th>\n",
       "      <th>TAX CLASS AT PRESENT</th>\n",
       "      <th>BUILDING CLASS AT PRESENT</th>\n",
       "      <th>ZIP CODE</th>\n",
       "      <th>RESIDENTIAL UNITS</th>\n",
       "      <th>COMMERCIAL UNITS</th>\n",
       "      <th>TOTAL UNITS</th>\n",
       "      <th>LAND SQUARE FEET</th>\n",
       "      <th>GROSS SQUARE FEET</th>\n",
       "      <th>YEAR BUILT</th>\n",
       "      <th>TAX CLASS AT TIME OF SALE</th>\n",
       "      <th>BUILDING CLASS AT TIME OF SALE</th>\n",
       "      <th>SALE PRICE</th>\n",
       "      <th>SALE DATE</th>\n",
       "      <th>sale_year</th>\n",
       "      <th>sale_month</th>\n",
       "    </tr>\n",
       "  </thead>\n",
       "  <tbody>\n",
       "    <tr>\n",
       "      <th>0</th>\n",
       "      <td>Manhattan</td>\n",
       "      <td>ALPHABET CITY</td>\n",
       "      <td>07 RENTALS - WALKUP APARTMENTS</td>\n",
       "      <td>2B</td>\n",
       "      <td>C4</td>\n",
       "      <td>10009</td>\n",
       "      <td>10</td>\n",
       "      <td>0</td>\n",
       "      <td>10</td>\n",
       "      <td>2272.0</td>\n",
       "      <td>6794.0</td>\n",
       "      <td>1913</td>\n",
       "      <td>2</td>\n",
       "      <td>C4</td>\n",
       "      <td>3936272.0</td>\n",
       "      <td>2016-09-23</td>\n",
       "      <td>2016</td>\n",
       "      <td>9</td>\n",
       "    </tr>\n",
       "    <tr>\n",
       "      <th>1</th>\n",
       "      <td>Manhattan</td>\n",
       "      <td>ALPHABET CITY</td>\n",
       "      <td>07 RENTALS - WALKUP APARTMENTS</td>\n",
       "      <td>2B</td>\n",
       "      <td>C4</td>\n",
       "      <td>10009</td>\n",
       "      <td>8</td>\n",
       "      <td>0</td>\n",
       "      <td>8</td>\n",
       "      <td>1750.0</td>\n",
       "      <td>4226.0</td>\n",
       "      <td>1920</td>\n",
       "      <td>2</td>\n",
       "      <td>C4</td>\n",
       "      <td>3192840.0</td>\n",
       "      <td>2016-09-23</td>\n",
       "      <td>2016</td>\n",
       "      <td>9</td>\n",
       "    </tr>\n",
       "    <tr>\n",
       "      <th>2</th>\n",
       "      <td>Manhattan</td>\n",
       "      <td>ALPHABET CITY</td>\n",
       "      <td>14 RENTALS - 4-10 UNIT</td>\n",
       "      <td>2A</td>\n",
       "      <td>S3</td>\n",
       "      <td>10009</td>\n",
       "      <td>3</td>\n",
       "      <td>1</td>\n",
       "      <td>4</td>\n",
       "      <td>1520.0</td>\n",
       "      <td>3360.0</td>\n",
       "      <td>1910</td>\n",
       "      <td>2</td>\n",
       "      <td>S3</td>\n",
       "      <td>3300000.0</td>\n",
       "      <td>2016-11-15</td>\n",
       "      <td>2016</td>\n",
       "      <td>11</td>\n",
       "    </tr>\n",
       "    <tr>\n",
       "      <th>3</th>\n",
       "      <td>Manhattan</td>\n",
       "      <td>ALPHABET CITY</td>\n",
       "      <td>22 STORE BUILDINGS</td>\n",
       "      <td>4</td>\n",
       "      <td>K4</td>\n",
       "      <td>10009</td>\n",
       "      <td>0</td>\n",
       "      <td>1</td>\n",
       "      <td>1</td>\n",
       "      <td>1218.0</td>\n",
       "      <td>3586.0</td>\n",
       "      <td>1899</td>\n",
       "      <td>4</td>\n",
       "      <td>K4</td>\n",
       "      <td>3700000.0</td>\n",
       "      <td>2016-09-28</td>\n",
       "      <td>2016</td>\n",
       "      <td>9</td>\n",
       "    </tr>\n",
       "    <tr>\n",
       "      <th>4</th>\n",
       "      <td>Manhattan</td>\n",
       "      <td>CHELSEA</td>\n",
       "      <td>07 RENTALS - WALKUP APARTMENTS</td>\n",
       "      <td>2B</td>\n",
       "      <td>C4</td>\n",
       "      <td>10011</td>\n",
       "      <td>9</td>\n",
       "      <td>0</td>\n",
       "      <td>9</td>\n",
       "      <td>1566.0</td>\n",
       "      <td>6330.0</td>\n",
       "      <td>1901</td>\n",
       "      <td>2</td>\n",
       "      <td>C4</td>\n",
       "      <td>1583840.0</td>\n",
       "      <td>2017-08-31</td>\n",
       "      <td>2017</td>\n",
       "      <td>8</td>\n",
       "    </tr>\n",
       "  </tbody>\n",
       "</table>\n",
       "</div>"
      ],
      "text/plain": [
       "     BOROUGH   NEIGHBORHOOD                      BUILDING CLASS CATEGORY  \\\n",
       "0  Manhattan  ALPHABET CITY  07 RENTALS - WALKUP APARTMENTS                \n",
       "1  Manhattan  ALPHABET CITY  07 RENTALS - WALKUP APARTMENTS                \n",
       "2  Manhattan  ALPHABET CITY  14 RENTALS - 4-10 UNIT                        \n",
       "3  Manhattan  ALPHABET CITY  22 STORE BUILDINGS                            \n",
       "4  Manhattan        CHELSEA  07 RENTALS - WALKUP APARTMENTS                \n",
       "\n",
       "  TAX CLASS AT PRESENT BUILDING CLASS AT PRESENT  ZIP CODE  RESIDENTIAL UNITS  \\\n",
       "0                   2B                        C4     10009                 10   \n",
       "1                   2B                        C4     10009                  8   \n",
       "2                   2A                        S3     10009                  3   \n",
       "3                    4                        K4     10009                  0   \n",
       "4                   2B                        C4     10011                  9   \n",
       "\n",
       "   COMMERCIAL UNITS  TOTAL UNITS  LAND SQUARE FEET  GROSS SQUARE FEET  \\\n",
       "0                 0           10            2272.0             6794.0   \n",
       "1                 0            8            1750.0             4226.0   \n",
       "2                 1            4            1520.0             3360.0   \n",
       "3                 1            1            1218.0             3586.0   \n",
       "4                 0            9            1566.0             6330.0   \n",
       "\n",
       "   YEAR BUILT  TAX CLASS AT TIME OF SALE BUILDING CLASS AT TIME OF SALE  \\\n",
       "0        1913                          2                             C4   \n",
       "1        1920                          2                             C4   \n",
       "2        1910                          2                             S3   \n",
       "3        1899                          4                             K4   \n",
       "4        1901                          2                             C4   \n",
       "\n",
       "   SALE PRICE   SALE DATE  sale_year  sale_month  \n",
       "0   3936272.0  2016-09-23       2016           9  \n",
       "1   3192840.0  2016-09-23       2016           9  \n",
       "2   3300000.0  2016-11-15       2016          11  \n",
       "3   3700000.0  2016-09-28       2016           9  \n",
       "4   1583840.0  2017-08-31       2017           8  "
      ]
     },
     "execution_count": 3,
     "metadata": {},
     "output_type": "execute_result"
    }
   ],
   "source": [
    "df = pd.read_csv ('nyc-rolling-sales_clean.csv')\n",
    "df.head()"
   ]
  },
  {
   "cell_type": "markdown",
   "id": "36278d39",
   "metadata": {},
   "source": [
    "### **1. EDA - changing the type of a few feature variables**"
   ]
  },
  {
   "cell_type": "markdown",
   "id": "0b25f4a4",
   "metadata": {},
   "source": [
    "Let's make sure the datatypes are all right. "
   ]
  },
  {
   "cell_type": "code",
   "execution_count": 4,
   "id": "f57d197d",
   "metadata": {},
   "outputs": [
    {
     "name": "stdout",
     "output_type": "stream",
     "text": [
      "<class 'pandas.core.frame.DataFrame'>\n",
      "RangeIndex: 30236 entries, 0 to 30235\n",
      "Data columns (total 18 columns):\n",
      " #   Column                          Non-Null Count  Dtype  \n",
      "---  ------                          --------------  -----  \n",
      " 0   BOROUGH                         30236 non-null  object \n",
      " 1   NEIGHBORHOOD                    30236 non-null  object \n",
      " 2   BUILDING CLASS CATEGORY         30236 non-null  object \n",
      " 3   TAX CLASS AT PRESENT            30236 non-null  object \n",
      " 4   BUILDING CLASS AT PRESENT       30236 non-null  object \n",
      " 5   ZIP CODE                        30236 non-null  int64  \n",
      " 6   RESIDENTIAL UNITS               30236 non-null  int64  \n",
      " 7   COMMERCIAL UNITS                30236 non-null  int64  \n",
      " 8   TOTAL UNITS                     30236 non-null  int64  \n",
      " 9   LAND SQUARE FEET                30236 non-null  float64\n",
      " 10  GROSS SQUARE FEET               30236 non-null  float64\n",
      " 11  YEAR BUILT                      30236 non-null  int64  \n",
      " 12  TAX CLASS AT TIME OF SALE       30236 non-null  int64  \n",
      " 13  BUILDING CLASS AT TIME OF SALE  30236 non-null  object \n",
      " 14  SALE PRICE                      30236 non-null  float64\n",
      " 15  SALE DATE                       30236 non-null  object \n",
      " 16  sale_year                       30236 non-null  int64  \n",
      " 17  sale_month                      30236 non-null  int64  \n",
      "dtypes: float64(3), int64(8), object(7)\n",
      "memory usage: 4.2+ MB\n"
     ]
    }
   ],
   "source": [
    "df.info()"
   ]
  },
  {
   "cell_type": "markdown",
   "id": "cf9b8374",
   "metadata": {},
   "source": [
    "It looks like some of the data are objects. We need to change them to be categorical instead. "
   ]
  },
  {
   "cell_type": "code",
   "execution_count": 5,
   "id": "ffc14d61",
   "metadata": {},
   "outputs": [
    {
     "name": "stdout",
     "output_type": "stream",
     "text": [
      "<class 'pandas.core.frame.DataFrame'>\n",
      "RangeIndex: 30236 entries, 0 to 30235\n",
      "Data columns (total 18 columns):\n",
      " #   Column                          Non-Null Count  Dtype   \n",
      "---  ------                          --------------  -----   \n",
      " 0   BOROUGH                         30236 non-null  category\n",
      " 1   NEIGHBORHOOD                    30236 non-null  category\n",
      " 2   BUILDING CLASS CATEGORY         30236 non-null  category\n",
      " 3   TAX CLASS AT PRESENT            30236 non-null  category\n",
      " 4   BUILDING CLASS AT PRESENT       30236 non-null  category\n",
      " 5   ZIP CODE                        30236 non-null  int64   \n",
      " 6   RESIDENTIAL UNITS               30236 non-null  int64   \n",
      " 7   COMMERCIAL UNITS                30236 non-null  int64   \n",
      " 8   TOTAL UNITS                     30236 non-null  int64   \n",
      " 9   LAND SQUARE FEET                30236 non-null  float64 \n",
      " 10  GROSS SQUARE FEET               30236 non-null  float64 \n",
      " 11  YEAR BUILT                      30236 non-null  int64   \n",
      " 12  TAX CLASS AT TIME OF SALE       30236 non-null  int64   \n",
      " 13  BUILDING CLASS AT TIME OF SALE  30236 non-null  category\n",
      " 14  SALE PRICE                      30236 non-null  float64 \n",
      " 15  SALE DATE                       30236 non-null  category\n",
      " 16  sale_year                       30236 non-null  int64   \n",
      " 17  sale_month                      30236 non-null  int64   \n",
      "dtypes: category(7), float64(3), int64(8)\n",
      "memory usage: 2.8 MB\n"
     ]
    }
   ],
   "source": [
    "categorical = [\"BOROUGH\", 'NEIGHBORHOOD', 'BUILDING CLASS CATEGORY', 'TAX CLASS AT PRESENT', 'BUILDING CLASS AT PRESENT', 'BUILDING CLASS AT TIME OF SALE', 'SALE DATE']\n",
    "\n",
    "for col in categorical: \n",
    "    df[col]=df[col].astype(\"category\")\n",
    "    \n",
    "\n",
    "df.info()    "
   ]
  },
  {
   "cell_type": "markdown",
   "id": "24037d43",
   "metadata": {},
   "source": [
    "It looks good! The data types we wanted to change are now categorical. "
   ]
  },
  {
   "cell_type": "markdown",
   "id": "fdeb9684",
   "metadata": {},
   "source": [
    "### **2. Define target variable as log(price)**"
   ]
  },
  {
   "cell_type": "markdown",
   "id": "dfa2d2bd",
   "metadata": {},
   "source": [
    "Let's create a column for logprice and add it to the dataframe."
   ]
  },
  {
   "cell_type": "code",
   "execution_count": 6,
   "id": "6b56e9c5",
   "metadata": {},
   "outputs": [],
   "source": [
    "df['logprice'] = np.log(df['SALE PRICE'])"
   ]
  },
  {
   "cell_type": "markdown",
   "id": "8cd73e0e",
   "metadata": {},
   "source": [
    "Using log(SALE PRICE) instead of just SALE PRICE will boost the performance of the linear model, because we expect to see decreasing returns to scale. We expect price to increase at a decreasing rate. "
   ]
  },
  {
   "cell_type": "markdown",
   "id": "8efc6809",
   "metadata": {},
   "source": [
    "### **3. Change categorical variables to dummmy variables**"
   ]
  },
  {
   "cell_type": "markdown",
   "id": "a069c382",
   "metadata": {},
   "source": [
    "Let's change all the categorical variables to dummy variables, or else we woun't be able to use them in the model."
   ]
  },
  {
   "cell_type": "code",
   "execution_count": 7,
   "id": "88cd94e7",
   "metadata": {},
   "outputs": [],
   "source": [
    "df = pd.get_dummies(df, columns = categorical, drop_first=True)"
   ]
  },
  {
   "cell_type": "markdown",
   "id": "c47ca2a4",
   "metadata": {},
   "source": [
    "### **4. Define the feature space and set the target variable**"
   ]
  },
  {
   "cell_type": "markdown",
   "id": "719af9dd",
   "metadata": {},
   "source": [
    "Now let's assign logprice as the target variable and define the feature space..."
   ]
  },
  {
   "cell_type": "code",
   "execution_count": 8,
   "id": "1fba4f0f",
   "metadata": {},
   "outputs": [],
   "source": [
    "y = df['logprice']\n",
    "X = df.drop(['logprice','SALE PRICE'], axis=1 )"
   ]
  },
  {
   "cell_type": "markdown",
   "id": "d5f8a82e",
   "metadata": {},
   "source": [
    "... and see how many features there are in the feature space. "
   ]
  },
  {
   "cell_type": "code",
   "execution_count": 9,
   "id": "33522773",
   "metadata": {},
   "outputs": [
    {
     "data": {
      "text/html": [
       "<div>\n",
       "<style scoped>\n",
       "    .dataframe tbody tr th:only-of-type {\n",
       "        vertical-align: middle;\n",
       "    }\n",
       "\n",
       "    .dataframe tbody tr th {\n",
       "        vertical-align: top;\n",
       "    }\n",
       "\n",
       "    .dataframe thead th {\n",
       "        text-align: right;\n",
       "    }\n",
       "</style>\n",
       "<table border=\"1\" class=\"dataframe\">\n",
       "  <thead>\n",
       "    <tr style=\"text-align: right;\">\n",
       "      <th></th>\n",
       "      <th>ZIP CODE</th>\n",
       "      <th>RESIDENTIAL UNITS</th>\n",
       "      <th>COMMERCIAL UNITS</th>\n",
       "      <th>TOTAL UNITS</th>\n",
       "      <th>LAND SQUARE FEET</th>\n",
       "      <th>GROSS SQUARE FEET</th>\n",
       "      <th>YEAR BUILT</th>\n",
       "      <th>TAX CLASS AT TIME OF SALE</th>\n",
       "      <th>SALE PRICE</th>\n",
       "      <th>sale_year</th>\n",
       "      <th>...</th>\n",
       "      <th>SALE DATE_2017-08-21</th>\n",
       "      <th>SALE DATE_2017-08-22</th>\n",
       "      <th>SALE DATE_2017-08-23</th>\n",
       "      <th>SALE DATE_2017-08-24</th>\n",
       "      <th>SALE DATE_2017-08-25</th>\n",
       "      <th>SALE DATE_2017-08-26</th>\n",
       "      <th>SALE DATE_2017-08-28</th>\n",
       "      <th>SALE DATE_2017-08-29</th>\n",
       "      <th>SALE DATE_2017-08-30</th>\n",
       "      <th>SALE DATE_2017-08-31</th>\n",
       "    </tr>\n",
       "  </thead>\n",
       "  <tbody>\n",
       "    <tr>\n",
       "      <th>count</th>\n",
       "      <td>30236.000000</td>\n",
       "      <td>30236.000000</td>\n",
       "      <td>30236.000000</td>\n",
       "      <td>30236.000000</td>\n",
       "      <td>3.023600e+04</td>\n",
       "      <td>3.023600e+04</td>\n",
       "      <td>30236.000000</td>\n",
       "      <td>30236.000000</td>\n",
       "      <td>3.023600e+04</td>\n",
       "      <td>30236.000000</td>\n",
       "      <td>...</td>\n",
       "      <td>30236.000000</td>\n",
       "      <td>30236.000000</td>\n",
       "      <td>30236.000000</td>\n",
       "      <td>30236.000000</td>\n",
       "      <td>30236.000000</td>\n",
       "      <td>30236.000000</td>\n",
       "      <td>30236.000000</td>\n",
       "      <td>30236.000000</td>\n",
       "      <td>30236.000000</td>\n",
       "      <td>30236.000000</td>\n",
       "    </tr>\n",
       "    <tr>\n",
       "      <th>mean</th>\n",
       "      <td>11034.538365</td>\n",
       "      <td>1.970532</td>\n",
       "      <td>0.173039</td>\n",
       "      <td>2.147804</td>\n",
       "      <td>3.133582e+03</td>\n",
       "      <td>2.440363e+03</td>\n",
       "      <td>1946.632160</td>\n",
       "      <td>1.249768</td>\n",
       "      <td>7.938200e+05</td>\n",
       "      <td>2016.649623</td>\n",
       "      <td>...</td>\n",
       "      <td>0.002679</td>\n",
       "      <td>0.002844</td>\n",
       "      <td>0.002480</td>\n",
       "      <td>0.002514</td>\n",
       "      <td>0.001819</td>\n",
       "      <td>0.000033</td>\n",
       "      <td>0.001753</td>\n",
       "      <td>0.001753</td>\n",
       "      <td>0.001521</td>\n",
       "      <td>0.000992</td>\n",
       "    </tr>\n",
       "    <tr>\n",
       "      <th>std</th>\n",
       "      <td>480.032918</td>\n",
       "      <td>12.586963</td>\n",
       "      <td>13.034598</td>\n",
       "      <td>18.198705</td>\n",
       "      <td>2.796632e+04</td>\n",
       "      <td>2.380024e+04</td>\n",
       "      <td>35.033054</td>\n",
       "      <td>0.632240</td>\n",
       "      <td>5.947252e+05</td>\n",
       "      <td>0.477096</td>\n",
       "      <td>...</td>\n",
       "      <td>0.051690</td>\n",
       "      <td>0.053257</td>\n",
       "      <td>0.049744</td>\n",
       "      <td>0.050073</td>\n",
       "      <td>0.042612</td>\n",
       "      <td>0.005751</td>\n",
       "      <td>0.041831</td>\n",
       "      <td>0.041831</td>\n",
       "      <td>0.038976</td>\n",
       "      <td>0.031484</td>\n",
       "    </tr>\n",
       "    <tr>\n",
       "      <th>min</th>\n",
       "      <td>0.000000</td>\n",
       "      <td>0.000000</td>\n",
       "      <td>0.000000</td>\n",
       "      <td>1.000000</td>\n",
       "      <td>0.000000e+00</td>\n",
       "      <td>0.000000e+00</td>\n",
       "      <td>1800.000000</td>\n",
       "      <td>1.000000</td>\n",
       "      <td>1.000100e+04</td>\n",
       "      <td>2016.000000</td>\n",
       "      <td>...</td>\n",
       "      <td>0.000000</td>\n",
       "      <td>0.000000</td>\n",
       "      <td>0.000000</td>\n",
       "      <td>0.000000</td>\n",
       "      <td>0.000000</td>\n",
       "      <td>0.000000</td>\n",
       "      <td>0.000000</td>\n",
       "      <td>0.000000</td>\n",
       "      <td>0.000000</td>\n",
       "      <td>0.000000</td>\n",
       "    </tr>\n",
       "    <tr>\n",
       "      <th>25%</th>\n",
       "      <td>10468.000000</td>\n",
       "      <td>1.000000</td>\n",
       "      <td>0.000000</td>\n",
       "      <td>1.000000</td>\n",
       "      <td>1.816500e+03</td>\n",
       "      <td>1.208000e+03</td>\n",
       "      <td>1920.000000</td>\n",
       "      <td>1.000000</td>\n",
       "      <td>4.360000e+05</td>\n",
       "      <td>2016.000000</td>\n",
       "      <td>...</td>\n",
       "      <td>0.000000</td>\n",
       "      <td>0.000000</td>\n",
       "      <td>0.000000</td>\n",
       "      <td>0.000000</td>\n",
       "      <td>0.000000</td>\n",
       "      <td>0.000000</td>\n",
       "      <td>0.000000</td>\n",
       "      <td>0.000000</td>\n",
       "      <td>0.000000</td>\n",
       "      <td>0.000000</td>\n",
       "    </tr>\n",
       "    <tr>\n",
       "      <th>50%</th>\n",
       "      <td>11221.000000</td>\n",
       "      <td>1.000000</td>\n",
       "      <td>0.000000</td>\n",
       "      <td>1.000000</td>\n",
       "      <td>2.417000e+03</td>\n",
       "      <td>1.680000e+03</td>\n",
       "      <td>1935.000000</td>\n",
       "      <td>1.000000</td>\n",
       "      <td>6.300000e+05</td>\n",
       "      <td>2017.000000</td>\n",
       "      <td>...</td>\n",
       "      <td>0.000000</td>\n",
       "      <td>0.000000</td>\n",
       "      <td>0.000000</td>\n",
       "      <td>0.000000</td>\n",
       "      <td>0.000000</td>\n",
       "      <td>0.000000</td>\n",
       "      <td>0.000000</td>\n",
       "      <td>0.000000</td>\n",
       "      <td>0.000000</td>\n",
       "      <td>0.000000</td>\n",
       "    </tr>\n",
       "    <tr>\n",
       "      <th>75%</th>\n",
       "      <td>11368.000000</td>\n",
       "      <td>2.000000</td>\n",
       "      <td>0.000000</td>\n",
       "      <td>2.000000</td>\n",
       "      <td>3.500000e+03</td>\n",
       "      <td>2.392000e+03</td>\n",
       "      <td>1970.000000</td>\n",
       "      <td>1.000000</td>\n",
       "      <td>9.400000e+05</td>\n",
       "      <td>2017.000000</td>\n",
       "      <td>...</td>\n",
       "      <td>0.000000</td>\n",
       "      <td>0.000000</td>\n",
       "      <td>0.000000</td>\n",
       "      <td>0.000000</td>\n",
       "      <td>0.000000</td>\n",
       "      <td>0.000000</td>\n",
       "      <td>0.000000</td>\n",
       "      <td>0.000000</td>\n",
       "      <td>0.000000</td>\n",
       "      <td>0.000000</td>\n",
       "    </tr>\n",
       "    <tr>\n",
       "      <th>max</th>\n",
       "      <td>11694.000000</td>\n",
       "      <td>1844.000000</td>\n",
       "      <td>2261.000000</td>\n",
       "      <td>2261.000000</td>\n",
       "      <td>4.228300e+06</td>\n",
       "      <td>3.750565e+06</td>\n",
       "      <td>2017.000000</td>\n",
       "      <td>4.000000</td>\n",
       "      <td>3.995000e+06</td>\n",
       "      <td>2017.000000</td>\n",
       "      <td>...</td>\n",
       "      <td>1.000000</td>\n",
       "      <td>1.000000</td>\n",
       "      <td>1.000000</td>\n",
       "      <td>1.000000</td>\n",
       "      <td>1.000000</td>\n",
       "      <td>1.000000</td>\n",
       "      <td>1.000000</td>\n",
       "      <td>1.000000</td>\n",
       "      <td>1.000000</td>\n",
       "      <td>1.000000</td>\n",
       "    </tr>\n",
       "  </tbody>\n",
       "</table>\n",
       "<p>8 rows × 856 columns</p>\n",
       "</div>"
      ],
      "text/plain": [
       "           ZIP CODE  RESIDENTIAL UNITS  COMMERCIAL UNITS   TOTAL UNITS  \\\n",
       "count  30236.000000       30236.000000      30236.000000  30236.000000   \n",
       "mean   11034.538365           1.970532          0.173039      2.147804   \n",
       "std      480.032918          12.586963         13.034598     18.198705   \n",
       "min        0.000000           0.000000          0.000000      1.000000   \n",
       "25%    10468.000000           1.000000          0.000000      1.000000   \n",
       "50%    11221.000000           1.000000          0.000000      1.000000   \n",
       "75%    11368.000000           2.000000          0.000000      2.000000   \n",
       "max    11694.000000        1844.000000       2261.000000   2261.000000   \n",
       "\n",
       "       LAND SQUARE FEET  GROSS SQUARE FEET    YEAR BUILT  \\\n",
       "count      3.023600e+04       3.023600e+04  30236.000000   \n",
       "mean       3.133582e+03       2.440363e+03   1946.632160   \n",
       "std        2.796632e+04       2.380024e+04     35.033054   \n",
       "min        0.000000e+00       0.000000e+00   1800.000000   \n",
       "25%        1.816500e+03       1.208000e+03   1920.000000   \n",
       "50%        2.417000e+03       1.680000e+03   1935.000000   \n",
       "75%        3.500000e+03       2.392000e+03   1970.000000   \n",
       "max        4.228300e+06       3.750565e+06   2017.000000   \n",
       "\n",
       "       TAX CLASS AT TIME OF SALE    SALE PRICE     sale_year  ...  \\\n",
       "count               30236.000000  3.023600e+04  30236.000000  ...   \n",
       "mean                    1.249768  7.938200e+05   2016.649623  ...   \n",
       "std                     0.632240  5.947252e+05      0.477096  ...   \n",
       "min                     1.000000  1.000100e+04   2016.000000  ...   \n",
       "25%                     1.000000  4.360000e+05   2016.000000  ...   \n",
       "50%                     1.000000  6.300000e+05   2017.000000  ...   \n",
       "75%                     1.000000  9.400000e+05   2017.000000  ...   \n",
       "max                     4.000000  3.995000e+06   2017.000000  ...   \n",
       "\n",
       "       SALE DATE_2017-08-21  SALE DATE_2017-08-22  SALE DATE_2017-08-23  \\\n",
       "count          30236.000000          30236.000000          30236.000000   \n",
       "mean               0.002679              0.002844              0.002480   \n",
       "std                0.051690              0.053257              0.049744   \n",
       "min                0.000000              0.000000              0.000000   \n",
       "25%                0.000000              0.000000              0.000000   \n",
       "50%                0.000000              0.000000              0.000000   \n",
       "75%                0.000000              0.000000              0.000000   \n",
       "max                1.000000              1.000000              1.000000   \n",
       "\n",
       "       SALE DATE_2017-08-24  SALE DATE_2017-08-25  SALE DATE_2017-08-26  \\\n",
       "count          30236.000000          30236.000000          30236.000000   \n",
       "mean               0.002514              0.001819              0.000033   \n",
       "std                0.050073              0.042612              0.005751   \n",
       "min                0.000000              0.000000              0.000000   \n",
       "25%                0.000000              0.000000              0.000000   \n",
       "50%                0.000000              0.000000              0.000000   \n",
       "75%                0.000000              0.000000              0.000000   \n",
       "max                1.000000              1.000000              1.000000   \n",
       "\n",
       "       SALE DATE_2017-08-28  SALE DATE_2017-08-29  SALE DATE_2017-08-30  \\\n",
       "count          30236.000000          30236.000000          30236.000000   \n",
       "mean               0.001753              0.001753              0.001521   \n",
       "std                0.041831              0.041831              0.038976   \n",
       "min                0.000000              0.000000              0.000000   \n",
       "25%                0.000000              0.000000              0.000000   \n",
       "50%                0.000000              0.000000              0.000000   \n",
       "75%                0.000000              0.000000              0.000000   \n",
       "max                1.000000              1.000000              1.000000   \n",
       "\n",
       "       SALE DATE_2017-08-31  \n",
       "count          30236.000000  \n",
       "mean               0.000992  \n",
       "std                0.031484  \n",
       "min                0.000000  \n",
       "25%                0.000000  \n",
       "50%                0.000000  \n",
       "75%                0.000000  \n",
       "max                1.000000  \n",
       "\n",
       "[8 rows x 856 columns]"
      ]
     },
     "execution_count": 9,
     "metadata": {},
     "output_type": "execute_result"
    }
   ],
   "source": [
    "df.describe()"
   ]
  },
  {
   "cell_type": "markdown",
   "id": "78504e94",
   "metadata": {},
   "source": [
    "Wow! There are 856 features in X!"
   ]
  },
  {
   "cell_type": "markdown",
   "id": "807b8134",
   "metadata": {},
   "source": [
    "### **5. Split the data into test and train set** "
   ]
  },
  {
   "cell_type": "markdown",
   "id": "33e9ce1f",
   "metadata": {},
   "source": [
    "Let's split the data into the test (30%) and the train set (70%). "
   ]
  },
  {
   "cell_type": "code",
   "execution_count": 10,
   "id": "50ea39cc",
   "metadata": {},
   "outputs": [
    {
     "data": {
      "text/plain": [
       "0.7"
      ]
     },
     "execution_count": 10,
     "metadata": {},
     "output_type": "execute_result"
    }
   ],
   "source": [
    "from sklearn.model_selection import train_test_split\n",
    "X_train, X_test, y_train, y_test = train_test_split(X, y, test_size=0.3, random_state=rand_state)\n",
    "\n",
    "np.round(len(X_train)/len(X),3)"
   ]
  },
  {
   "cell_type": "code",
   "execution_count": 11,
   "id": "c71ac457",
   "metadata": {},
   "outputs": [
    {
     "data": {
      "text/html": [
       "<div>\n",
       "<style scoped>\n",
       "    .dataframe tbody tr th:only-of-type {\n",
       "        vertical-align: middle;\n",
       "    }\n",
       "\n",
       "    .dataframe tbody tr th {\n",
       "        vertical-align: top;\n",
       "    }\n",
       "\n",
       "    .dataframe thead th {\n",
       "        text-align: right;\n",
       "    }\n",
       "</style>\n",
       "<table border=\"1\" class=\"dataframe\">\n",
       "  <thead>\n",
       "    <tr style=\"text-align: right;\">\n",
       "      <th></th>\n",
       "      <th>ZIP CODE</th>\n",
       "      <th>RESIDENTIAL UNITS</th>\n",
       "      <th>COMMERCIAL UNITS</th>\n",
       "      <th>TOTAL UNITS</th>\n",
       "      <th>LAND SQUARE FEET</th>\n",
       "      <th>GROSS SQUARE FEET</th>\n",
       "      <th>YEAR BUILT</th>\n",
       "      <th>TAX CLASS AT TIME OF SALE</th>\n",
       "      <th>sale_year</th>\n",
       "      <th>sale_month</th>\n",
       "      <th>...</th>\n",
       "      <th>SALE DATE_2017-08-21</th>\n",
       "      <th>SALE DATE_2017-08-22</th>\n",
       "      <th>SALE DATE_2017-08-23</th>\n",
       "      <th>SALE DATE_2017-08-24</th>\n",
       "      <th>SALE DATE_2017-08-25</th>\n",
       "      <th>SALE DATE_2017-08-26</th>\n",
       "      <th>SALE DATE_2017-08-28</th>\n",
       "      <th>SALE DATE_2017-08-29</th>\n",
       "      <th>SALE DATE_2017-08-30</th>\n",
       "      <th>SALE DATE_2017-08-31</th>\n",
       "    </tr>\n",
       "  </thead>\n",
       "  <tbody>\n",
       "    <tr>\n",
       "      <th>3767</th>\n",
       "      <td>11228</td>\n",
       "      <td>2</td>\n",
       "      <td>0</td>\n",
       "      <td>2</td>\n",
       "      <td>2425.0</td>\n",
       "      <td>3601.0</td>\n",
       "      <td>1935</td>\n",
       "      <td>1</td>\n",
       "      <td>2017</td>\n",
       "      <td>6</td>\n",
       "      <td>...</td>\n",
       "      <td>0</td>\n",
       "      <td>0</td>\n",
       "      <td>0</td>\n",
       "      <td>0</td>\n",
       "      <td>0</td>\n",
       "      <td>0</td>\n",
       "      <td>0</td>\n",
       "      <td>0</td>\n",
       "      <td>0</td>\n",
       "      <td>0</td>\n",
       "    </tr>\n",
       "    <tr>\n",
       "      <th>24270</th>\n",
       "      <td>11434</td>\n",
       "      <td>2</td>\n",
       "      <td>0</td>\n",
       "      <td>2</td>\n",
       "      <td>2272.0</td>\n",
       "      <td>2100.0</td>\n",
       "      <td>2006</td>\n",
       "      <td>1</td>\n",
       "      <td>2017</td>\n",
       "      <td>3</td>\n",
       "      <td>...</td>\n",
       "      <td>0</td>\n",
       "      <td>0</td>\n",
       "      <td>0</td>\n",
       "      <td>0</td>\n",
       "      <td>0</td>\n",
       "      <td>0</td>\n",
       "      <td>0</td>\n",
       "      <td>0</td>\n",
       "      <td>0</td>\n",
       "      <td>0</td>\n",
       "    </tr>\n",
       "    <tr>\n",
       "      <th>27718</th>\n",
       "      <td>10305</td>\n",
       "      <td>2</td>\n",
       "      <td>0</td>\n",
       "      <td>2</td>\n",
       "      <td>3572.0</td>\n",
       "      <td>1718.0</td>\n",
       "      <td>1970</td>\n",
       "      <td>1</td>\n",
       "      <td>2017</td>\n",
       "      <td>3</td>\n",
       "      <td>...</td>\n",
       "      <td>0</td>\n",
       "      <td>0</td>\n",
       "      <td>0</td>\n",
       "      <td>0</td>\n",
       "      <td>0</td>\n",
       "      <td>0</td>\n",
       "      <td>0</td>\n",
       "      <td>0</td>\n",
       "      <td>0</td>\n",
       "      <td>0</td>\n",
       "    </tr>\n",
       "    <tr>\n",
       "      <th>6232</th>\n",
       "      <td>11212</td>\n",
       "      <td>4</td>\n",
       "      <td>0</td>\n",
       "      <td>4</td>\n",
       "      <td>2500.0</td>\n",
       "      <td>3116.0</td>\n",
       "      <td>1930</td>\n",
       "      <td>2</td>\n",
       "      <td>2016</td>\n",
       "      <td>9</td>\n",
       "      <td>...</td>\n",
       "      <td>0</td>\n",
       "      <td>0</td>\n",
       "      <td>0</td>\n",
       "      <td>0</td>\n",
       "      <td>0</td>\n",
       "      <td>0</td>\n",
       "      <td>0</td>\n",
       "      <td>0</td>\n",
       "      <td>0</td>\n",
       "      <td>0</td>\n",
       "    </tr>\n",
       "    <tr>\n",
       "      <th>11161</th>\n",
       "      <td>11218</td>\n",
       "      <td>2</td>\n",
       "      <td>0</td>\n",
       "      <td>2</td>\n",
       "      <td>2525.0</td>\n",
       "      <td>2000.0</td>\n",
       "      <td>1920</td>\n",
       "      <td>1</td>\n",
       "      <td>2017</td>\n",
       "      <td>1</td>\n",
       "      <td>...</td>\n",
       "      <td>0</td>\n",
       "      <td>0</td>\n",
       "      <td>0</td>\n",
       "      <td>0</td>\n",
       "      <td>0</td>\n",
       "      <td>0</td>\n",
       "      <td>0</td>\n",
       "      <td>0</td>\n",
       "      <td>0</td>\n",
       "      <td>0</td>\n",
       "    </tr>\n",
       "  </tbody>\n",
       "</table>\n",
       "<p>5 rows × 854 columns</p>\n",
       "</div>"
      ],
      "text/plain": [
       "       ZIP CODE  RESIDENTIAL UNITS  COMMERCIAL UNITS  TOTAL UNITS  \\\n",
       "3767      11228                  2                 0            2   \n",
       "24270     11434                  2                 0            2   \n",
       "27718     10305                  2                 0            2   \n",
       "6232      11212                  4                 0            4   \n",
       "11161     11218                  2                 0            2   \n",
       "\n",
       "       LAND SQUARE FEET  GROSS SQUARE FEET  YEAR BUILT  \\\n",
       "3767             2425.0             3601.0        1935   \n",
       "24270            2272.0             2100.0        2006   \n",
       "27718            3572.0             1718.0        1970   \n",
       "6232             2500.0             3116.0        1930   \n",
       "11161            2525.0             2000.0        1920   \n",
       "\n",
       "       TAX CLASS AT TIME OF SALE  sale_year  sale_month  ...  \\\n",
       "3767                           1       2017           6  ...   \n",
       "24270                          1       2017           3  ...   \n",
       "27718                          1       2017           3  ...   \n",
       "6232                           2       2016           9  ...   \n",
       "11161                          1       2017           1  ...   \n",
       "\n",
       "       SALE DATE_2017-08-21  SALE DATE_2017-08-22  SALE DATE_2017-08-23  \\\n",
       "3767                      0                     0                     0   \n",
       "24270                     0                     0                     0   \n",
       "27718                     0                     0                     0   \n",
       "6232                      0                     0                     0   \n",
       "11161                     0                     0                     0   \n",
       "\n",
       "       SALE DATE_2017-08-24  SALE DATE_2017-08-25  SALE DATE_2017-08-26  \\\n",
       "3767                      0                     0                     0   \n",
       "24270                     0                     0                     0   \n",
       "27718                     0                     0                     0   \n",
       "6232                      0                     0                     0   \n",
       "11161                     0                     0                     0   \n",
       "\n",
       "       SALE DATE_2017-08-28  SALE DATE_2017-08-29  SALE DATE_2017-08-30  \\\n",
       "3767                      0                     0                     0   \n",
       "24270                     0                     0                     0   \n",
       "27718                     0                     0                     0   \n",
       "6232                      0                     0                     0   \n",
       "11161                     0                     0                     0   \n",
       "\n",
       "       SALE DATE_2017-08-31  \n",
       "3767                      0  \n",
       "24270                     0  \n",
       "27718                     0  \n",
       "6232                      0  \n",
       "11161                     0  \n",
       "\n",
       "[5 rows x 854 columns]"
      ]
     },
     "execution_count": 11,
     "metadata": {},
     "output_type": "execute_result"
    }
   ],
   "source": [
    "X_test.head()"
   ]
  },
  {
   "cell_type": "code",
   "execution_count": 12,
   "id": "28854d47",
   "metadata": {},
   "outputs": [
    {
     "data": {
      "text/html": [
       "<div>\n",
       "<style scoped>\n",
       "    .dataframe tbody tr th:only-of-type {\n",
       "        vertical-align: middle;\n",
       "    }\n",
       "\n",
       "    .dataframe tbody tr th {\n",
       "        vertical-align: top;\n",
       "    }\n",
       "\n",
       "    .dataframe thead th {\n",
       "        text-align: right;\n",
       "    }\n",
       "</style>\n",
       "<table border=\"1\" class=\"dataframe\">\n",
       "  <thead>\n",
       "    <tr style=\"text-align: right;\">\n",
       "      <th></th>\n",
       "      <th>ZIP CODE</th>\n",
       "      <th>RESIDENTIAL UNITS</th>\n",
       "      <th>COMMERCIAL UNITS</th>\n",
       "      <th>TOTAL UNITS</th>\n",
       "      <th>LAND SQUARE FEET</th>\n",
       "      <th>GROSS SQUARE FEET</th>\n",
       "      <th>YEAR BUILT</th>\n",
       "      <th>TAX CLASS AT TIME OF SALE</th>\n",
       "      <th>sale_year</th>\n",
       "      <th>sale_month</th>\n",
       "      <th>...</th>\n",
       "      <th>SALE DATE_2017-08-21</th>\n",
       "      <th>SALE DATE_2017-08-22</th>\n",
       "      <th>SALE DATE_2017-08-23</th>\n",
       "      <th>SALE DATE_2017-08-24</th>\n",
       "      <th>SALE DATE_2017-08-25</th>\n",
       "      <th>SALE DATE_2017-08-26</th>\n",
       "      <th>SALE DATE_2017-08-28</th>\n",
       "      <th>SALE DATE_2017-08-29</th>\n",
       "      <th>SALE DATE_2017-08-30</th>\n",
       "      <th>SALE DATE_2017-08-31</th>\n",
       "    </tr>\n",
       "  </thead>\n",
       "  <tbody>\n",
       "    <tr>\n",
       "      <th>27919</th>\n",
       "      <td>10306</td>\n",
       "      <td>1</td>\n",
       "      <td>0</td>\n",
       "      <td>1</td>\n",
       "      <td>4000.0</td>\n",
       "      <td>1105.0</td>\n",
       "      <td>1945</td>\n",
       "      <td>1</td>\n",
       "      <td>2017</td>\n",
       "      <td>2</td>\n",
       "      <td>...</td>\n",
       "      <td>0</td>\n",
       "      <td>0</td>\n",
       "      <td>0</td>\n",
       "      <td>0</td>\n",
       "      <td>0</td>\n",
       "      <td>0</td>\n",
       "      <td>0</td>\n",
       "      <td>0</td>\n",
       "      <td>0</td>\n",
       "      <td>0</td>\n",
       "    </tr>\n",
       "    <tr>\n",
       "      <th>26034</th>\n",
       "      <td>10301</td>\n",
       "      <td>1</td>\n",
       "      <td>0</td>\n",
       "      <td>1</td>\n",
       "      <td>3918.0</td>\n",
       "      <td>1700.0</td>\n",
       "      <td>1992</td>\n",
       "      <td>1</td>\n",
       "      <td>2016</td>\n",
       "      <td>9</td>\n",
       "      <td>...</td>\n",
       "      <td>0</td>\n",
       "      <td>0</td>\n",
       "      <td>0</td>\n",
       "      <td>0</td>\n",
       "      <td>0</td>\n",
       "      <td>0</td>\n",
       "      <td>0</td>\n",
       "      <td>0</td>\n",
       "      <td>0</td>\n",
       "      <td>0</td>\n",
       "    </tr>\n",
       "    <tr>\n",
       "      <th>27154</th>\n",
       "      <td>10306</td>\n",
       "      <td>2</td>\n",
       "      <td>0</td>\n",
       "      <td>2</td>\n",
       "      <td>4000.0</td>\n",
       "      <td>2012.0</td>\n",
       "      <td>1965</td>\n",
       "      <td>1</td>\n",
       "      <td>2017</td>\n",
       "      <td>6</td>\n",
       "      <td>...</td>\n",
       "      <td>0</td>\n",
       "      <td>0</td>\n",
       "      <td>0</td>\n",
       "      <td>0</td>\n",
       "      <td>0</td>\n",
       "      <td>0</td>\n",
       "      <td>0</td>\n",
       "      <td>0</td>\n",
       "      <td>0</td>\n",
       "      <td>0</td>\n",
       "    </tr>\n",
       "    <tr>\n",
       "      <th>13684</th>\n",
       "      <td>11220</td>\n",
       "      <td>2</td>\n",
       "      <td>0</td>\n",
       "      <td>2</td>\n",
       "      <td>2003.0</td>\n",
       "      <td>2532.0</td>\n",
       "      <td>1910</td>\n",
       "      <td>1</td>\n",
       "      <td>2017</td>\n",
       "      <td>6</td>\n",
       "      <td>...</td>\n",
       "      <td>0</td>\n",
       "      <td>0</td>\n",
       "      <td>0</td>\n",
       "      <td>0</td>\n",
       "      <td>0</td>\n",
       "      <td>0</td>\n",
       "      <td>0</td>\n",
       "      <td>0</td>\n",
       "      <td>0</td>\n",
       "      <td>0</td>\n",
       "    </tr>\n",
       "    <tr>\n",
       "      <th>28389</th>\n",
       "      <td>10309</td>\n",
       "      <td>1</td>\n",
       "      <td>0</td>\n",
       "      <td>1</td>\n",
       "      <td>2938.0</td>\n",
       "      <td>1632.0</td>\n",
       "      <td>2003</td>\n",
       "      <td>1</td>\n",
       "      <td>2017</td>\n",
       "      <td>3</td>\n",
       "      <td>...</td>\n",
       "      <td>0</td>\n",
       "      <td>0</td>\n",
       "      <td>0</td>\n",
       "      <td>0</td>\n",
       "      <td>0</td>\n",
       "      <td>0</td>\n",
       "      <td>0</td>\n",
       "      <td>0</td>\n",
       "      <td>0</td>\n",
       "      <td>0</td>\n",
       "    </tr>\n",
       "  </tbody>\n",
       "</table>\n",
       "<p>5 rows × 854 columns</p>\n",
       "</div>"
      ],
      "text/plain": [
       "       ZIP CODE  RESIDENTIAL UNITS  COMMERCIAL UNITS  TOTAL UNITS  \\\n",
       "27919     10306                  1                 0            1   \n",
       "26034     10301                  1                 0            1   \n",
       "27154     10306                  2                 0            2   \n",
       "13684     11220                  2                 0            2   \n",
       "28389     10309                  1                 0            1   \n",
       "\n",
       "       LAND SQUARE FEET  GROSS SQUARE FEET  YEAR BUILT  \\\n",
       "27919            4000.0             1105.0        1945   \n",
       "26034            3918.0             1700.0        1992   \n",
       "27154            4000.0             2012.0        1965   \n",
       "13684            2003.0             2532.0        1910   \n",
       "28389            2938.0             1632.0        2003   \n",
       "\n",
       "       TAX CLASS AT TIME OF SALE  sale_year  sale_month  ...  \\\n",
       "27919                          1       2017           2  ...   \n",
       "26034                          1       2016           9  ...   \n",
       "27154                          1       2017           6  ...   \n",
       "13684                          1       2017           6  ...   \n",
       "28389                          1       2017           3  ...   \n",
       "\n",
       "       SALE DATE_2017-08-21  SALE DATE_2017-08-22  SALE DATE_2017-08-23  \\\n",
       "27919                     0                     0                     0   \n",
       "26034                     0                     0                     0   \n",
       "27154                     0                     0                     0   \n",
       "13684                     0                     0                     0   \n",
       "28389                     0                     0                     0   \n",
       "\n",
       "       SALE DATE_2017-08-24  SALE DATE_2017-08-25  SALE DATE_2017-08-26  \\\n",
       "27919                     0                     0                     0   \n",
       "26034                     0                     0                     0   \n",
       "27154                     0                     0                     0   \n",
       "13684                     0                     0                     0   \n",
       "28389                     0                     0                     0   \n",
       "\n",
       "       SALE DATE_2017-08-28  SALE DATE_2017-08-29  SALE DATE_2017-08-30  \\\n",
       "27919                     0                     0                     0   \n",
       "26034                     0                     0                     0   \n",
       "27154                     0                     0                     0   \n",
       "13684                     0                     0                     0   \n",
       "28389                     0                     0                     0   \n",
       "\n",
       "       SALE DATE_2017-08-31  \n",
       "27919                     0  \n",
       "26034                     0  \n",
       "27154                     0  \n",
       "13684                     0  \n",
       "28389                     0  \n",
       "\n",
       "[5 rows x 854 columns]"
      ]
     },
     "execution_count": 12,
     "metadata": {},
     "output_type": "execute_result"
    }
   ],
   "source": [
    "X_train.head()"
   ]
  },
  {
   "cell_type": "markdown",
   "id": "54619fbd",
   "metadata": {},
   "source": [
    "### **6. Train the Model**"
   ]
  },
  {
   "cell_type": "markdown",
   "id": "8565d28c",
   "metadata": {},
   "source": [
    "Now, we use the train data to train the model using Linear Regression. "
   ]
  },
  {
   "cell_type": "code",
   "execution_count": 13,
   "id": "a9b62bbf",
   "metadata": {},
   "outputs": [],
   "source": [
    "reg_model = LinearRegression()"
   ]
  },
  {
   "cell_type": "code",
   "execution_count": 14,
   "id": "bc73068d",
   "metadata": {},
   "outputs": [
    {
     "data": {
      "text/plain": [
       "LinearRegression()"
      ]
     },
     "execution_count": 14,
     "metadata": {},
     "output_type": "execute_result"
    }
   ],
   "source": [
    "reg_model.fit(X_train, y_train)"
   ]
  },
  {
   "cell_type": "markdown",
   "id": "282170a7",
   "metadata": {},
   "source": [
    "Alright! Our model is trained!"
   ]
  },
  {
   "cell_type": "markdown",
   "id": "ba651efa",
   "metadata": {},
   "source": [
    "**1) Save the predicted values for the test set as \"y_hat_test\"**"
   ]
  },
  {
   "cell_type": "code",
   "execution_count": 15,
   "id": "7b72c3fe",
   "metadata": {},
   "outputs": [],
   "source": [
    "y_hat_test = reg_model.predict(X_test) "
   ]
  },
  {
   "cell_type": "markdown",
   "id": "985b5ed1",
   "metadata": {},
   "source": [
    "**2) Construct a data frame named log_predictions**"
   ]
  },
  {
   "cell_type": "code",
   "execution_count": 16,
   "id": "ed61cb04",
   "metadata": {},
   "outputs": [
    {
     "data": {
      "text/html": [
       "<div>\n",
       "<style scoped>\n",
       "    .dataframe tbody tr th:only-of-type {\n",
       "        vertical-align: middle;\n",
       "    }\n",
       "\n",
       "    .dataframe tbody tr th {\n",
       "        vertical-align: top;\n",
       "    }\n",
       "\n",
       "    .dataframe thead th {\n",
       "        text-align: right;\n",
       "    }\n",
       "</style>\n",
       "<table border=\"1\" class=\"dataframe\">\n",
       "  <thead>\n",
       "    <tr style=\"text-align: right;\">\n",
       "      <th></th>\n",
       "      <th>actuals</th>\n",
       "      <th>predictions</th>\n",
       "      <th>resid</th>\n",
       "    </tr>\n",
       "  </thead>\n",
       "  <tbody>\n",
       "    <tr>\n",
       "      <th>3767</th>\n",
       "      <td>14.077875</td>\n",
       "      <td>13.702008</td>\n",
       "      <td>0.375866</td>\n",
       "    </tr>\n",
       "    <tr>\n",
       "      <th>24270</th>\n",
       "      <td>13.199324</td>\n",
       "      <td>12.974417</td>\n",
       "      <td>0.224907</td>\n",
       "    </tr>\n",
       "    <tr>\n",
       "      <th>27718</th>\n",
       "      <td>13.384728</td>\n",
       "      <td>13.148423</td>\n",
       "      <td>0.236305</td>\n",
       "    </tr>\n",
       "    <tr>\n",
       "      <th>6232</th>\n",
       "      <td>12.873902</td>\n",
       "      <td>13.113878</td>\n",
       "      <td>-0.239976</td>\n",
       "    </tr>\n",
       "    <tr>\n",
       "      <th>11161</th>\n",
       "      <td>13.710150</td>\n",
       "      <td>14.011840</td>\n",
       "      <td>-0.301690</td>\n",
       "    </tr>\n",
       "  </tbody>\n",
       "</table>\n",
       "</div>"
      ],
      "text/plain": [
       "         actuals  predictions     resid\n",
       "3767   14.077875    13.702008  0.375866\n",
       "24270  13.199324    12.974417  0.224907\n",
       "27718  13.384728    13.148423  0.236305\n",
       "6232   12.873902    13.113878 -0.239976\n",
       "11161  13.710150    14.011840 -0.301690"
      ]
     },
     "execution_count": 16,
     "metadata": {},
     "output_type": "execute_result"
    }
   ],
   "source": [
    "log_predictions = pd.DataFrame({'actuals':y_test, 'predictions':y_hat_test, 'resid': y_test - y_hat_test})\n",
    "log_predictions.head()"
   ]
  },
  {
   "cell_type": "markdown",
   "id": "434d2c46",
   "metadata": {},
   "source": [
    "This shows us the predictions, actuals and residuals. "
   ]
  },
  {
   "cell_type": "markdown",
   "id": "68e1ff8a",
   "metadata": {},
   "source": [
    "**3) Report the RMSE_test**"
   ]
  },
  {
   "cell_type": "markdown",
   "id": "e1b21199",
   "metadata": {},
   "source": [
    "In order to calculate the RMSE_test, we first need to find the MSE. "
   ]
  },
  {
   "cell_type": "code",
   "execution_count": 17,
   "id": "1d3be3bb",
   "metadata": {},
   "outputs": [
    {
     "data": {
      "text/plain": [
       "184366780.107"
      ]
     },
     "execution_count": 17,
     "metadata": {},
     "output_type": "execute_result"
    }
   ],
   "source": [
    "MSE_test = np.mean(np.square(log_predictions['resid']))\n",
    "np.round(MSE_test,3)"
   ]
  },
  {
   "cell_type": "markdown",
   "id": "66bded03",
   "metadata": {},
   "source": [
    "Now we can use the MSE to find the RMSE. "
   ]
  },
  {
   "cell_type": "code",
   "execution_count": 18,
   "id": "12ad46fb",
   "metadata": {
    "scrolled": true
   },
   "outputs": [
    {
     "data": {
      "text/plain": [
       "13578.173"
      ]
     },
     "execution_count": 18,
     "metadata": {},
     "output_type": "execute_result"
    }
   ],
   "source": [
    "RMSE_test = np.sqrt(MSE_test)\n",
    "np.round(RMSE_test,3)"
   ]
  },
  {
   "cell_type": "markdown",
   "id": "4acef2b3",
   "metadata": {},
   "source": [
    "The RMSE_test is **0.335**"
   ]
  },
  {
   "cell_type": "markdown",
   "id": "d24a960c",
   "metadata": {},
   "source": [
    "### **7. Estimate the RMSE_test using K-Fold Cross Validation**"
   ]
  },
  {
   "cell_type": "markdown",
   "id": "67ef7ec5",
   "metadata": {},
   "source": [
    "Let's estimate the RMSE using K-Fold Cross Validation using k = 5 and k = 10. "
   ]
  },
  {
   "cell_type": "code",
   "execution_count": 19,
   "id": "15391ecf",
   "metadata": {},
   "outputs": [],
   "source": [
    "from sklearn.model_selection import cross_val_score\n",
    "import sklearn.metrics"
   ]
  },
  {
   "cell_type": "code",
   "execution_count": 20,
   "id": "76e56749",
   "metadata": {},
   "outputs": [],
   "source": [
    "my_estimator = LinearRegression()"
   ]
  },
  {
   "cell_type": "markdown",
   "id": "0d5d5027",
   "metadata": {},
   "source": [
    "**1) Cross Validation using k = 5**"
   ]
  },
  {
   "cell_type": "code",
   "execution_count": 21,
   "id": "de4f94f9",
   "metadata": {},
   "outputs": [
    {
     "data": {
      "text/plain": [
       "array([5.29164038e+08, 2.26868276e+09, 1.88681320e+06, 3.74481709e+09,\n",
       "       2.60748851e+08])"
      ]
     },
     "execution_count": 21,
     "metadata": {},
     "output_type": "execute_result"
    }
   ],
   "source": [
    "MSE = -cross_val_score(estimator=my_estimator, X=X_train, y=y_train, cv=5, scoring=\"neg_mean_squared_error\")\n",
    "MSE"
   ]
  },
  {
   "cell_type": "code",
   "execution_count": 22,
   "id": "d4654532",
   "metadata": {
    "scrolled": true
   },
   "outputs": [
    {
     "data": {
      "text/plain": [
       "1361059909.715"
      ]
     },
     "execution_count": 22,
     "metadata": {},
     "output_type": "execute_result"
    }
   ],
   "source": [
    "MSE_5 = np.mean(MSE)\n",
    "np.round(MSE_5,3)"
   ]
  },
  {
   "cell_type": "code",
   "execution_count": 23,
   "id": "759c1581",
   "metadata": {},
   "outputs": [
    {
     "data": {
      "text/plain": [
       "array([23003.5657744 , 47630.69136925,  1373.6131906 , 61194.91062348,\n",
       "       16147.71966905])"
      ]
     },
     "execution_count": 23,
     "metadata": {},
     "output_type": "execute_result"
    }
   ],
   "source": [
    "RMSE = np.sqrt(MSE)\n",
    "RMSE"
   ]
  },
  {
   "cell_type": "code",
   "execution_count": 24,
   "id": "0918ecb1",
   "metadata": {},
   "outputs": [
    {
     "data": {
      "text/plain": [
       "29870.1"
      ]
     },
     "execution_count": 24,
     "metadata": {},
     "output_type": "execute_result"
    }
   ],
   "source": [
    "RMSE_5 = np.mean(RMSE)\n",
    "np.round(RMSE_5,3)"
   ]
  },
  {
   "cell_type": "markdown",
   "id": "154597b8",
   "metadata": {},
   "source": [
    "**2) Cross Validation using k = 10**"
   ]
  },
  {
   "cell_type": "code",
   "execution_count": 25,
   "id": "5440fb18",
   "metadata": {
    "scrolled": true
   },
   "outputs": [
    {
     "data": {
      "text/plain": [
       "array([7.56728092e+08, 1.05703061e+09, 5.11642599e+08, 6.43380704e+09,\n",
       "       9.92084025e+07, 2.70304347e+07, 2.93591161e+08, 4.23766452e+09,\n",
       "       5.76571966e+09, 4.60848918e+09])"
      ]
     },
     "execution_count": 25,
     "metadata": {},
     "output_type": "execute_result"
    }
   ],
   "source": [
    "MSE = -cross_val_score(estimator=my_estimator, X=X_train, y=y_train, cv=10, scoring=\"neg_mean_squared_error\")\n",
    "MSE"
   ]
  },
  {
   "cell_type": "code",
   "execution_count": 26,
   "id": "854e784d",
   "metadata": {},
   "outputs": [
    {
     "data": {
      "text/plain": [
       "2379091169.464"
      ]
     },
     "execution_count": 26,
     "metadata": {},
     "output_type": "execute_result"
    }
   ],
   "source": [
    "MSE_10 = np.mean(MSE)\n",
    "np.round(MSE_10,3)"
   ]
  },
  {
   "cell_type": "code",
   "execution_count": 27,
   "id": "03ee8b5d",
   "metadata": {},
   "outputs": [
    {
     "data": {
      "text/plain": [
       "array([27508.69120657, 32512.00716086, 22619.51809589, 80211.01570786,\n",
       "        9960.34148562,  5199.08017609, 17134.50205759, 65097.3465085 ,\n",
       "       75932.33603948, 67885.85402372])"
      ]
     },
     "execution_count": 27,
     "metadata": {},
     "output_type": "execute_result"
    }
   ],
   "source": [
    "RMSE = np.sqrt(MSE)\n",
    "RMSE"
   ]
  },
  {
   "cell_type": "code",
   "execution_count": 28,
   "id": "a7172c03",
   "metadata": {},
   "outputs": [
    {
     "data": {
      "text/plain": [
       "40406.069"
      ]
     },
     "execution_count": 28,
     "metadata": {},
     "output_type": "execute_result"
    }
   ],
   "source": [
    "RMSE_10 = np.mean(RMSE)\n",
    "np.round(RMSE_10,3)"
   ]
  },
  {
   "cell_type": "markdown",
   "id": "9e4939b8",
   "metadata": {},
   "source": [
    "### 8. Compare RMSE_CV with RMSE_test from part 3 and explain your observation"
   ]
  },
  {
   "cell_type": "markdown",
   "id": "47af22c4",
   "metadata": {},
   "source": [
    "RMSE_CV equals about 4.74 and the RMSE_test equals about 0.335. The RMSE is smaller in the train set than in the version using cross validation. This is to be expected, because... "
   ]
  },
  {
   "cell_type": "markdown",
   "id": "581b3f32",
   "metadata": {},
   "source": [
    "# Question 2: "
   ]
  },
  {
   "cell_type": "code",
   "execution_count": 29,
   "id": "d520323f",
   "metadata": {},
   "outputs": [],
   "source": [
    "df_poly = pd.read_csv ('boston_polynomial.csv')"
   ]
  },
  {
   "cell_type": "markdown",
   "id": "cc78a832",
   "metadata": {},
   "source": [
    "### 1. Define x and y and create a scatterplott"
   ]
  },
  {
   "cell_type": "code",
   "execution_count": 30,
   "id": "be43c800",
   "metadata": {},
   "outputs": [],
   "source": [
    "x = np.array(df_poly['LSTAT'])\n",
    "y = np.array(df_poly['price'])"
   ]
  },
  {
   "cell_type": "code",
   "execution_count": 31,
   "id": "e58e3e7a",
   "metadata": {},
   "outputs": [
    {
     "data": {
      "text/plain": [
       "<matplotlib.collections.PathCollection at 0x7fdf44619b80>"
      ]
     },
     "execution_count": 31,
     "metadata": {},
     "output_type": "execute_result"
    },
    {
     "data": {
      "image/png": "[encoded data removed]",
      "text/plain": [
       "<Figure size 432x288 with 1 Axes>"
      ]
     },
     "metadata": {
      "needs_background": "light"
     },
     "output_type": "display_data"
    }
   ],
   "source": [
    "plt.scatter(x,y)"
   ]
  },
  {
   "cell_type": "markdown",
   "id": "e4e73679",
   "metadata": {},
   "source": [
    "### 2. Use PolynomialFeatures to fit and transform the data to a polynomial model"
   ]
  },
  {
   "cell_type": "code",
   "execution_count": 32,
   "id": "dea267fa",
   "metadata": {},
   "outputs": [],
   "source": [
    "from sklearn.preprocessing import PolynomialFeatures"
   ]
  },
  {
   "cell_type": "code",
   "execution_count": 33,
   "id": "eab5a16d",
   "metadata": {},
   "outputs": [],
   "source": [
    "poly = PolynomialFeatures(degree =5)"
   ]
  },
  {
   "cell_type": "code",
   "execution_count": 34,
   "id": "ae4b3431",
   "metadata": {},
   "outputs": [
    {
     "data": {
      "text/html": [
       "<div>\n",
       "<style scoped>\n",
       "    .dataframe tbody tr th:only-of-type {\n",
       "        vertical-align: middle;\n",
       "    }\n",
       "\n",
       "    .dataframe tbody tr th {\n",
       "        vertical-align: top;\n",
       "    }\n",
       "\n",
       "    .dataframe thead th {\n",
       "        text-align: right;\n",
       "    }\n",
       "</style>\n",
       "<table border=\"1\" class=\"dataframe\">\n",
       "  <thead>\n",
       "    <tr style=\"text-align: right;\">\n",
       "      <th></th>\n",
       "      <th>0</th>\n",
       "      <th>1</th>\n",
       "      <th>2</th>\n",
       "      <th>3</th>\n",
       "      <th>4</th>\n",
       "      <th>5</th>\n",
       "    </tr>\n",
       "  </thead>\n",
       "  <tbody>\n",
       "    <tr>\n",
       "      <th>0</th>\n",
       "      <td>1.0</td>\n",
       "      <td>4.98</td>\n",
       "      <td>24.8004</td>\n",
       "      <td>123.505992</td>\n",
       "      <td>615.059840</td>\n",
       "      <td>3062.998004</td>\n",
       "    </tr>\n",
       "    <tr>\n",
       "      <th>1</th>\n",
       "      <td>1.0</td>\n",
       "      <td>9.14</td>\n",
       "      <td>83.5396</td>\n",
       "      <td>763.551944</td>\n",
       "      <td>6978.864768</td>\n",
       "      <td>63786.823981</td>\n",
       "    </tr>\n",
       "    <tr>\n",
       "      <th>2</th>\n",
       "      <td>1.0</td>\n",
       "      <td>4.03</td>\n",
       "      <td>16.2409</td>\n",
       "      <td>65.450827</td>\n",
       "      <td>263.766833</td>\n",
       "      <td>1062.980336</td>\n",
       "    </tr>\n",
       "    <tr>\n",
       "      <th>3</th>\n",
       "      <td>1.0</td>\n",
       "      <td>2.94</td>\n",
       "      <td>8.6436</td>\n",
       "      <td>25.412184</td>\n",
       "      <td>74.711821</td>\n",
       "      <td>219.652754</td>\n",
       "    </tr>\n",
       "    <tr>\n",
       "      <th>4</th>\n",
       "      <td>1.0</td>\n",
       "      <td>5.33</td>\n",
       "      <td>28.4089</td>\n",
       "      <td>151.419437</td>\n",
       "      <td>807.065599</td>\n",
       "      <td>4301.659644</td>\n",
       "    </tr>\n",
       "  </tbody>\n",
       "</table>\n",
       "</div>"
      ],
      "text/plain": [
       "     0     1        2           3            4             5\n",
       "0  1.0  4.98  24.8004  123.505992   615.059840   3062.998004\n",
       "1  1.0  9.14  83.5396  763.551944  6978.864768  63786.823981\n",
       "2  1.0  4.03  16.2409   65.450827   263.766833   1062.980336\n",
       "3  1.0  2.94   8.6436   25.412184    74.711821    219.652754\n",
       "4  1.0  5.33  28.4089  151.419437   807.065599   4301.659644"
      ]
     },
     "execution_count": 34,
     "metadata": {},
     "output_type": "execute_result"
    }
   ],
   "source": [
    "X_poly= pd.DataFrame(poly.fit_transform(x.reshape(-1,1)))\n",
    "X_poly.head()"
   ]
  },
  {
   "cell_type": "markdown",
   "id": "71eb0032",
   "metadata": {},
   "source": [
    "### 3. Split the data into test and train set"
   ]
  },
  {
   "cell_type": "code",
   "execution_count": 35,
   "id": "e8ea6420",
   "metadata": {},
   "outputs": [],
   "source": [
    "from sklearn.model_selection import train_test_split\n",
    "X_train, X_test, y_train, y_test = train_test_split(X_poly, y, test_size=0.3, random_state=100)"
   ]
  },
  {
   "cell_type": "code",
   "execution_count": 36,
   "id": "9f5a9eb6",
   "metadata": {},
   "outputs": [
    {
     "data": {
      "text/html": [
       "<div>\n",
       "<style scoped>\n",
       "    .dataframe tbody tr th:only-of-type {\n",
       "        vertical-align: middle;\n",
       "    }\n",
       "\n",
       "    .dataframe tbody tr th {\n",
       "        vertical-align: top;\n",
       "    }\n",
       "\n",
       "    .dataframe thead th {\n",
       "        text-align: right;\n",
       "    }\n",
       "</style>\n",
       "<table border=\"1\" class=\"dataframe\">\n",
       "  <thead>\n",
       "    <tr style=\"text-align: right;\">\n",
       "      <th></th>\n",
       "      <th>0</th>\n",
       "      <th>1</th>\n",
       "      <th>2</th>\n",
       "      <th>3</th>\n",
       "      <th>4</th>\n",
       "      <th>5</th>\n",
       "    </tr>\n",
       "  </thead>\n",
       "  <tbody>\n",
       "    <tr>\n",
       "      <th>463</th>\n",
       "      <td>1.0</td>\n",
       "      <td>10.29</td>\n",
       "      <td>105.8841</td>\n",
       "      <td>1089.547389</td>\n",
       "      <td>11211.442633</td>\n",
       "      <td>1.153657e+05</td>\n",
       "    </tr>\n",
       "    <tr>\n",
       "      <th>75</th>\n",
       "      <td>1.0</td>\n",
       "      <td>8.94</td>\n",
       "      <td>79.9236</td>\n",
       "      <td>714.516984</td>\n",
       "      <td>6387.781837</td>\n",
       "      <td>5.710677e+04</td>\n",
       "    </tr>\n",
       "    <tr>\n",
       "      <th>478</th>\n",
       "      <td>1.0</td>\n",
       "      <td>18.03</td>\n",
       "      <td>325.0809</td>\n",
       "      <td>5861.208627</td>\n",
       "      <td>105677.591545</td>\n",
       "      <td>1.905367e+06</td>\n",
       "    </tr>\n",
       "    <tr>\n",
       "      <th>199</th>\n",
       "      <td>1.0</td>\n",
       "      <td>4.56</td>\n",
       "      <td>20.7936</td>\n",
       "      <td>94.818816</td>\n",
       "      <td>432.373801</td>\n",
       "      <td>1.971625e+03</td>\n",
       "    </tr>\n",
       "    <tr>\n",
       "      <th>84</th>\n",
       "      <td>1.0</td>\n",
       "      <td>9.62</td>\n",
       "      <td>92.5444</td>\n",
       "      <td>890.277128</td>\n",
       "      <td>8564.465971</td>\n",
       "      <td>8.239016e+04</td>\n",
       "    </tr>\n",
       "  </tbody>\n",
       "</table>\n",
       "</div>"
      ],
      "text/plain": [
       "       0      1         2            3              4             5\n",
       "463  1.0  10.29  105.8841  1089.547389   11211.442633  1.153657e+05\n",
       "75   1.0   8.94   79.9236   714.516984    6387.781837  5.710677e+04\n",
       "478  1.0  18.03  325.0809  5861.208627  105677.591545  1.905367e+06\n",
       "199  1.0   4.56   20.7936    94.818816     432.373801  1.971625e+03\n",
       "84   1.0   9.62   92.5444   890.277128    8564.465971  8.239016e+04"
      ]
     },
     "execution_count": 36,
     "metadata": {},
     "output_type": "execute_result"
    }
   ],
   "source": [
    "X_train.head()"
   ]
  },
  {
   "cell_type": "markdown",
   "id": "4c0ffedc",
   "metadata": {},
   "source": [
    "### 4. Use LinearRegression() to train the model"
   ]
  },
  {
   "cell_type": "code",
   "execution_count": 37,
   "id": "390053ef",
   "metadata": {},
   "outputs": [
    {
     "data": {
      "text/plain": [
       "LinearRegression()"
      ]
     },
     "execution_count": 37,
     "metadata": {},
     "output_type": "execute_result"
    }
   ],
   "source": [
    "model = LinearRegression()\n",
    "model.fit(X_train, y_train)"
   ]
  },
  {
   "cell_type": "markdown",
   "id": "3b997494",
   "metadata": {},
   "source": [
    "**1) Save the predicted values for the test set as \"y_hat_test\"**"
   ]
  },
  {
   "cell_type": "code",
   "execution_count": 38,
   "id": "1784c01a",
   "metadata": {},
   "outputs": [],
   "source": [
    "y_hat_test = model.predict(X_test)"
   ]
  },
  {
   "cell_type": "markdown",
   "id": "ae6afaf7",
   "metadata": {},
   "source": [
    "**2) Construct a data frame named predictions**"
   ]
  },
  {
   "cell_type": "code",
   "execution_count": 39,
   "id": "5b3a6e3d",
   "metadata": {
    "scrolled": true
   },
   "outputs": [
    {
     "data": {
      "text/html": [
       "<div>\n",
       "<style scoped>\n",
       "    .dataframe tbody tr th:only-of-type {\n",
       "        vertical-align: middle;\n",
       "    }\n",
       "\n",
       "    .dataframe tbody tr th {\n",
       "        vertical-align: top;\n",
       "    }\n",
       "\n",
       "    .dataframe thead th {\n",
       "        text-align: right;\n",
       "    }\n",
       "</style>\n",
       "<table border=\"1\" class=\"dataframe\">\n",
       "  <thead>\n",
       "    <tr style=\"text-align: right;\">\n",
       "      <th></th>\n",
       "      <th>y_test</th>\n",
       "      <th>y_hat_test</th>\n",
       "      <th>resid</th>\n",
       "    </tr>\n",
       "  </thead>\n",
       "  <tbody>\n",
       "    <tr>\n",
       "      <th>0</th>\n",
       "      <td>34.6</td>\n",
       "      <td>27.114768</td>\n",
       "      <td>7.485232</td>\n",
       "    </tr>\n",
       "    <tr>\n",
       "      <th>1</th>\n",
       "      <td>31.5</td>\n",
       "      <td>37.217467</td>\n",
       "      <td>-5.717467</td>\n",
       "    </tr>\n",
       "    <tr>\n",
       "      <th>2</th>\n",
       "      <td>20.6</td>\n",
       "      <td>23.184036</td>\n",
       "      <td>-2.584036</td>\n",
       "    </tr>\n",
       "    <tr>\n",
       "      <th>3</th>\n",
       "      <td>14.5</td>\n",
       "      <td>20.155145</td>\n",
       "      <td>-5.655145</td>\n",
       "    </tr>\n",
       "    <tr>\n",
       "      <th>4</th>\n",
       "      <td>16.2</td>\n",
       "      <td>21.151035</td>\n",
       "      <td>-4.951035</td>\n",
       "    </tr>\n",
       "  </tbody>\n",
       "</table>\n",
       "</div>"
      ],
      "text/plain": [
       "   y_test  y_hat_test     resid\n",
       "0    34.6   27.114768  7.485232\n",
       "1    31.5   37.217467 -5.717467\n",
       "2    20.6   23.184036 -2.584036\n",
       "3    14.5   20.155145 -5.655145\n",
       "4    16.2   21.151035 -4.951035"
      ]
     },
     "execution_count": 39,
     "metadata": {},
     "output_type": "execute_result"
    }
   ],
   "source": [
    "df_predictions = pd.DataFrame({'y_test':y_test, 'y_hat_test':y_hat_test, 'resid': y_test - y_hat_test})\n",
    "df_predictions.head()"
   ]
  },
  {
   "cell_type": "markdown",
   "id": "e40852cf",
   "metadata": {},
   "source": [
    "**3) Report the RMSE_test**"
   ]
  },
  {
   "cell_type": "code",
   "execution_count": 40,
   "id": "1dd86756",
   "metadata": {},
   "outputs": [
    {
     "data": {
      "text/plain": [
       "37.821"
      ]
     },
     "execution_count": 40,
     "metadata": {},
     "output_type": "execute_result"
    }
   ],
   "source": [
    "MSE_test = np.mean(np.square(df_predictions['resid']))\n",
    "np.round(MSE_test,3)"
   ]
  },
  {
   "cell_type": "code",
   "execution_count": 41,
   "id": "deb6ed9e",
   "metadata": {
    "scrolled": true
   },
   "outputs": [
    {
     "data": {
      "text/plain": [
       "6.15"
      ]
     },
     "execution_count": 41,
     "metadata": {},
     "output_type": "execute_result"
    }
   ],
   "source": [
    "RMSE_test = np.sqrt(MSE_test)\n",
    "np.round(RMSE_test,3)"
   ]
  },
  {
   "cell_type": "markdown",
   "id": "b457af7c",
   "metadata": {},
   "source": [
    "The RMSE for the test set is 6.15. "
   ]
  },
  {
   "cell_type": "markdown",
   "id": "15f6b41a",
   "metadata": {},
   "source": [
    "### 5. Use K-Fold Cross Validation to estimate the RMSE"
   ]
  },
  {
   "cell_type": "code",
   "execution_count": 42,
   "id": "b7d5c4f3",
   "metadata": {},
   "outputs": [],
   "source": [
    "from sklearn.model_selection import cross_val_score\n",
    "import sklearn.metrics"
   ]
  },
  {
   "cell_type": "code",
   "execution_count": 43,
   "id": "05e091f1",
   "metadata": {},
   "outputs": [],
   "source": [
    "model = LinearRegression()"
   ]
  },
  {
   "cell_type": "code",
   "execution_count": 44,
   "id": "46e7a5c1",
   "metadata": {},
   "outputs": [],
   "source": [
    "NMSE = cross_val_score(estimator = model, X = X_train, y = y_train, cv = 10 , scoring=\"neg_mean_squared_error\" )"
   ]
  },
  {
   "cell_type": "code",
   "execution_count": 45,
   "id": "74dedf7c",
   "metadata": {},
   "outputs": [
    {
     "data": {
      "text/plain": [
       "23.144965329082808"
      ]
     },
     "execution_count": 45,
     "metadata": {},
     "output_type": "execute_result"
    }
   ],
   "source": [
    "MSE_CV= np.mean(-NMSE)\n",
    "MSE_CV"
   ]
  },
  {
   "cell_type": "code",
   "execution_count": 46,
   "id": "c844ca8b",
   "metadata": {},
   "outputs": [
    {
     "data": {
      "text/plain": [
       "4.737550846849848"
      ]
     },
     "execution_count": 46,
     "metadata": {},
     "output_type": "execute_result"
    }
   ],
   "source": [
    "RMSE_CV5 = np.sqrt(-NMSE).mean()\n",
    "RMSE_CV5"
   ]
  },
  {
   "cell_type": "markdown",
   "id": "0fb7af01",
   "metadata": {},
   "source": [
    "The RMSE_test using 5 fold cross validation is 4.737"
   ]
  },
  {
   "cell_type": "markdown",
   "id": "5d9a713c",
   "metadata": {},
   "source": [
    "### 6. Using my_polynomial_regression() function from notebook for class 7"
   ]
  },
  {
   "cell_type": "code",
   "execution_count": 47,
   "id": "b9737d28",
   "metadata": {},
   "outputs": [],
   "source": [
    "import numpy as np\n",
    "import pandas as pd\n",
    "from sklearn.linear_model import LinearRegression\n",
    "from sklearn.preprocessing import PolynomialFeatures\n",
    "from sklearn.model_selection import train_test_split\n",
    "\n",
    "\n",
    "\n",
    "\n",
    "def my_polynomial_regression(poly_degree, X, y, test_size=0.3, rand_state=100):\n",
    "    \n",
    "    poly_features= PolynomialFeatures(degree=poly_degree)\n",
    "    \n",
    "    # transforms the existing features to higher degree features.\n",
    "    X_poly = pd.DataFrame(poly_features.fit_transform(X.reshape(-1,1)))   \n",
    "    \n",
    "    X_train, X_test, y_train, y_test = train_test_split(X_poly, y, test_size=test_size, random_state=rand_state)\n",
    "\n",
    "    # fit the transformed features to Linear Regression\n",
    "    poly_model = LinearRegression()\n",
    "    poly_model.fit(X_train, y_train)\n",
    "    \n",
    "  \n",
    "    # predicting on training data-set\n",
    "    y_train_predicted = poly_model.predict(X_train)\n",
    "  \n",
    "    # predicting on test data-set\n",
    "    y_test_predicted = poly_model.predict(X_test)\n",
    "  \n",
    "   # evaluating the model on training dataset\n",
    "    MSE_train = round(np.mean(np.square(y_train - y_train_predicted)),2)\n",
    "    RMSE_train = round(np.sqrt(MSE_train),2)\n",
    "\n",
    "  \n",
    "    # evaluating the model on test dataset\n",
    "    MSE_test = round(np.mean(np.square(y_test - y_test_predicted)),2)\n",
    "    RMSE_test = round(np.sqrt(MSE_test),2)\n",
    "\n",
    "\n",
    "  \n",
    "#     print(\"Traning model fit\")\n",
    "#     print(\"R2_train = {}\".format(R2_train))\n",
    "\n",
    "#     print(\"-------------------------------------------\")\n",
    "#     print(\"MSE_train = {}\".format(MSE_train))\n",
    "#     print(\"RMSE_train = {}\".format(RMSE_train))\n",
    "\n",
    "#     print(\"-------------------------------------------\")\n",
    "#     print(\"MSE_test = {}\".format(MSE_test))\n",
    "#     print(\"RMSE_test = {}\".format(RMSE_test))\n",
    "    \n",
    "    return poly_degree, RMSE_train, RMSE_test\n"
   ]
  },
  {
   "cell_type": "code",
   "execution_count": 48,
   "id": "b7284741",
   "metadata": {},
   "outputs": [
    {
     "data": {
      "text/html": [
       "<div>\n",
       "<style scoped>\n",
       "    .dataframe tbody tr th:only-of-type {\n",
       "        vertical-align: middle;\n",
       "    }\n",
       "\n",
       "    .dataframe tbody tr th {\n",
       "        vertical-align: top;\n",
       "    }\n",
       "\n",
       "    .dataframe thead th {\n",
       "        text-align: right;\n",
       "    }\n",
       "</style>\n",
       "<table border=\"1\" class=\"dataframe\">\n",
       "  <thead>\n",
       "    <tr style=\"text-align: right;\">\n",
       "      <th></th>\n",
       "      <th>Degree</th>\n",
       "      <th>RMSE_train</th>\n",
       "      <th>RMSE_test</th>\n",
       "    </tr>\n",
       "  </thead>\n",
       "  <tbody>\n",
       "    <tr>\n",
       "      <th>0</th>\n",
       "      <td>1</td>\n",
       "      <td>5.92</td>\n",
       "      <td>6.88</td>\n",
       "    </tr>\n",
       "    <tr>\n",
       "      <th>1</th>\n",
       "      <td>2</td>\n",
       "      <td>5.13</td>\n",
       "      <td>6.32</td>\n",
       "    </tr>\n",
       "    <tr>\n",
       "      <th>2</th>\n",
       "      <td>3</td>\n",
       "      <td>4.95</td>\n",
       "      <td>6.26</td>\n",
       "    </tr>\n",
       "    <tr>\n",
       "      <th>3</th>\n",
       "      <td>4</td>\n",
       "      <td>4.82</td>\n",
       "      <td>6.16</td>\n",
       "    </tr>\n",
       "    <tr>\n",
       "      <th>4</th>\n",
       "      <td>5</td>\n",
       "      <td>4.72</td>\n",
       "      <td>6.15</td>\n",
       "    </tr>\n",
       "    <tr>\n",
       "      <th>5</th>\n",
       "      <td>6</td>\n",
       "      <td>4.70</td>\n",
       "      <td>6.17</td>\n",
       "    </tr>\n",
       "    <tr>\n",
       "      <th>6</th>\n",
       "      <td>7</td>\n",
       "      <td>4.69</td>\n",
       "      <td>6.17</td>\n",
       "    </tr>\n",
       "    <tr>\n",
       "      <th>7</th>\n",
       "      <td>8</td>\n",
       "      <td>4.69</td>\n",
       "      <td>6.16</td>\n",
       "    </tr>\n",
       "    <tr>\n",
       "      <th>8</th>\n",
       "      <td>9</td>\n",
       "      <td>4.69</td>\n",
       "      <td>6.15</td>\n",
       "    </tr>\n",
       "    <tr>\n",
       "      <th>9</th>\n",
       "      <td>10</td>\n",
       "      <td>4.69</td>\n",
       "      <td>6.15</td>\n",
       "    </tr>\n",
       "  </tbody>\n",
       "</table>\n",
       "</div>"
      ],
      "text/plain": [
       "   Degree  RMSE_train  RMSE_test\n",
       "0       1        5.92       6.88\n",
       "1       2        5.13       6.32\n",
       "2       3        4.95       6.26\n",
       "3       4        4.82       6.16\n",
       "4       5        4.72       6.15\n",
       "5       6        4.70       6.17\n",
       "6       7        4.69       6.17\n",
       "7       8        4.69       6.16\n",
       "8       9        4.69       6.15\n",
       "9      10        4.69       6.15"
      ]
     },
     "execution_count": 48,
     "metadata": {},
     "output_type": "execute_result"
    }
   ],
   "source": [
    "returns= []\n",
    "for i in range(1,11):\n",
    "    returns.append(my_polynomial_regression(poly_degree=i, X=x,y=y))\n",
    "    \n",
    "output = pd.DataFrame(returns, columns=['Degree', 'RMSE_train', 'RMSE_test'])\n",
    "output"
   ]
  },
  {
   "cell_type": "markdown",
   "id": "705747d2",
   "metadata": {},
   "source": [
    "### 7. Plot the RMSE_test and RMSE_train against the Degree"
   ]
  },
  {
   "cell_type": "code",
   "execution_count": 49,
   "id": "e1fd7d43",
   "metadata": {
    "scrolled": true
   },
   "outputs": [
    {
     "data": {
      "image/png": "[encoded data removed]",
      "text/plain": [
       "<Figure size 432x288 with 1 Axes>"
      ]
     },
     "metadata": {
      "needs_background": "light"
     },
     "output_type": "display_data"
    }
   ],
   "source": [
    "output.set_index('Degree').plot()\n",
    "plt.show()"
   ]
  },
  {
   "cell_type": "markdown",
   "id": "b899bddb",
   "metadata": {},
   "source": [
    "### 8. Optimal Polynomial Degree"
   ]
  },
  {
   "cell_type": "markdown",
   "id": "94e0efa0",
   "metadata": {},
   "source": [
    "Based off of the table in part 6 and the graph in part 7, I would say that the optimal polynomial degree is 4, because this is where the test set reaches it's lowest RMSE. However, one could also argue that the model is optimal at degree 3, because the difference between the RMES_test at degree 3 vs 4 is negligable, and a simpler model (degree 3) is often prefered to a more complex model (degree 4). "
   ]
  },
  {
   "cell_type": "code",
   "execution_count": 50,
   "id": "3d3a7f83",
   "metadata": {},
   "outputs": [
    {
     "name": "stdout",
     "output_type": "stream",
     "text": [
      "[NbConvertApp] WARNING | pattern 'HW2.ipynb' matched no files\r\n",
      "This application is used to convert notebook files (*.ipynb)\r\n",
      "        to various other formats.\r\n",
      "\r\n",
      "        WARNING: THE COMMANDLINE INTERFACE MAY CHANGE IN FUTURE RELEASES.\r\n",
      "\r\n",
      "Options\r\n",
      "=======\r\n",
      "The options below are convenience aliases to configurable class-options,\r\n",
      "as listed in the \"Equivalent to\" description-line of the aliases.\r\n",
      "To see all configurable class-options for some <cmd>, use:\r\n",
      "    <cmd> --help-all\r\n",
      "\r\n",
      "--debug\r\n",
      "    set log level to logging.DEBUG (maximize logging output)\r\n",
      "    Equivalent to: [--Application.log_level=10]\r\n",
      "--show-config\r\n",
      "    Show the application's configuration (human-readable format)\r\n",
      "    Equivalent to: [--Application.show_config=True]\r\n",
      "--show-config-json\r\n",
      "    Show the application's configuration (json format)\r\n",
      "    Equivalent to: [--Application.show_config_json=True]\r\n",
      "--generate-config\r\n",
      "    generate default config file\r\n",
      "    Equivalent to: [--JupyterApp.generate_config=True]\r\n",
      "-y\r\n",
      "    Answer yes to any questions instead of prompting.\r\n",
      "    Equivalent to: [--JupyterApp.answer_yes=True]\r\n",
      "--execute\r\n",
      "    Execute the notebook prior to export.\r\n",
      "    Equivalent to: [--ExecutePreprocessor.enabled=True]\r\n",
      "--allow-errors\r\n",
      "    Continue notebook execution even if one of the cells throws an error and include the error message in the cell output (the default behaviour is to abort conversion). This flag is only relevant if '--execute' was specified, too.\r\n",
      "    Equivalent to: [--ExecutePreprocessor.allow_errors=True]\r\n",
      "--stdin\r\n",
      "    read a single notebook file from stdin. Write the resulting notebook with default basename 'notebook.*'\r\n",
      "    Equivalent to: [--NbConvertApp.from_stdin=True]\r\n",
      "--stdout\r\n",
      "    Write notebook output to stdout instead of files.\r\n",
      "    Equivalent to: [--NbConvertApp.writer_class=StdoutWriter]\r\n",
      "--inplace\r\n",
      "    Run nbconvert in place, overwriting the existing notebook (only \r\n",
      "            relevant when converting to notebook format)\r\n",
      "    Equivalent to: [--NbConvertApp.use_output_suffix=False --NbConvertApp.export_format=notebook --FilesWriter.build_directory=]\r\n",
      "--clear-output\r\n",
      "    Clear output of current file and save in place, \r\n",
      "            overwriting the existing notebook.\r\n",
      "    Equivalent to: [--NbConvertApp.use_output_suffix=False --NbConvertApp.export_format=notebook --FilesWriter.build_directory= --ClearOutputPreprocessor.enabled=True]\r\n",
      "--no-prompt\r\n",
      "    Exclude input and output prompts from converted document.\r\n",
      "    Equivalent to: [--TemplateExporter.exclude_input_prompt=True --TemplateExporter.exclude_output_prompt=True]\r\n",
      "--no-input\r\n",
      "    Exclude input cells and output prompts from converted document. \r\n",
      "            This mode is ideal for generating code-free reports.\r\n",
      "    Equivalent to: [--TemplateExporter.exclude_output_prompt=True --TemplateExporter.exclude_input=True --TemplateExporter.exclude_input_prompt=True]\r\n",
      "--allow-chromium-download\r\n",
      "    Whether to allow downloading chromium if no suitable version is found on the system.\r\n",
      "    Equivalent to: [--WebPDFExporter.allow_chromium_download=True]\r\n",
      "--log-level=<Enum>\r\n",
      "    Set the log level by value or name.\r\n",
      "    Choices: any of [0, 10, 20, 30, 40, 50, 'DEBUG', 'INFO', 'WARN', 'ERROR', 'CRITICAL']\r\n",
      "    Default: 30\r\n",
      "    Equivalent to: [--Application.log_level]\r\n",
      "--config=<Unicode>\r\n",
      "    Full path of a config file.\r\n",
      "    Default: ''\r\n",
      "    Equivalent to: [--JupyterApp.config_file]\r\n",
      "--to=<Unicode>\r\n",
      "    The export format to be used, either one of the built-in formats\r\n",
      "            ['asciidoc', 'custom', 'html', 'latex', 'markdown', 'notebook', 'pdf', 'python', 'rst', 'script', 'slides', 'webpdf']\r\n",
      "            or a dotted object name that represents the import path for an\r\n",
      "            ``Exporter`` class\r\n",
      "    Default: ''\r\n",
      "    Equivalent to: [--NbConvertApp.export_format]\r\n",
      "--template=<Unicode>\r\n",
      "    Name of the template to use\r\n",
      "    Default: ''\r\n",
      "    Equivalent to: [--TemplateExporter.template_name]\r\n",
      "--template-file=<Unicode>\r\n",
      "    Name of the template file to use\r\n",
      "    Default: None\r\n",
      "    Equivalent to: [--TemplateExporter.template_file]\r\n",
      "--writer=<DottedObjectName>\r\n",
      "    Writer class used to write the \r\n",
      "                                        results of the conversion\r\n",
      "    Default: 'FilesWriter'\r\n",
      "    Equivalent to: [--NbConvertApp.writer_class]\r\n",
      "--post=<DottedOrNone>\r\n",
      "    PostProcessor class used to write the\r\n",
      "                                        results of the conversion\r\n",
      "    Default: ''\r\n",
      "    Equivalent to: [--NbConvertApp.postprocessor_class]\r\n",
      "--output=<Unicode>\r\n",
      "    overwrite base name use for output files.\r\n",
      "                can only be used when converting one notebook at a time.\r\n",
      "    Default: ''\r\n",
      "    Equivalent to: [--NbConvertApp.output_base]\r\n",
      "--output-dir=<Unicode>\r\n",
      "    Directory to write output(s) to. Defaults\r\n",
      "                                  to output to the directory of each notebook. To recover\r\n",
      "                                  previous default behaviour (outputting to the current \r\n",
      "                                  working directory) use . as the flag value.\r\n",
      "    Default: ''\r\n",
      "    Equivalent to: [--FilesWriter.build_directory]\r\n",
      "--reveal-prefix=<Unicode>\r\n",
      "    The URL prefix for reveal.js (version 3.x).\r\n",
      "            This defaults to the reveal CDN, but can be any url pointing to a copy \r\n",
      "            of reveal.js. \r\n",
      "            For speaker notes to work, this must be a relative path to a local \r\n",
      "            copy of reveal.js: e.g., \"reveal.js\".\r\n",
      "            If a relative path is given, it must be a subdirectory of the\r\n",
      "            current directory (from which the server is run).\r\n",
      "            See the usage documentation\r\n",
      "            (https://nbconvert.readthedocs.io/en/latest/usage.html#reveal-js-html-slideshow)\r\n",
      "            for more details.\r\n",
      "    Default: ''\r\n",
      "    Equivalent to: [--SlidesExporter.reveal_url_prefix]\r\n",
      "--nbformat=<Enum>\r\n",
      "    The nbformat version to write.\r\n",
      "            Use this to downgrade notebooks.\r\n",
      "    Choices: any of [1, 2, 3, 4]\r\n",
      "    Default: 4\r\n",
      "    Equivalent to: [--NotebookExporter.nbformat_version]\r\n",
      "\r\n",
      "Examples\r\n",
      "--------\r\n",
      "\r\n",
      "    The simplest way to use nbconvert is\r\n",
      "\r\n",
      "            > jupyter nbconvert mynotebook.ipynb --to html\r\n",
      "\r\n",
      "            Options include ['asciidoc', 'custom', 'html', 'latex', 'markdown', 'notebook', 'pdf', 'python', 'rst', 'script', 'slides', 'webpdf'].\r\n",
      "\r\n",
      "            > jupyter nbconvert --to latex mynotebook.ipynb\r\n",
      "\r\n",
      "            Both HTML and LaTeX support multiple output templates. LaTeX includes\r\n",
      "            'base', 'article' and 'report'.  HTML includes 'basic' and 'full'. You\r\n",
      "            can specify the flavor of the format used.\r\n",
      "\r\n",
      "            > jupyter nbconvert --to html --template lab mynotebook.ipynb\r\n",
      "\r\n",
      "            You can also pipe the output to stdout, rather than a file\r\n",
      "\r\n",
      "            > jupyter nbconvert mynotebook.ipynb --stdout\r\n",
      "\r\n",
      "            PDF is generated via latex\r\n",
      "\r\n",
      "            > jupyter nbconvert mynotebook.ipynb --to pdf\r\n",
      "\r\n",
      "            You can get (and serve) a Reveal.js-powered slideshow\r\n",
      "\r\n",
      "            > jupyter nbconvert myslides.ipynb --to slides --post serve\r\n",
      "\r\n",
      "            Multiple notebooks can be given at the command line in a couple of \r\n",
      "            different ways:\r\n",
      "\r\n",
      "            > jupyter nbconvert notebook*.ipynb\r\n",
      "            > jupyter nbconvert notebook1.ipynb notebook2.ipynb\r\n",
      "\r\n",
      "            or you can specify the notebooks list in a config file, containing::\r\n",
      "\r\n",
      "                c.NbConvertApp.notebooks = [\"my_notebook.ipynb\"]\r\n",
      "\r\n",
      "            > jupyter nbconvert --config mycfg.py\r\n",
      "\r\n",
      "To see all available configurables, use `--help-all`.\r\n",
      "\r\n"
     ]
    }
   ],
   "source": [
    "!jupyter nbconvert --to html HW2.ipynb"
   ]
  }
 ],
 "metadata": {
  "kernelspec": {
   "display_name": "Python 3 (ipykernel)",
   "language": "python",
   "name": "python3"
  },
  "language_info": {
   "codemirror_mode": {
    "name": "ipython",
    "version": 3
   },
   "file_extension": ".py",
   "mimetype": "text/x-python",
   "name": "python",
   "nbconvert_exporter": "python",
   "pygments_lexer": "ipython3",
   "version": "3.9.7"
  }
 },
 "nbformat": 4,
 "nbformat_minor": 5
}
