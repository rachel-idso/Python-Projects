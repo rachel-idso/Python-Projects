{
 "cells": [
  {
   "cell_type": "markdown",
   "id": "18c3b64c",
   "metadata": {},
   "source": [
    "# HW 11 – Boosting"
   ]
  },
  {
   "cell_type": "markdown",
   "id": "be3686cf",
   "metadata": {},
   "source": [
    "# Random Forest and Boosting – Regression"
   ]
  },
  {
   "cell_type": "code",
   "execution_count": 63,
   "id": "7de68982",
   "metadata": {},
   "outputs": [],
   "source": [
    "import numpy as np\n",
    "import pandas as pd\n",
    "import matplotlib.pyplot as plt\n",
    "import seaborn as sns\n",
    "sns.set()  #if you want to use seaborn themes with matplotlib functions\n",
    "import statsmodels.api as sm\n",
    "\n",
    "import warnings\n",
    "warnings.filterwarnings('ignore')"
   ]
  },
  {
   "cell_type": "code",
   "execution_count": 64,
   "id": "8dd3aab9",
   "metadata": {},
   "outputs": [],
   "source": [
    "rand_state = 1000"
   ]
  },
  {
   "cell_type": "code",
   "execution_count": 65,
   "id": "f79268a2",
   "metadata": {},
   "outputs": [],
   "source": [
    "df=pd.read_csv('bikeshare.csv')"
   ]
  },
  {
   "cell_type": "code",
   "execution_count": 66,
   "id": "64c47b13",
   "metadata": {},
   "outputs": [
    {
     "data": {
      "text/html": [
       "<div>\n",
       "<style scoped>\n",
       "    .dataframe tbody tr th:only-of-type {\n",
       "        vertical-align: middle;\n",
       "    }\n",
       "\n",
       "    .dataframe tbody tr th {\n",
       "        vertical-align: top;\n",
       "    }\n",
       "\n",
       "    .dataframe thead th {\n",
       "        text-align: right;\n",
       "    }\n",
       "</style>\n",
       "<table border=\"1\" class=\"dataframe\">\n",
       "  <thead>\n",
       "    <tr style=\"text-align: right;\">\n",
       "      <th></th>\n",
       "      <th>season</th>\n",
       "      <th>yr</th>\n",
       "      <th>mnth</th>\n",
       "      <th>hr</th>\n",
       "      <th>holiday</th>\n",
       "      <th>weekday</th>\n",
       "      <th>notbizday</th>\n",
       "      <th>weathersit</th>\n",
       "      <th>temp</th>\n",
       "      <th>hum</th>\n",
       "      <th>windspeed</th>\n",
       "      <th>dteday</th>\n",
       "      <th>cnt</th>\n",
       "    </tr>\n",
       "  </thead>\n",
       "  <tbody>\n",
       "    <tr>\n",
       "      <th>0</th>\n",
       "      <td>1</td>\n",
       "      <td>0</td>\n",
       "      <td>1</td>\n",
       "      <td>0</td>\n",
       "      <td>0</td>\n",
       "      <td>6</td>\n",
       "      <td>1</td>\n",
       "      <td>1</td>\n",
       "      <td>-1.334609</td>\n",
       "      <td>0.947345</td>\n",
       "      <td>-1.553844</td>\n",
       "      <td>2011-01-01</td>\n",
       "      <td>16</td>\n",
       "    </tr>\n",
       "    <tr>\n",
       "      <th>1</th>\n",
       "      <td>1</td>\n",
       "      <td>0</td>\n",
       "      <td>1</td>\n",
       "      <td>1</td>\n",
       "      <td>0</td>\n",
       "      <td>6</td>\n",
       "      <td>1</td>\n",
       "      <td>1</td>\n",
       "      <td>-1.438475</td>\n",
       "      <td>0.895513</td>\n",
       "      <td>-1.553844</td>\n",
       "      <td>2011-01-01</td>\n",
       "      <td>40</td>\n",
       "    </tr>\n",
       "    <tr>\n",
       "      <th>2</th>\n",
       "      <td>1</td>\n",
       "      <td>0</td>\n",
       "      <td>1</td>\n",
       "      <td>2</td>\n",
       "      <td>0</td>\n",
       "      <td>6</td>\n",
       "      <td>1</td>\n",
       "      <td>1</td>\n",
       "      <td>-1.438475</td>\n",
       "      <td>0.895513</td>\n",
       "      <td>-1.553844</td>\n",
       "      <td>2011-01-01</td>\n",
       "      <td>32</td>\n",
       "    </tr>\n",
       "    <tr>\n",
       "      <th>3</th>\n",
       "      <td>1</td>\n",
       "      <td>0</td>\n",
       "      <td>1</td>\n",
       "      <td>3</td>\n",
       "      <td>0</td>\n",
       "      <td>6</td>\n",
       "      <td>1</td>\n",
       "      <td>1</td>\n",
       "      <td>-1.334609</td>\n",
       "      <td>0.636351</td>\n",
       "      <td>-1.553844</td>\n",
       "      <td>2011-01-01</td>\n",
       "      <td>13</td>\n",
       "    </tr>\n",
       "    <tr>\n",
       "      <th>4</th>\n",
       "      <td>1</td>\n",
       "      <td>0</td>\n",
       "      <td>1</td>\n",
       "      <td>4</td>\n",
       "      <td>0</td>\n",
       "      <td>6</td>\n",
       "      <td>1</td>\n",
       "      <td>1</td>\n",
       "      <td>-1.334609</td>\n",
       "      <td>0.636351</td>\n",
       "      <td>-1.553844</td>\n",
       "      <td>2011-01-01</td>\n",
       "      <td>1</td>\n",
       "    </tr>\n",
       "    <tr>\n",
       "      <th>5</th>\n",
       "      <td>1</td>\n",
       "      <td>0</td>\n",
       "      <td>1</td>\n",
       "      <td>5</td>\n",
       "      <td>0</td>\n",
       "      <td>6</td>\n",
       "      <td>1</td>\n",
       "      <td>2</td>\n",
       "      <td>-1.334609</td>\n",
       "      <td>0.636351</td>\n",
       "      <td>-0.821460</td>\n",
       "      <td>2011-01-01</td>\n",
       "      <td>1</td>\n",
       "    </tr>\n",
       "    <tr>\n",
       "      <th>6</th>\n",
       "      <td>1</td>\n",
       "      <td>0</td>\n",
       "      <td>1</td>\n",
       "      <td>6</td>\n",
       "      <td>0</td>\n",
       "      <td>6</td>\n",
       "      <td>1</td>\n",
       "      <td>1</td>\n",
       "      <td>-1.438475</td>\n",
       "      <td>0.895513</td>\n",
       "      <td>-1.553844</td>\n",
       "      <td>2011-01-01</td>\n",
       "      <td>2</td>\n",
       "    </tr>\n",
       "    <tr>\n",
       "      <th>7</th>\n",
       "      <td>1</td>\n",
       "      <td>0</td>\n",
       "      <td>1</td>\n",
       "      <td>7</td>\n",
       "      <td>0</td>\n",
       "      <td>6</td>\n",
       "      <td>1</td>\n",
       "      <td>1</td>\n",
       "      <td>-1.542341</td>\n",
       "      <td>1.206507</td>\n",
       "      <td>-1.553844</td>\n",
       "      <td>2011-01-01</td>\n",
       "      <td>3</td>\n",
       "    </tr>\n",
       "    <tr>\n",
       "      <th>8</th>\n",
       "      <td>1</td>\n",
       "      <td>0</td>\n",
       "      <td>1</td>\n",
       "      <td>8</td>\n",
       "      <td>0</td>\n",
       "      <td>6</td>\n",
       "      <td>1</td>\n",
       "      <td>1</td>\n",
       "      <td>-1.334609</td>\n",
       "      <td>0.636351</td>\n",
       "      <td>-1.553844</td>\n",
       "      <td>2011-01-01</td>\n",
       "      <td>8</td>\n",
       "    </tr>\n",
       "    <tr>\n",
       "      <th>9</th>\n",
       "      <td>1</td>\n",
       "      <td>0</td>\n",
       "      <td>1</td>\n",
       "      <td>9</td>\n",
       "      <td>0</td>\n",
       "      <td>6</td>\n",
       "      <td>1</td>\n",
       "      <td>1</td>\n",
       "      <td>-0.919146</td>\n",
       "      <td>0.688184</td>\n",
       "      <td>-1.553844</td>\n",
       "      <td>2011-01-01</td>\n",
       "      <td>14</td>\n",
       "    </tr>\n",
       "  </tbody>\n",
       "</table>\n",
       "</div>"
      ],
      "text/plain": [
       "   season  yr  mnth  hr  holiday  weekday  notbizday  weathersit      temp  \\\n",
       "0       1   0     1   0        0        6          1           1 -1.334609   \n",
       "1       1   0     1   1        0        6          1           1 -1.438475   \n",
       "2       1   0     1   2        0        6          1           1 -1.438475   \n",
       "3       1   0     1   3        0        6          1           1 -1.334609   \n",
       "4       1   0     1   4        0        6          1           1 -1.334609   \n",
       "5       1   0     1   5        0        6          1           2 -1.334609   \n",
       "6       1   0     1   6        0        6          1           1 -1.438475   \n",
       "7       1   0     1   7        0        6          1           1 -1.542341   \n",
       "8       1   0     1   8        0        6          1           1 -1.334609   \n",
       "9       1   0     1   9        0        6          1           1 -0.919146   \n",
       "\n",
       "        hum  windspeed      dteday  cnt  \n",
       "0  0.947345  -1.553844  2011-01-01   16  \n",
       "1  0.895513  -1.553844  2011-01-01   40  \n",
       "2  0.895513  -1.553844  2011-01-01   32  \n",
       "3  0.636351  -1.553844  2011-01-01   13  \n",
       "4  0.636351  -1.553844  2011-01-01    1  \n",
       "5  0.636351  -0.821460  2011-01-01    1  \n",
       "6  0.895513  -1.553844  2011-01-01    2  \n",
       "7  1.206507  -1.553844  2011-01-01    3  \n",
       "8  0.636351  -1.553844  2011-01-01    8  \n",
       "9  0.688184  -1.553844  2011-01-01   14  "
      ]
     },
     "execution_count": 66,
     "metadata": {},
     "output_type": "execute_result"
    }
   ],
   "source": [
    "df.head(10)"
   ]
  },
  {
   "cell_type": "code",
   "execution_count": 67,
   "id": "ff8dfdf4",
   "metadata": {},
   "outputs": [
    {
     "name": "stdout",
     "output_type": "stream",
     "text": [
      "<class 'pandas.core.frame.DataFrame'>\n",
      "RangeIndex: 17379 entries, 0 to 17378\n",
      "Data columns (total 13 columns):\n",
      " #   Column      Non-Null Count  Dtype  \n",
      "---  ------      --------------  -----  \n",
      " 0   season      17379 non-null  int64  \n",
      " 1   yr          17379 non-null  int64  \n",
      " 2   mnth        17379 non-null  int64  \n",
      " 3   hr          17379 non-null  int64  \n",
      " 4   holiday     17379 non-null  int64  \n",
      " 5   weekday     17379 non-null  int64  \n",
      " 6   notbizday   17379 non-null  int64  \n",
      " 7   weathersit  17379 non-null  int64  \n",
      " 8   temp        17379 non-null  float64\n",
      " 9   hum         17379 non-null  float64\n",
      " 10  windspeed   17379 non-null  float64\n",
      " 11  dteday      17379 non-null  object \n",
      " 12  cnt         17379 non-null  int64  \n",
      "dtypes: float64(3), int64(9), object(1)\n",
      "memory usage: 1.7+ MB\n"
     ]
    }
   ],
   "source": [
    "df.info()"
   ]
  },
  {
   "cell_type": "code",
   "execution_count": 68,
   "id": "857ebd4f",
   "metadata": {},
   "outputs": [],
   "source": [
    "df.drop('dteday', axis=1, inplace=True)"
   ]
  },
  {
   "cell_type": "code",
   "execution_count": 69,
   "id": "08c70451",
   "metadata": {},
   "outputs": [],
   "source": [
    "ordinal_categorical = ['season', 'yr', 'mnth', 'hr', 'holiday', 'weekday', 'notbizday', 'weathersit']"
   ]
  },
  {
   "cell_type": "code",
   "execution_count": 70,
   "id": "4c9fd98b",
   "metadata": {},
   "outputs": [],
   "source": [
    "from sklearn.preprocessing import OrdinalEncoder"
   ]
  },
  {
   "cell_type": "code",
   "execution_count": 71,
   "id": "71a59c13",
   "metadata": {},
   "outputs": [],
   "source": [
    "enc = OrdinalEncoder()"
   ]
  },
  {
   "cell_type": "code",
   "execution_count": 72,
   "id": "c70b0259",
   "metadata": {},
   "outputs": [],
   "source": [
    "df[ordinal_categorical]= enc.fit_transform(df[ordinal_categorical])"
   ]
  },
  {
   "cell_type": "code",
   "execution_count": 73,
   "id": "f9d3b825",
   "metadata": {},
   "outputs": [
    {
     "data": {
      "text/html": [
       "<div>\n",
       "<style scoped>\n",
       "    .dataframe tbody tr th:only-of-type {\n",
       "        vertical-align: middle;\n",
       "    }\n",
       "\n",
       "    .dataframe tbody tr th {\n",
       "        vertical-align: top;\n",
       "    }\n",
       "\n",
       "    .dataframe thead th {\n",
       "        text-align: right;\n",
       "    }\n",
       "</style>\n",
       "<table border=\"1\" class=\"dataframe\">\n",
       "  <thead>\n",
       "    <tr style=\"text-align: right;\">\n",
       "      <th></th>\n",
       "      <th>season</th>\n",
       "      <th>yr</th>\n",
       "      <th>mnth</th>\n",
       "      <th>hr</th>\n",
       "      <th>holiday</th>\n",
       "      <th>weekday</th>\n",
       "      <th>notbizday</th>\n",
       "      <th>weathersit</th>\n",
       "      <th>temp</th>\n",
       "      <th>hum</th>\n",
       "      <th>windspeed</th>\n",
       "      <th>cnt</th>\n",
       "    </tr>\n",
       "  </thead>\n",
       "  <tbody>\n",
       "    <tr>\n",
       "      <th>0</th>\n",
       "      <td>0.0</td>\n",
       "      <td>0.0</td>\n",
       "      <td>0.0</td>\n",
       "      <td>0.0</td>\n",
       "      <td>0.0</td>\n",
       "      <td>6.0</td>\n",
       "      <td>1.0</td>\n",
       "      <td>0.0</td>\n",
       "      <td>-1.334609</td>\n",
       "      <td>0.947345</td>\n",
       "      <td>-1.553844</td>\n",
       "      <td>16</td>\n",
       "    </tr>\n",
       "    <tr>\n",
       "      <th>1</th>\n",
       "      <td>0.0</td>\n",
       "      <td>0.0</td>\n",
       "      <td>0.0</td>\n",
       "      <td>1.0</td>\n",
       "      <td>0.0</td>\n",
       "      <td>6.0</td>\n",
       "      <td>1.0</td>\n",
       "      <td>0.0</td>\n",
       "      <td>-1.438475</td>\n",
       "      <td>0.895513</td>\n",
       "      <td>-1.553844</td>\n",
       "      <td>40</td>\n",
       "    </tr>\n",
       "    <tr>\n",
       "      <th>2</th>\n",
       "      <td>0.0</td>\n",
       "      <td>0.0</td>\n",
       "      <td>0.0</td>\n",
       "      <td>2.0</td>\n",
       "      <td>0.0</td>\n",
       "      <td>6.0</td>\n",
       "      <td>1.0</td>\n",
       "      <td>0.0</td>\n",
       "      <td>-1.438475</td>\n",
       "      <td>0.895513</td>\n",
       "      <td>-1.553844</td>\n",
       "      <td>32</td>\n",
       "    </tr>\n",
       "    <tr>\n",
       "      <th>3</th>\n",
       "      <td>0.0</td>\n",
       "      <td>0.0</td>\n",
       "      <td>0.0</td>\n",
       "      <td>3.0</td>\n",
       "      <td>0.0</td>\n",
       "      <td>6.0</td>\n",
       "      <td>1.0</td>\n",
       "      <td>0.0</td>\n",
       "      <td>-1.334609</td>\n",
       "      <td>0.636351</td>\n",
       "      <td>-1.553844</td>\n",
       "      <td>13</td>\n",
       "    </tr>\n",
       "    <tr>\n",
       "      <th>4</th>\n",
       "      <td>0.0</td>\n",
       "      <td>0.0</td>\n",
       "      <td>0.0</td>\n",
       "      <td>4.0</td>\n",
       "      <td>0.0</td>\n",
       "      <td>6.0</td>\n",
       "      <td>1.0</td>\n",
       "      <td>0.0</td>\n",
       "      <td>-1.334609</td>\n",
       "      <td>0.636351</td>\n",
       "      <td>-1.553844</td>\n",
       "      <td>1</td>\n",
       "    </tr>\n",
       "  </tbody>\n",
       "</table>\n",
       "</div>"
      ],
      "text/plain": [
       "   season   yr  mnth   hr  holiday  weekday  notbizday  weathersit      temp  \\\n",
       "0     0.0  0.0   0.0  0.0      0.0      6.0        1.0         0.0 -1.334609   \n",
       "1     0.0  0.0   0.0  1.0      0.0      6.0        1.0         0.0 -1.438475   \n",
       "2     0.0  0.0   0.0  2.0      0.0      6.0        1.0         0.0 -1.438475   \n",
       "3     0.0  0.0   0.0  3.0      0.0      6.0        1.0         0.0 -1.334609   \n",
       "4     0.0  0.0   0.0  4.0      0.0      6.0        1.0         0.0 -1.334609   \n",
       "\n",
       "        hum  windspeed  cnt  \n",
       "0  0.947345  -1.553844   16  \n",
       "1  0.895513  -1.553844   40  \n",
       "2  0.895513  -1.553844   32  \n",
       "3  0.636351  -1.553844   13  \n",
       "4  0.636351  -1.553844    1  "
      ]
     },
     "execution_count": 73,
     "metadata": {},
     "output_type": "execute_result"
    }
   ],
   "source": [
    "df.head()"
   ]
  },
  {
   "cell_type": "code",
   "execution_count": 74,
   "id": "56b317de",
   "metadata": {},
   "outputs": [
    {
     "data": {
      "text/plain": [
       "[array([1, 2, 3, 4]),\n",
       " array([0, 1]),\n",
       " array([ 1,  2,  3,  4,  5,  6,  7,  8,  9, 10, 11, 12]),\n",
       " array([ 0,  1,  2,  3,  4,  5,  6,  7,  8,  9, 10, 11, 12, 13, 14, 15, 16,\n",
       "        17, 18, 19, 20, 21, 22, 23]),\n",
       " array([0, 1]),\n",
       " array([0, 1, 2, 3, 4, 5, 6]),\n",
       " array([0, 1]),\n",
       " array([1, 2, 3, 4])]"
      ]
     },
     "execution_count": 74,
     "metadata": {},
     "output_type": "execute_result"
    }
   ],
   "source": [
    "enc.categories_"
   ]
  },
  {
   "cell_type": "markdown",
   "id": "566fc8d1",
   "metadata": {},
   "source": [
    "### 1. Define your feature space and target variables. Split the data into test (30%) and train set (70%)"
   ]
  },
  {
   "cell_type": "code",
   "execution_count": 75,
   "id": "997d434e",
   "metadata": {},
   "outputs": [],
   "source": [
    "y = df['cnt']\n",
    "X = df.drop('cnt', axis=1) \n",
    "\n",
    "from sklearn.model_selection import train_test_split\n",
    "X_train, X_test, y_train, y_test = train_test_split(X, y, test_size=0.3, random_state=rand_state)"
   ]
  },
  {
   "cell_type": "markdown",
   "id": "fb6a2435",
   "metadata": {},
   "source": [
    "### 2. From sklearn.ensemble import the relevant function for RF regression. Do the followings: "
   ]
  },
  {
   "cell_type": "markdown",
   "id": "0699acb2",
   "metadata": {},
   "source": [
    "#### 1. Train the model with the default features. However use random_state=1000."
   ]
  },
  {
   "cell_type": "code",
   "execution_count": 76,
   "id": "a69e9be7",
   "metadata": {},
   "outputs": [],
   "source": [
    "from sklearn.ensemble import RandomForestRegressor"
   ]
  },
  {
   "cell_type": "code",
   "execution_count": 77,
   "id": "3eef4ca9",
   "metadata": {},
   "outputs": [
    {
     "data": {
      "text/plain": [
       "RandomForestRegressor(random_state=1000)"
      ]
     },
     "execution_count": 77,
     "metadata": {},
     "output_type": "execute_result"
    }
   ],
   "source": [
    "# Fitting RF regression to the Training set\n",
    "RF_regression = RandomForestRegressor(random_state=rand_state)\n",
    "RF_regression.fit(X_train, y_train)"
   ]
  },
  {
   "cell_type": "markdown",
   "id": "21660644",
   "metadata": {},
   "source": [
    "#### 2. Make predictions on the test set and save them as y_hat"
   ]
  },
  {
   "cell_type": "code",
   "execution_count": 78,
   "id": "37aea36a",
   "metadata": {},
   "outputs": [],
   "source": [
    "# Predicting the Test set results\n",
    "y_hat = RF_regression.predict(X_test)"
   ]
  },
  {
   "cell_type": "markdown",
   "id": "c3bfd807",
   "metadata": {},
   "source": [
    "#### 3. Construct a data frame named df_predictions with 2 columns. y_test, and y_hat  from previous part"
   ]
  },
  {
   "cell_type": "code",
   "execution_count": 79,
   "id": "ad727a17",
   "metadata": {},
   "outputs": [
    {
     "data": {
      "text/html": [
       "<div>\n",
       "<style scoped>\n",
       "    .dataframe tbody tr th:only-of-type {\n",
       "        vertical-align: middle;\n",
       "    }\n",
       "\n",
       "    .dataframe tbody tr th {\n",
       "        vertical-align: top;\n",
       "    }\n",
       "\n",
       "    .dataframe thead th {\n",
       "        text-align: right;\n",
       "    }\n",
       "</style>\n",
       "<table border=\"1\" class=\"dataframe\">\n",
       "  <thead>\n",
       "    <tr style=\"text-align: right;\">\n",
       "      <th></th>\n",
       "      <th>y_test</th>\n",
       "      <th>y_hat</th>\n",
       "    </tr>\n",
       "  </thead>\n",
       "  <tbody>\n",
       "    <tr>\n",
       "      <th>4495</th>\n",
       "      <td>26</td>\n",
       "      <td>21.38</td>\n",
       "    </tr>\n",
       "    <tr>\n",
       "      <th>4418</th>\n",
       "      <td>47</td>\n",
       "      <td>64.21</td>\n",
       "    </tr>\n",
       "    <tr>\n",
       "      <th>7141</th>\n",
       "      <td>11</td>\n",
       "      <td>4.91</td>\n",
       "    </tr>\n",
       "    <tr>\n",
       "      <th>14765</th>\n",
       "      <td>205</td>\n",
       "      <td>199.84</td>\n",
       "    </tr>\n",
       "    <tr>\n",
       "      <th>16541</th>\n",
       "      <td>65</td>\n",
       "      <td>80.55</td>\n",
       "    </tr>\n",
       "  </tbody>\n",
       "</table>\n",
       "</div>"
      ],
      "text/plain": [
       "       y_test   y_hat\n",
       "4495       26   21.38\n",
       "4418       47   64.21\n",
       "7141       11    4.91\n",
       "14765     205  199.84\n",
       "16541      65   80.55"
      ]
     },
     "execution_count": 79,
     "metadata": {},
     "output_type": "execute_result"
    }
   ],
   "source": [
    "predictions = pd.DataFrame({ 'y_test':y_test,'y_hat':y_hat})\n",
    "predictions.head()"
   ]
  },
  {
   "cell_type": "markdown",
   "id": "cd59817a",
   "metadata": {},
   "source": [
    "#### 4. Visualize actual vs predicted counts in the test set using an scatterplot. Are you visually satisfied with the regression model?"
   ]
  },
  {
   "cell_type": "code",
   "execution_count": 80,
   "id": "674c23dd",
   "metadata": {},
   "outputs": [
    {
     "data": {
      "image/png": "[encoded data removed]",
      "text/plain": [
       "<Figure size 432x288 with 1 Axes>"
      ]
     },
     "metadata": {},
     "output_type": "display_data"
    }
   ],
   "source": [
    "sns.scatterplot(x=y_test, y=y_hat, alpha=0.6)\n",
    "sns.lineplot(y_test, y_test)\n",
    "\n",
    "plt.xlabel('Actual Count', fontsize=14)\n",
    "plt.ylabel('Prediced  Count', fontsize=14)\n",
    "plt.title('Actual vs Predicted  Count (test set)', fontsize=17)\n",
    "plt.show()"
   ]
  },
  {
   "cell_type": "markdown",
   "id": "69b336ab",
   "metadata": {},
   "source": [
    "I am satisfied with the visualization. The regression line follows the pattern of the data very well. "
   ]
  },
  {
   "cell_type": "markdown",
   "id": "3960af14",
   "metadata": {},
   "source": [
    "#### 5. Report the R-squared and RMSE_test for the RFF regression model."
   ]
  },
  {
   "cell_type": "code",
   "execution_count": 81,
   "id": "b770401a",
   "metadata": {
    "scrolled": true
   },
   "outputs": [
    {
     "data": {
      "text/plain": [
       "0.9488"
      ]
     },
     "execution_count": 81,
     "metadata": {},
     "output_type": "execute_result"
    }
   ],
   "source": [
    "np.round(RF_regression.score(X_test, y_test),4)"
   ]
  },
  {
   "cell_type": "code",
   "execution_count": 82,
   "id": "17ee0437",
   "metadata": {},
   "outputs": [
    {
     "data": {
      "text/plain": [
       "41.82"
      ]
     },
     "execution_count": 82,
     "metadata": {},
     "output_type": "execute_result"
    }
   ],
   "source": [
    "MSE_test = round(np.mean(np.square(y_test - y_hat)),2)\n",
    "RMSE_test = round(np.sqrt(MSE_test),2)\n",
    "RMSE_test"
   ]
  },
  {
   "cell_type": "markdown",
   "id": "105e6aff",
   "metadata": {},
   "source": [
    "The R-squared is 0.9488 and the RMSE_test is 41.82"
   ]
  },
  {
   "cell_type": "markdown",
   "id": "b57b51b8",
   "metadata": {},
   "source": [
    "### 3. Tuning hyperparameters: \n",
    "#### I specifically want you to use the following param_grid. my_param_grid = {'n_estimators':[100,200], 'max_features':['log2', 'auto'], 'max_depth':[10,None]} . Where you able to improve the model performance? Is random forest using a small tree or bushy tree? How do yo know?"
   ]
  },
  {
   "cell_type": "code",
   "execution_count": 83,
   "id": "6ad45e2f",
   "metadata": {},
   "outputs": [],
   "source": [
    "my_param_grid = {'n_estimators':[100,200], 'max_features':['log2', 'auto'], 'max_depth':[10,None]}"
   ]
  },
  {
   "cell_type": "code",
   "execution_count": 84,
   "id": "e7b2b22c",
   "metadata": {},
   "outputs": [],
   "source": [
    "from sklearn.model_selection import GridSearchCV"
   ]
  },
  {
   "cell_type": "code",
   "execution_count": 85,
   "id": "941bf7ea",
   "metadata": {},
   "outputs": [],
   "source": [
    "grid = GridSearchCV(estimator=RandomForestRegressor(random_state=rand_state),param_grid= my_param_grid, refit = True, verbose=2, cv=5 )"
   ]
  },
  {
   "cell_type": "code",
   "execution_count": 86,
   "id": "4455b341",
   "metadata": {
    "scrolled": true
   },
   "outputs": [
    {
     "name": "stdout",
     "output_type": "stream",
     "text": [
      "Fitting 5 folds for each of 8 candidates, totalling 40 fits\n",
      "[CV] END ..max_depth=10, max_features=log2, n_estimators=100; total time=   0.7s\n",
      "[CV] END ..max_depth=10, max_features=log2, n_estimators=100; total time=   0.7s\n",
      "[CV] END ..max_depth=10, max_features=log2, n_estimators=100; total time=   0.7s\n",
      "[CV] END ..max_depth=10, max_features=log2, n_estimators=100; total time=   0.7s\n",
      "[CV] END ..max_depth=10, max_features=log2, n_estimators=100; total time=   0.7s\n",
      "[CV] END ..max_depth=10, max_features=log2, n_estimators=200; total time=   1.5s\n",
      "[CV] END ..max_depth=10, max_features=log2, n_estimators=200; total time=   1.5s\n",
      "[CV] END ..max_depth=10, max_features=log2, n_estimators=200; total time=   1.5s\n",
      "[CV] END ..max_depth=10, max_features=log2, n_estimators=200; total time=   1.5s\n",
      "[CV] END ..max_depth=10, max_features=log2, n_estimators=200; total time=   1.5s\n",
      "[CV] END ..max_depth=10, max_features=auto, n_estimators=100; total time=   2.0s\n",
      "[CV] END ..max_depth=10, max_features=auto, n_estimators=100; total time=   2.0s\n",
      "[CV] END ..max_depth=10, max_features=auto, n_estimators=100; total time=   2.0s\n",
      "[CV] END ..max_depth=10, max_features=auto, n_estimators=100; total time=   2.0s\n",
      "[CV] END ..max_depth=10, max_features=auto, n_estimators=100; total time=   2.0s\n",
      "[CV] END ..max_depth=10, max_features=auto, n_estimators=200; total time=   4.0s\n",
      "[CV] END ..max_depth=10, max_features=auto, n_estimators=200; total time=   4.0s\n",
      "[CV] END ..max_depth=10, max_features=auto, n_estimators=200; total time=   4.0s\n",
      "[CV] END ..max_depth=10, max_features=auto, n_estimators=200; total time=   4.0s\n",
      "[CV] END ..max_depth=10, max_features=auto, n_estimators=200; total time=   4.0s\n",
      "[CV] END max_depth=None, max_features=log2, n_estimators=100; total time=   1.4s\n",
      "[CV] END max_depth=None, max_features=log2, n_estimators=100; total time=   1.4s\n",
      "[CV] END max_depth=None, max_features=log2, n_estimators=100; total time=   1.4s\n",
      "[CV] END max_depth=None, max_features=log2, n_estimators=100; total time=   1.4s\n",
      "[CV] END max_depth=None, max_features=log2, n_estimators=100; total time=   1.4s\n",
      "[CV] END max_depth=None, max_features=log2, n_estimators=200; total time=   2.8s\n",
      "[CV] END max_depth=None, max_features=log2, n_estimators=200; total time=   2.7s\n",
      "[CV] END max_depth=None, max_features=log2, n_estimators=200; total time=   2.8s\n",
      "[CV] END max_depth=None, max_features=log2, n_estimators=200; total time=   2.8s\n",
      "[CV] END max_depth=None, max_features=log2, n_estimators=200; total time=   2.7s\n",
      "[CV] END max_depth=None, max_features=auto, n_estimators=100; total time=   3.4s\n",
      "[CV] END max_depth=None, max_features=auto, n_estimators=100; total time=   3.4s\n",
      "[CV] END max_depth=None, max_features=auto, n_estimators=100; total time=   3.4s\n",
      "[CV] END max_depth=None, max_features=auto, n_estimators=100; total time=   3.4s\n",
      "[CV] END max_depth=None, max_features=auto, n_estimators=100; total time=   3.4s\n",
      "[CV] END max_depth=None, max_features=auto, n_estimators=200; total time=   6.8s\n",
      "[CV] END max_depth=None, max_features=auto, n_estimators=200; total time=   6.9s\n",
      "[CV] END max_depth=None, max_features=auto, n_estimators=200; total time=   6.8s\n",
      "[CV] END max_depth=None, max_features=auto, n_estimators=200; total time=   6.8s\n",
      "[CV] END max_depth=None, max_features=auto, n_estimators=200; total time=   6.9s\n"
     ]
    },
    {
     "data": {
      "text/plain": [
       "GridSearchCV(cv=5, estimator=RandomForestRegressor(random_state=1000),\n",
       "             param_grid={'max_depth': [10, None],\n",
       "                         'max_features': ['log2', 'auto'],\n",
       "                         'n_estimators': [100, 200]},\n",
       "             verbose=2)"
      ]
     },
     "execution_count": 86,
     "metadata": {},
     "output_type": "execute_result"
    }
   ],
   "source": [
    "grid.fit(X_train,y_train)"
   ]
  },
  {
   "cell_type": "code",
   "execution_count": 87,
   "id": "bf82ae0d",
   "metadata": {
    "scrolled": true
   },
   "outputs": [
    {
     "data": {
      "text/plain": [
       "{'max_depth': None, 'max_features': 'auto', 'n_estimators': 200}"
      ]
     },
     "execution_count": 87,
     "metadata": {},
     "output_type": "execute_result"
    }
   ],
   "source": [
    "grid.best_params_"
   ]
  },
  {
   "cell_type": "code",
   "execution_count": 88,
   "id": "2034580a",
   "metadata": {},
   "outputs": [
    {
     "data": {
      "text/plain": [
       "RandomForestRegressor(n_estimators=200, random_state=1000)"
      ]
     },
     "execution_count": 88,
     "metadata": {},
     "output_type": "execute_result"
    }
   ],
   "source": [
    "grid.best_estimator_"
   ]
  },
  {
   "cell_type": "code",
   "execution_count": 89,
   "id": "c4e01f00",
   "metadata": {},
   "outputs": [],
   "source": [
    "y_hat_optimized = grid.predict(X_test)"
   ]
  },
  {
   "cell_type": "code",
   "execution_count": 90,
   "id": "a944ccf4",
   "metadata": {},
   "outputs": [
    {
     "data": {
      "text/html": [
       "<div>\n",
       "<style scoped>\n",
       "    .dataframe tbody tr th:only-of-type {\n",
       "        vertical-align: middle;\n",
       "    }\n",
       "\n",
       "    .dataframe tbody tr th {\n",
       "        vertical-align: top;\n",
       "    }\n",
       "\n",
       "    .dataframe thead th {\n",
       "        text-align: right;\n",
       "    }\n",
       "</style>\n",
       "<table border=\"1\" class=\"dataframe\">\n",
       "  <thead>\n",
       "    <tr style=\"text-align: right;\">\n",
       "      <th></th>\n",
       "      <th>y_test</th>\n",
       "      <th>y_hat</th>\n",
       "      <th>y_hat_optimized</th>\n",
       "    </tr>\n",
       "  </thead>\n",
       "  <tbody>\n",
       "    <tr>\n",
       "      <th>4495</th>\n",
       "      <td>26</td>\n",
       "      <td>21.38</td>\n",
       "      <td>21.100</td>\n",
       "    </tr>\n",
       "    <tr>\n",
       "      <th>4418</th>\n",
       "      <td>47</td>\n",
       "      <td>64.21</td>\n",
       "      <td>64.585</td>\n",
       "    </tr>\n",
       "    <tr>\n",
       "      <th>7141</th>\n",
       "      <td>11</td>\n",
       "      <td>4.91</td>\n",
       "      <td>4.905</td>\n",
       "    </tr>\n",
       "    <tr>\n",
       "      <th>14765</th>\n",
       "      <td>205</td>\n",
       "      <td>199.84</td>\n",
       "      <td>200.480</td>\n",
       "    </tr>\n",
       "    <tr>\n",
       "      <th>16541</th>\n",
       "      <td>65</td>\n",
       "      <td>80.55</td>\n",
       "      <td>76.010</td>\n",
       "    </tr>\n",
       "  </tbody>\n",
       "</table>\n",
       "</div>"
      ],
      "text/plain": [
       "       y_test   y_hat  y_hat_optimized\n",
       "4495       26   21.38           21.100\n",
       "4418       47   64.21           64.585\n",
       "7141       11    4.91            4.905\n",
       "14765     205  199.84          200.480\n",
       "16541      65   80.55           76.010"
      ]
     },
     "execution_count": 90,
     "metadata": {},
     "output_type": "execute_result"
    }
   ],
   "source": [
    "predictions['y_hat_optimized'] = y_hat_optimized\n",
    "predictions.head()"
   ]
  },
  {
   "cell_type": "code",
   "execution_count": 91,
   "id": "dc6ed480",
   "metadata": {},
   "outputs": [
    {
     "data": {
      "image/png": "[encoded data removed]",
      "text/plain": [
       "<Figure size 432x288 with 1 Axes>"
      ]
     },
     "metadata": {},
     "output_type": "display_data"
    }
   ],
   "source": [
    "sns.scatterplot(x=y_test, y=y_hat_optimized, alpha=0.6)\n",
    "sns.lineplot(y_test, y_test)\n",
    "\n",
    "plt.xlabel('Actual price', fontsize=14)\n",
    "plt.ylabel('Prediced  price', fontsize=14)\n",
    "plt.title('Actual vs optimized predicted price (test set)', fontsize=17)\n",
    "plt.show()"
   ]
  },
  {
   "cell_type": "code",
   "execution_count": 92,
   "id": "dcbbb75d",
   "metadata": {},
   "outputs": [
    {
     "data": {
      "text/plain": [
       "0.9487"
      ]
     },
     "execution_count": 92,
     "metadata": {},
     "output_type": "execute_result"
    }
   ],
   "source": [
    "np.round(grid.score(X_test, y_test),4)"
   ]
  },
  {
   "cell_type": "code",
   "execution_count": 93,
   "id": "32bef055",
   "metadata": {},
   "outputs": [
    {
     "data": {
      "text/plain": [
       "41.85"
      ]
     },
     "execution_count": 93,
     "metadata": {},
     "output_type": "execute_result"
    }
   ],
   "source": [
    "MSE_test_opt = round(np.mean(np.square(y_test - y_hat_optimized)),2)\n",
    "RMSE_test_opt = round(np.sqrt(MSE_test_opt),2)\n",
    "RMSE_test_opt"
   ]
  },
  {
   "cell_type": "markdown",
   "id": "a9850cf8",
   "metadata": {},
   "source": [
    "Before we used the grid search we had: \n",
    "    R-squared: 0.9488 and RMSE_test: 41.82\n",
    "\n",
    "After the grid search: \n",
    "    R-sqaured: 0.9487 and RMSE_test_opt: 41.85\n",
    "    \n",
    "This isn't really much of an improvement. \n",
    "\n",
    "\n",
    "Random Forest is using a ___ (small or bushy) tree because .... "
   ]
  },
  {
   "cell_type": "markdown",
   "id": "0a2c1f27",
   "metadata": {},
   "source": [
    "### 4. Cross validation and OOB observations: estimate the R2 of the test set using both CV and OOB methods and compare the results."
   ]
  },
  {
   "cell_type": "markdown",
   "id": "213be3dc",
   "metadata": {},
   "source": [
    "**Cross Validation**"
   ]
  },
  {
   "cell_type": "code",
   "execution_count": 94,
   "id": "3fa3f098",
   "metadata": {},
   "outputs": [],
   "source": [
    "from sklearn.model_selection import cross_val_score"
   ]
  },
  {
   "cell_type": "code",
   "execution_count": 95,
   "id": "944750e3",
   "metadata": {},
   "outputs": [],
   "source": [
    "R2 = cross_val_score(estimator = RandomForestRegressor(max_depth=20, max_features='sqrt', n_estimators=500), X = X_train, y = y_train, cv = 5 , scoring=\"r2\" )"
   ]
  },
  {
   "cell_type": "code",
   "execution_count": 96,
   "id": "d3160e57",
   "metadata": {},
   "outputs": [
    {
     "data": {
      "text/plain": [
       "0.8963"
      ]
     },
     "execution_count": 96,
     "metadata": {},
     "output_type": "execute_result"
    }
   ],
   "source": [
    "R2_CV = round(np.mean(R2),4)\n",
    "R2_CV"
   ]
  },
  {
   "cell_type": "markdown",
   "id": "72096edc",
   "metadata": {},
   "source": [
    "**Out-of-Bag errors**"
   ]
  },
  {
   "cell_type": "code",
   "execution_count": 97,
   "id": "f75eb50a",
   "metadata": {},
   "outputs": [
    {
     "data": {
      "text/plain": [
       "array([74, 57, 68, 44, 34, 22, 71, 87, 42, 14,  7, 83, 33,  7, 71, 94, 64,\n",
       "       15, 25, 96, 16, 88, 39, 23, 33, 54, 60, 58, 97, 32, 58, 65, 96, 74,\n",
       "       82, 61, 40, 78, 55, 36, 87, 58, 91, 77, 12,  1, 51, 47, 13, 47, 19,\n",
       "       37, 42, 47, 52, 76, 44, 77, 39, 60, 58, 23, 96, 79, 66, 75, 26, 20,\n",
       "       94,  1, 14, 62,  0, 89, 55,  2, 67,  5, 57, 39, 37, 10,  1,  5, 58,\n",
       "       90, 34, 73, 75, 17, 55, 62, 87, 45, 55, 65, 25, 83, 78, 67])"
      ]
     },
     "execution_count": 97,
     "metadata": {},
     "output_type": "execute_result"
    }
   ],
   "source": [
    "np.random.choice(100,size=100)"
   ]
  },
  {
   "cell_type": "code",
   "execution_count": 98,
   "id": "18ab639e",
   "metadata": {},
   "outputs": [
    {
     "data": {
      "text/plain": [
       "64"
      ]
     },
     "execution_count": 98,
     "metadata": {},
     "output_type": "execute_result"
    }
   ],
   "source": [
    "np.unique(np.random.choice (100,size=100)).size"
   ]
  },
  {
   "cell_type": "code",
   "execution_count": 99,
   "id": "305c7ba5",
   "metadata": {},
   "outputs": [
    {
     "data": {
      "text/plain": [
       "RandomForestRegressor(max_depth=20, max_features='sqrt', n_estimators=500,\n",
       "                      oob_score=True)"
      ]
     },
     "execution_count": 99,
     "metadata": {},
     "output_type": "execute_result"
    }
   ],
   "source": [
    "RF_oob = RandomForestRegressor(max_depth=20, max_features='sqrt', n_estimators=500, oob_score=True)\n",
    "RF_oob.fit(X_train, y_train)"
   ]
  },
  {
   "cell_type": "code",
   "execution_count": 100,
   "id": "b607bb06",
   "metadata": {},
   "outputs": [
    {
     "data": {
      "text/plain": [
       "0.9072892973572317"
      ]
     },
     "execution_count": 100,
     "metadata": {},
     "output_type": "execute_result"
    }
   ],
   "source": [
    "RF_oob.oob_score_"
   ]
  },
  {
   "cell_type": "markdown",
   "id": "f2c762d0",
   "metadata": {},
   "source": [
    "R-squared from the cross validation is 0.8959. The R-squared from the OOB method is 0.9053."
   ]
  },
  {
   "cell_type": "markdown",
   "id": "da60407b",
   "metadata": {},
   "source": [
    "### 5. Feature importance: \n",
    "#### Plot the feature importance graph and compare your top 5 important features with the top 5 most significant variables derived from a linear regression model.  Can you name a variable which was important according to RF but not significant according to linear regression model? What's going on here?"
   ]
  },
  {
   "cell_type": "code",
   "execution_count": 101,
   "id": "0e2811a6",
   "metadata": {},
   "outputs": [
    {
     "data": {
      "text/plain": [
       "['season',\n",
       " 'yr',\n",
       " 'mnth',\n",
       " 'hr',\n",
       " 'holiday',\n",
       " 'weekday',\n",
       " 'notbizday',\n",
       " 'weathersit',\n",
       " 'temp',\n",
       " 'hum',\n",
       " 'windspeed']"
      ]
     },
     "execution_count": 101,
     "metadata": {},
     "output_type": "execute_result"
    }
   ],
   "source": [
    "features = list(X_train.columns)\n",
    "features"
   ]
  },
  {
   "cell_type": "code",
   "execution_count": 102,
   "id": "2de262a5",
   "metadata": {},
   "outputs": [
    {
     "data": {
      "text/plain": [
       "RandomForestRegressor(max_depth=20, max_features='sqrt', n_estimators=500,\n",
       "                      random_state=1000)"
      ]
     },
     "execution_count": 102,
     "metadata": {},
     "output_type": "execute_result"
    }
   ],
   "source": [
    "RF_Regressor = RandomForestRegressor(n_estimators = 500, max_features='sqrt', max_depth=20, random_state= rand_state)\n",
    "RF_Regressor.fit(X_train, y_train)"
   ]
  },
  {
   "cell_type": "code",
   "execution_count": 103,
   "id": "1e19beb0",
   "metadata": {},
   "outputs": [
    {
     "data": {
      "text/plain": [
       "array([0.04019892, 0.07052285, 0.0437904 , 0.47789922, 0.00290958,\n",
       "       0.03678655, 0.03079878, 0.0205904 , 0.13488911, 0.10172075,\n",
       "       0.03989344])"
      ]
     },
     "execution_count": 103,
     "metadata": {},
     "output_type": "execute_result"
    }
   ],
   "source": [
    "importance = RF_Regressor.feature_importances_\n",
    "importance"
   ]
  },
  {
   "cell_type": "code",
   "execution_count": 104,
   "id": "29a3679d",
   "metadata": {},
   "outputs": [
    {
     "data": {
      "text/html": [
       "<div>\n",
       "<style scoped>\n",
       "    .dataframe tbody tr th:only-of-type {\n",
       "        vertical-align: middle;\n",
       "    }\n",
       "\n",
       "    .dataframe tbody tr th {\n",
       "        vertical-align: top;\n",
       "    }\n",
       "\n",
       "    .dataframe thead th {\n",
       "        text-align: right;\n",
       "    }\n",
       "</style>\n",
       "<table border=\"1\" class=\"dataframe\">\n",
       "  <thead>\n",
       "    <tr style=\"text-align: right;\">\n",
       "      <th></th>\n",
       "      <th>Features</th>\n",
       "      <th>Feature_importance</th>\n",
       "    </tr>\n",
       "  </thead>\n",
       "  <tbody>\n",
       "    <tr>\n",
       "      <th>4</th>\n",
       "      <td>holiday</td>\n",
       "      <td>0.002910</td>\n",
       "    </tr>\n",
       "    <tr>\n",
       "      <th>7</th>\n",
       "      <td>weathersit</td>\n",
       "      <td>0.020590</td>\n",
       "    </tr>\n",
       "    <tr>\n",
       "      <th>6</th>\n",
       "      <td>notbizday</td>\n",
       "      <td>0.030799</td>\n",
       "    </tr>\n",
       "    <tr>\n",
       "      <th>5</th>\n",
       "      <td>weekday</td>\n",
       "      <td>0.036787</td>\n",
       "    </tr>\n",
       "    <tr>\n",
       "      <th>10</th>\n",
       "      <td>windspeed</td>\n",
       "      <td>0.039893</td>\n",
       "    </tr>\n",
       "    <tr>\n",
       "      <th>0</th>\n",
       "      <td>season</td>\n",
       "      <td>0.040199</td>\n",
       "    </tr>\n",
       "    <tr>\n",
       "      <th>2</th>\n",
       "      <td>mnth</td>\n",
       "      <td>0.043790</td>\n",
       "    </tr>\n",
       "    <tr>\n",
       "      <th>1</th>\n",
       "      <td>yr</td>\n",
       "      <td>0.070523</td>\n",
       "    </tr>\n",
       "    <tr>\n",
       "      <th>9</th>\n",
       "      <td>hum</td>\n",
       "      <td>0.101721</td>\n",
       "    </tr>\n",
       "    <tr>\n",
       "      <th>8</th>\n",
       "      <td>temp</td>\n",
       "      <td>0.134889</td>\n",
       "    </tr>\n",
       "    <tr>\n",
       "      <th>3</th>\n",
       "      <td>hr</td>\n",
       "      <td>0.477899</td>\n",
       "    </tr>\n",
       "  </tbody>\n",
       "</table>\n",
       "</div>"
      ],
      "text/plain": [
       "      Features  Feature_importance\n",
       "4      holiday            0.002910\n",
       "7   weathersit            0.020590\n",
       "6    notbizday            0.030799\n",
       "5      weekday            0.036787\n",
       "10   windspeed            0.039893\n",
       "0       season            0.040199\n",
       "2         mnth            0.043790\n",
       "1           yr            0.070523\n",
       "9          hum            0.101721\n",
       "8         temp            0.134889\n",
       "3           hr            0.477899"
      ]
     },
     "execution_count": 104,
     "metadata": {},
     "output_type": "execute_result"
    }
   ],
   "source": [
    "FIM = pd.DataFrame({'Features': features, 'Feature_importance':importance})\n",
    "FIM = FIM.sort_values(by=['Feature_importance'])\n",
    "FIM"
   ]
  },
  {
   "cell_type": "code",
   "execution_count": 105,
   "id": "a61fd8f8",
   "metadata": {
    "scrolled": true
   },
   "outputs": [
    {
     "data": {
      "image/png": "[encoded data removed]",
      "text/plain": [
       "<Figure size 720x432 with 1 Axes>"
      ]
     },
     "metadata": {},
     "output_type": "display_data"
    }
   ],
   "source": [
    "plt.figure(figsize=(10,6))\n",
    "plt.title('Feature Importance')\n",
    "sns.barplot(y='Features', x='Feature_importance', data=FIM)\n",
    "plt.show()"
   ]
  },
  {
   "cell_type": "code",
   "execution_count": 106,
   "id": "f13ee81d",
   "metadata": {},
   "outputs": [],
   "source": [
    "import statsmodels.api as sm"
   ]
  },
  {
   "cell_type": "code",
   "execution_count": 107,
   "id": "175339f4",
   "metadata": {},
   "outputs": [],
   "source": [
    "# With statsmodels, we need to mannually add a constant to our dataset!\n",
    "X_test_wc = sm.add_constant(X_test)\n",
    "X_train_wc = sm.add_constant(X_train)"
   ]
  },
  {
   "cell_type": "code",
   "execution_count": 108,
   "id": "3bb21682",
   "metadata": {},
   "outputs": [],
   "source": [
    "# Fit the model\n",
    "model = sm.OLS(y_train,X_train_wc)\n",
    "statsmodels_reg= model.fit()"
   ]
  },
  {
   "cell_type": "code",
   "execution_count": 109,
   "id": "6e767809",
   "metadata": {},
   "outputs": [
    {
     "data": {
      "text/html": [
       "<table class=\"simpletable\">\n",
       "<caption>OLS Regression Results</caption>\n",
       "<tr>\n",
       "  <th>Dep. Variable:</th>           <td>cnt</td>       <th>  R-squared:         </th> <td>   0.385</td> \n",
       "</tr>\n",
       "<tr>\n",
       "  <th>Model:</th>                   <td>OLS</td>       <th>  Adj. R-squared:    </th> <td>   0.384</td> \n",
       "</tr>\n",
       "<tr>\n",
       "  <th>Method:</th>             <td>Least Squares</td>  <th>  F-statistic:       </th> <td>   691.2</td> \n",
       "</tr>\n",
       "<tr>\n",
       "  <th>Date:</th>             <td>Mon, 18 Apr 2022</td> <th>  Prob (F-statistic):</th>  <td>  0.00</td>  \n",
       "</tr>\n",
       "<tr>\n",
       "  <th>Time:</th>                 <td>20:03:45</td>     <th>  Log-Likelihood:    </th> <td> -77471.</td> \n",
       "</tr>\n",
       "<tr>\n",
       "  <th>No. Observations:</th>      <td> 12165</td>      <th>  AIC:               </th> <td>1.550e+05</td>\n",
       "</tr>\n",
       "<tr>\n",
       "  <th>Df Residuals:</th>          <td> 12153</td>      <th>  BIC:               </th> <td>1.551e+05</td>\n",
       "</tr>\n",
       "<tr>\n",
       "  <th>Df Model:</th>              <td>    11</td>      <th>                     </th>     <td> </td>    \n",
       "</tr>\n",
       "<tr>\n",
       "  <th>Covariance Type:</th>      <td>nonrobust</td>    <th>                     </th>     <td> </td>    \n",
       "</tr>\n",
       "</table>\n",
       "<table class=\"simpletable\">\n",
       "<tr>\n",
       "       <td></td>         <th>coef</th>     <th>std err</th>      <th>t</th>      <th>P>|t|</th>  <th>[0.025</th>    <th>0.975]</th>  \n",
       "</tr>\n",
       "<tr>\n",
       "  <th>const</th>      <td>   31.2885</td> <td>    4.237</td> <td>    7.384</td> <td> 0.000</td> <td>   22.982</td> <td>   39.595</td>\n",
       "</tr>\n",
       "<tr>\n",
       "  <th>season</th>     <td>   19.3442</td> <td>    2.114</td> <td>    9.149</td> <td> 0.000</td> <td>   15.199</td> <td>   23.489</td>\n",
       "</tr>\n",
       "<tr>\n",
       "  <th>yr</th>         <td>   80.3554</td> <td>    2.576</td> <td>   31.191</td> <td> 0.000</td> <td>   75.306</td> <td>   85.405</td>\n",
       "</tr>\n",
       "<tr>\n",
       "  <th>mnth</th>       <td>    0.0406</td> <td>    0.658</td> <td>    0.062</td> <td> 0.951</td> <td>   -1.249</td> <td>    1.330</td>\n",
       "</tr>\n",
       "<tr>\n",
       "  <th>hr</th>         <td>    7.4540</td> <td>    0.196</td> <td>   38.014</td> <td> 0.000</td> <td>    7.070</td> <td>    7.838</td>\n",
       "</tr>\n",
       "<tr>\n",
       "  <th>holiday</th>    <td>  -23.9886</td> <td>    7.879</td> <td>   -3.045</td> <td> 0.002</td> <td>  -39.432</td> <td>   -8.545</td>\n",
       "</tr>\n",
       "<tr>\n",
       "  <th>weekday</th>    <td>    1.7031</td> <td>    0.643</td> <td>    2.649</td> <td> 0.008</td> <td>    0.443</td> <td>    2.964</td>\n",
       "</tr>\n",
       "<tr>\n",
       "  <th>notbizday</th>  <td>   -2.4919</td> <td>    2.857</td> <td>   -0.872</td> <td> 0.383</td> <td>   -8.093</td> <td>    3.109</td>\n",
       "</tr>\n",
       "<tr>\n",
       "  <th>weathersit</th> <td>   -3.5995</td> <td>    2.274</td> <td>   -1.583</td> <td> 0.113</td> <td>   -8.057</td> <td>    0.858</td>\n",
       "</tr>\n",
       "<tr>\n",
       "  <th>temp</th>       <td>   54.3312</td> <td>    1.378</td> <td>   39.424</td> <td> 0.000</td> <td>   51.630</td> <td>   57.033</td>\n",
       "</tr>\n",
       "<tr>\n",
       "  <th>hum</th>        <td>  -37.7405</td> <td>    1.578</td> <td>  -23.919</td> <td> 0.000</td> <td>  -40.833</td> <td>  -34.648</td>\n",
       "</tr>\n",
       "<tr>\n",
       "  <th>windspeed</th>  <td>    4.7366</td> <td>    1.362</td> <td>    3.477</td> <td> 0.001</td> <td>    2.066</td> <td>    7.407</td>\n",
       "</tr>\n",
       "</table>\n",
       "<table class=\"simpletable\">\n",
       "<tr>\n",
       "  <th>Omnibus:</th>       <td>2452.232</td> <th>  Durbin-Watson:     </th> <td>   2.023</td>\n",
       "</tr>\n",
       "<tr>\n",
       "  <th>Prob(Omnibus):</th>  <td> 0.000</td>  <th>  Jarque-Bera (JB):  </th> <td>4830.463</td>\n",
       "</tr>\n",
       "<tr>\n",
       "  <th>Skew:</th>           <td> 1.219</td>  <th>  Prob(JB):          </th> <td>    0.00</td>\n",
       "</tr>\n",
       "<tr>\n",
       "  <th>Kurtosis:</th>       <td> 4.893</td>  <th>  Cond. No.          </th> <td>    91.2</td>\n",
       "</tr>\n",
       "</table><br/><br/>Notes:<br/>[1] Standard Errors assume that the covariance matrix of the errors is correctly specified."
      ],
      "text/plain": [
       "<class 'statsmodels.iolib.summary.Summary'>\n",
       "\"\"\"\n",
       "                            OLS Regression Results                            \n",
       "==============================================================================\n",
       "Dep. Variable:                    cnt   R-squared:                       0.385\n",
       "Model:                            OLS   Adj. R-squared:                  0.384\n",
       "Method:                 Least Squares   F-statistic:                     691.2\n",
       "Date:                Mon, 18 Apr 2022   Prob (F-statistic):               0.00\n",
       "Time:                        20:03:45   Log-Likelihood:                -77471.\n",
       "No. Observations:               12165   AIC:                         1.550e+05\n",
       "Df Residuals:                   12153   BIC:                         1.551e+05\n",
       "Df Model:                          11                                         \n",
       "Covariance Type:            nonrobust                                         \n",
       "==============================================================================\n",
       "                 coef    std err          t      P>|t|      [0.025      0.975]\n",
       "------------------------------------------------------------------------------\n",
       "const         31.2885      4.237      7.384      0.000      22.982      39.595\n",
       "season        19.3442      2.114      9.149      0.000      15.199      23.489\n",
       "yr            80.3554      2.576     31.191      0.000      75.306      85.405\n",
       "mnth           0.0406      0.658      0.062      0.951      -1.249       1.330\n",
       "hr             7.4540      0.196     38.014      0.000       7.070       7.838\n",
       "holiday      -23.9886      7.879     -3.045      0.002     -39.432      -8.545\n",
       "weekday        1.7031      0.643      2.649      0.008       0.443       2.964\n",
       "notbizday     -2.4919      2.857     -0.872      0.383      -8.093       3.109\n",
       "weathersit    -3.5995      2.274     -1.583      0.113      -8.057       0.858\n",
       "temp          54.3312      1.378     39.424      0.000      51.630      57.033\n",
       "hum          -37.7405      1.578    -23.919      0.000     -40.833     -34.648\n",
       "windspeed      4.7366      1.362      3.477      0.001       2.066       7.407\n",
       "==============================================================================\n",
       "Omnibus:                     2452.232   Durbin-Watson:                   2.023\n",
       "Prob(Omnibus):                  0.000   Jarque-Bera (JB):             4830.463\n",
       "Skew:                           1.219   Prob(JB):                         0.00\n",
       "Kurtosis:                       4.893   Cond. No.                         91.2\n",
       "==============================================================================\n",
       "\n",
       "Notes:\n",
       "[1] Standard Errors assume that the covariance matrix of the errors is correctly specified.\n",
       "\"\"\""
      ]
     },
     "execution_count": 109,
     "metadata": {},
     "output_type": "execute_result"
    }
   ],
   "source": [
    "statsmodels_reg.summary()"
   ]
  },
  {
   "cell_type": "markdown",
   "id": "fdb3d6ce",
   "metadata": {},
   "source": []
  },
  {
   "cell_type": "markdown",
   "id": "1bbaa0dc",
   "metadata": {},
   "source": [
    "### 6. Train 3 different boosting regressors (AdaBoost, GBM and XGBoost) using their default model inputs. Compare the performance of the 3 boosting regressors  with the vanilla Random Forest model (not the optimized one) by reporting the scores (R-squared in the test set) among the four models."
   ]
  },
  {
   "cell_type": "code",
   "execution_count": 110,
   "id": "1a1eb536",
   "metadata": {},
   "outputs": [],
   "source": [
    "from sklearn.ensemble import RandomForestRegressor # we will be using RF as our benchmark."
   ]
  },
  {
   "cell_type": "code",
   "execution_count": 111,
   "id": "434dd601",
   "metadata": {},
   "outputs": [],
   "source": [
    "from sklearn.ensemble import AdaBoostRegressor, GradientBoostingRegressor"
   ]
  },
  {
   "cell_type": "code",
   "execution_count": 112,
   "id": "593e417c",
   "metadata": {},
   "outputs": [],
   "source": [
    "from xgboost import XGBRegressor"
   ]
  },
  {
   "cell_type": "markdown",
   "id": "47e4dd65",
   "metadata": {},
   "source": [
    "##### Random Forest"
   ]
  },
  {
   "cell_type": "code",
   "execution_count": 113,
   "id": "7b9cbe1e",
   "metadata": {},
   "outputs": [
    {
     "name": "stdout",
     "output_type": "stream",
     "text": [
      "CPU times: user 4.96 s, sys: 339 ms, total: 5.29 s\n",
      "Wall time: 4.16 s\n"
     ]
    },
    {
     "data": {
      "text/plain": [
       "RandomForestRegressor(random_state=1000)"
      ]
     },
     "execution_count": 113,
     "metadata": {},
     "output_type": "execute_result"
    }
   ],
   "source": [
    "%%time \n",
    "# Fitting RF Regressor to the Training set\n",
    "RF_regressor = RandomForestRegressor(random_state=rand_state)\n",
    "RF_regressor.fit(X_train, y_train)"
   ]
  },
  {
   "cell_type": "markdown",
   "id": "b3af5afe",
   "metadata": {},
   "source": [
    "##### AdaBoost"
   ]
  },
  {
   "cell_type": "code",
   "execution_count": 114,
   "id": "109b2f75",
   "metadata": {},
   "outputs": [
    {
     "name": "stdout",
     "output_type": "stream",
     "text": [
      "CPU times: user 689 ms, sys: 5.1 ms, total: 694 ms\n",
      "Wall time: 692 ms\n"
     ]
    },
    {
     "data": {
      "text/plain": [
       "AdaBoostRegressor(random_state=1000)"
      ]
     },
     "execution_count": 114,
     "metadata": {},
     "output_type": "execute_result"
    }
   ],
   "source": [
    "%%time\n",
    "# Fitting AdaBoost Regressor to the Training set\n",
    "AdB_regressor = AdaBoostRegressor(random_state=rand_state)\n",
    "AdB_regressor.fit(X_train, y_train)"
   ]
  },
  {
   "cell_type": "markdown",
   "id": "db10b718",
   "metadata": {},
   "source": [
    "##### GBM"
   ]
  },
  {
   "cell_type": "code",
   "execution_count": 115,
   "id": "22591c24",
   "metadata": {},
   "outputs": [
    {
     "name": "stdout",
     "output_type": "stream",
     "text": [
      "CPU times: user 1.18 s, sys: 7.84 ms, total: 1.19 s\n",
      "Wall time: 1.2 s\n"
     ]
    },
    {
     "data": {
      "text/plain": [
       "GradientBoostingRegressor(random_state=1000)"
      ]
     },
     "execution_count": 115,
     "metadata": {},
     "output_type": "execute_result"
    }
   ],
   "source": [
    "%%time \n",
    "# Fitting Gradient Boosting classifier to the Training set\n",
    "GBM_regressor = GradientBoostingRegressor(random_state=rand_state)\n",
    "GBM_regressor.fit(X_train, y_train)"
   ]
  },
  {
   "cell_type": "markdown",
   "id": "6ac9a660",
   "metadata": {},
   "source": [
    "##### XGBoost"
   ]
  },
  {
   "cell_type": "code",
   "execution_count": 116,
   "id": "5b5e5bab",
   "metadata": {},
   "outputs": [
    {
     "name": "stdout",
     "output_type": "stream",
     "text": [
      "CPU times: user 4.26 s, sys: 373 ms, total: 4.64 s\n",
      "Wall time: 602 ms\n"
     ]
    },
    {
     "data": {
      "text/plain": [
       "XGBRegressor(base_score=0.5, booster='gbtree', colsample_bylevel=1,\n",
       "             colsample_bynode=1, colsample_bytree=1, enable_categorical=False,\n",
       "             gamma=0, gpu_id=-1, importance_type=None,\n",
       "             interaction_constraints='', learning_rate=0.300000012,\n",
       "             max_delta_step=0, max_depth=6, min_child_weight=1, missing=nan,\n",
       "             monotone_constraints='()', n_estimators=100, n_jobs=8,\n",
       "             num_parallel_tree=1, predictor='auto', random_state=1000,\n",
       "             reg_alpha=0, reg_lambda=1, scale_pos_weight=1, subsample=1,\n",
       "             tree_method='exact', validate_parameters=1, verbosity=None)"
      ]
     },
     "execution_count": 116,
     "metadata": {},
     "output_type": "execute_result"
    }
   ],
   "source": [
    "%%time \n",
    "# Fitting XGBoost regressor to the Training set\n",
    "XGB_regressor = XGBRegressor(random_state=rand_state)\n",
    "XGB_regressor.fit(X_train, y_train)"
   ]
  },
  {
   "cell_type": "code",
   "execution_count": 117,
   "id": "1c0885a9",
   "metadata": {},
   "outputs": [],
   "source": [
    "y_hat_RF       = RF_regressor.predict(X_test)\n",
    "y_hat_AdB      = AdB_regressor.predict(X_test)\n",
    "y_hat_GBM      = GBM_regressor.predict(X_test)\n",
    "y_hat_XGB      = XGB_regressor.predict(X_test)"
   ]
  },
  {
   "cell_type": "code",
   "execution_count": 118,
   "id": "5d9d9920",
   "metadata": {},
   "outputs": [
    {
     "name": "stdout",
     "output_type": "stream",
     "text": [
      "RF  R-Squared = 0.9488\n",
      "AdB R-Squared = 0.6656\n",
      "GBM R-Squared = 0.8563\n",
      "XGB R-Squared = 0.9516\n"
     ]
    }
   ],
   "source": [
    "print('RF  R-Squared = {}'.format(np.round(RF_regressor.score(X_test, y_test),4)))\n",
    "print('AdB R-Squared = {}'.format(np.round(AdB_regressor.score(X_test, y_test),4)))\n",
    "print('GBM R-Squared = {}'.format(np.round(GBM_regressor.score(X_test, y_test),4)))\n",
    "print('XGB R-Squared = {}'.format(np.round(XGB_regressor.score(X_test, y_test),4)))"
   ]
  },
  {
   "cell_type": "markdown",
   "id": "6f558e94",
   "metadata": {},
   "source": [
    "**Execution Speed ranked best to worst:**"
   ]
  },
  {
   "cell_type": "markdown",
   "id": "a4712935",
   "metadata": {},
   "source": [
    "1. EXBoost: 599 ms\n",
    "2. AdaBoost: 686 ms\n",
    "3. GBM: 1.12 s\n",
    "4. Random Forest: 4.16 s\n"
   ]
  },
  {
   "cell_type": "markdown",
   "id": "57451e7e",
   "metadata": {},
   "source": [
    "**Performance ranked best to worst:**"
   ]
  },
  {
   "cell_type": "markdown",
   "id": "82885401",
   "metadata": {},
   "source": [
    "1. ExBoost R-Squared : 0.9516\n",
    "2. Random Forest R-Squared: 0.9488\n",
    "3. GBM R-Squared: 0.8563\n",
    "4. AdaBoost R-Squared: 0.6656"
   ]
  },
  {
   "cell_type": "markdown",
   "id": "af5d28c2",
   "metadata": {},
   "source": [
    "Overall, EGBoost is the winner, because it had has the highest R-squared and it was the fastest. "
   ]
  },
  {
   "cell_type": "markdown",
   "id": "57bf567d",
   "metadata": {},
   "source": [
    "# Random Forest and Boosting – Classification"
   ]
  },
  {
   "cell_type": "markdown",
   "id": "6e6d2c7a",
   "metadata": {},
   "source": [
    "### 1. Define a binary target variable overload. Overload=1 if cnt>500 and 0 otherwise. What are the proportions of overload vs non-overload in your data set? Is the target variable balanced or imbalanced? "
   ]
  },
  {
   "cell_type": "code",
   "execution_count": 119,
   "id": "15405f0e",
   "metadata": {},
   "outputs": [],
   "source": [
    "df['overload']= np.where(df['cnt']>500, 1, 0)"
   ]
  },
  {
   "cell_type": "code",
   "execution_count": 120,
   "id": "106f97ab",
   "metadata": {},
   "outputs": [],
   "source": [
    "df.drop('cnt', axis=1, inplace=True)"
   ]
  },
  {
   "cell_type": "code",
   "execution_count": 121,
   "id": "2c559bc3",
   "metadata": {},
   "outputs": [
    {
     "data": {
      "text/html": [
       "<div>\n",
       "<style scoped>\n",
       "    .dataframe tbody tr th:only-of-type {\n",
       "        vertical-align: middle;\n",
       "    }\n",
       "\n",
       "    .dataframe tbody tr th {\n",
       "        vertical-align: top;\n",
       "    }\n",
       "\n",
       "    .dataframe thead th {\n",
       "        text-align: right;\n",
       "    }\n",
       "</style>\n",
       "<table border=\"1\" class=\"dataframe\">\n",
       "  <thead>\n",
       "    <tr style=\"text-align: right;\">\n",
       "      <th>overload</th>\n",
       "      <th>0</th>\n",
       "      <th>1</th>\n",
       "    </tr>\n",
       "    <tr>\n",
       "      <th>overload</th>\n",
       "      <th></th>\n",
       "      <th></th>\n",
       "    </tr>\n",
       "  </thead>\n",
       "  <tbody>\n",
       "    <tr>\n",
       "      <th>0</th>\n",
       "      <td>92.640543</td>\n",
       "      <td>0.000000</td>\n",
       "    </tr>\n",
       "    <tr>\n",
       "      <th>1</th>\n",
       "      <td>0.000000</td>\n",
       "      <td>7.359457</td>\n",
       "    </tr>\n",
       "  </tbody>\n",
       "</table>\n",
       "</div>"
      ],
      "text/plain": [
       "overload          0         1\n",
       "overload                     \n",
       "0         92.640543  0.000000\n",
       "1          0.000000  7.359457"
      ]
     },
     "execution_count": 121,
     "metadata": {},
     "output_type": "execute_result"
    }
   ],
   "source": [
    "pd.crosstab(df['overload'],df['overload'], normalize='all')*100"
   ]
  },
  {
   "cell_type": "markdown",
   "id": "cdd4ccb7",
   "metadata": {},
   "source": [
    "92.6% of the dataset is classified as non-overload, and 7.4% of the dataset is classified as overload. This means that the target variable overload is imbalanced!"
   ]
  },
  {
   "cell_type": "markdown",
   "id": "0062c333",
   "metadata": {},
   "source": [
    "### 2. Along with the target variable, define your feature space (X) and split the data into test (30%) and train set (70%)"
   ]
  },
  {
   "cell_type": "code",
   "execution_count": 122,
   "id": "fba91637",
   "metadata": {},
   "outputs": [],
   "source": [
    "y = df['overload']\n",
    "X = df.drop(['overload'], axis=1) # becareful inplace= False\n",
    "\n",
    "from sklearn.model_selection import train_test_split\n",
    "X_train, X_test, y_train, y_test = train_test_split(X, y, test_size=0.3, random_state=rand_state)"
   ]
  },
  {
   "cell_type": "markdown",
   "id": "dc54f65e",
   "metadata": {},
   "source": [
    "### 3. From sklearn.ensemble import the relevant function for RF classification. Do the followings:"
   ]
  },
  {
   "cell_type": "markdown",
   "id": "fc402717",
   "metadata": {},
   "source": [
    "#### 1. Train the RF classification model using its default parameters. However use random_state=1000. "
   ]
  },
  {
   "cell_type": "code",
   "execution_count": 123,
   "id": "e513fadd",
   "metadata": {},
   "outputs": [],
   "source": [
    "from sklearn.ensemble import RandomForestClassifier"
   ]
  },
  {
   "cell_type": "code",
   "execution_count": 124,
   "id": "c3398ac2",
   "metadata": {},
   "outputs": [
    {
     "data": {
      "text/plain": [
       "RandomForestClassifier()"
      ]
     },
     "execution_count": 124,
     "metadata": {},
     "output_type": "execute_result"
    }
   ],
   "source": [
    "RF_classifier = RandomForestClassifier()\n",
    "RF_classifier.fit(X_train, y_train)"
   ]
  },
  {
   "cell_type": "markdown",
   "id": "12e1f2c3",
   "metadata": {},
   "source": [
    "#### 2. Generate the predicted probabilities and predicted classifications and save them as y_hat_probs, y_hat respectively."
   ]
  },
  {
   "cell_type": "code",
   "execution_count": 125,
   "id": "872d482f",
   "metadata": {},
   "outputs": [],
   "source": [
    "# Predicting the Test set probabilities and classes\n",
    "y_hat      = RF_classifier.predict(X_test)\n",
    "y_hat_probs = RF_classifier.predict_proba(X_test)[:,1] \n",
    "# predicted probabilities are reported for both classes. we saved the prob of purchased!"
   ]
  },
  {
   "cell_type": "markdown",
   "id": "a6dde9a1",
   "metadata": {},
   "source": [
    "#### 3. Plot the histogram of y_hat_probs? Explain what you see? Is there a probability threshold at which the model always predict negative or positive?"
   ]
  },
  {
   "cell_type": "code",
   "execution_count": 126,
   "id": "da912f2c",
   "metadata": {},
   "outputs": [
    {
     "data": {
      "image/png": "[encoded data removed]",
      "text/plain": [
       "<Figure size 432x288 with 1 Axes>"
      ]
     },
     "metadata": {},
     "output_type": "display_data"
    }
   ],
   "source": [
    "plt.hist(y_hat_probs)\n",
    "plt.show()"
   ]
  },
  {
   "cell_type": "markdown",
   "id": "c542c824",
   "metadata": {},
   "source": [
    "The histogram is mainly concentrated to the left. This shows us that the data set is pretty imbalanced. Below a threshold of 0.3 the model will almost always predict negative. "
   ]
  },
  {
   "cell_type": "markdown",
   "id": "ef0c8626",
   "metadata": {},
   "source": [
    "#### 4. Use the built-in classification report function from sklearn. Report the Accuracy, precision, recall and f1 score along with the confusion matrix. Interpret all of these statistics. Do you trust the accuracy of the model? why?"
   ]
  },
  {
   "cell_type": "code",
   "execution_count": 127,
   "id": "09f353d1",
   "metadata": {},
   "outputs": [],
   "source": [
    "from sklearn.metrics import accuracy_score, recall_score, precision_score, f1_score\n",
    "from sklearn.metrics import confusion_matrix, classification_report, roc_curve, roc_auc_score"
   ]
  },
  {
   "cell_type": "code",
   "execution_count": 128,
   "id": "6d7f143d",
   "metadata": {},
   "outputs": [
    {
     "name": "stdout",
     "output_type": "stream",
     "text": [
      "[[4783   36]\n",
      " [ 105  290]]\n"
     ]
    }
   ],
   "source": [
    "print(confusion_matrix(y_test, y_hat))"
   ]
  },
  {
   "cell_type": "code",
   "execution_count": 129,
   "id": "7f84fbad",
   "metadata": {},
   "outputs": [
    {
     "name": "stdout",
     "output_type": "stream",
     "text": [
      "              precision    recall  f1-score   support\n",
      "\n",
      "           0       0.98      0.99      0.99      4819\n",
      "           1       0.89      0.73      0.80       395\n",
      "\n",
      "    accuracy                           0.97      5214\n",
      "   macro avg       0.93      0.86      0.89      5214\n",
      "weighted avg       0.97      0.97      0.97      5214\n",
      "\n"
     ]
    }
   ],
   "source": [
    "print(classification_report(y_test, y_hat))"
   ]
  },
  {
   "cell_type": "markdown",
   "id": "7739a127",
   "metadata": {},
   "source": [
    "I would not trust the accuracy of the model, because the data set is very imbalanced. "
   ]
  },
  {
   "cell_type": "markdown",
   "id": "0e3b7fb1",
   "metadata": {},
   "source": [
    "### 4. Tuning hyperparameters: \n",
    "#### I specifically want you to use the following param_grid. my_param_grid = {'n_estimators':[100,200], 'criterion':['gini','entropy'],  'max_features':['log2', 'auto'], 'max_depth':[10,None]} . Where you able to improve the model performance? Is random forest using a small tree or bushy tree? How do yo know? "
   ]
  },
  {
   "cell_type": "code",
   "execution_count": 130,
   "id": "1523853f",
   "metadata": {},
   "outputs": [],
   "source": [
    "my_param_grid = {'n_estimators':[100,200], 'criterion':['gini','entropy'],  'max_features':['log2', 'auto'], 'max_depth':[10,None]}"
   ]
  },
  {
   "cell_type": "code",
   "execution_count": 131,
   "id": "ca5b4f0a",
   "metadata": {},
   "outputs": [],
   "source": [
    "from sklearn.model_selection import GridSearchCV"
   ]
  },
  {
   "cell_type": "code",
   "execution_count": 132,
   "id": "653ed37c",
   "metadata": {},
   "outputs": [],
   "source": [
    "grid = GridSearchCV(estimator=RandomForestClassifier(random_state=rand_state),param_grid= my_param_grid, refit = True, verbose=2, cv=5 )\n",
    "# verbose just means the text output describing the process. (the greater the number the more detail you will get)."
   ]
  },
  {
   "cell_type": "code",
   "execution_count": 133,
   "id": "4e7056f4",
   "metadata": {},
   "outputs": [
    {
     "name": "stdout",
     "output_type": "stream",
     "text": [
      "Fitting 5 folds for each of 16 candidates, totalling 80 fits\n",
      "[CV] END criterion=gini, max_depth=10, max_features=log2, n_estimators=100; total time=   0.6s\n",
      "[CV] END criterion=gini, max_depth=10, max_features=log2, n_estimators=100; total time=   0.6s\n",
      "[CV] END criterion=gini, max_depth=10, max_features=log2, n_estimators=100; total time=   0.6s\n",
      "[CV] END criterion=gini, max_depth=10, max_features=log2, n_estimators=100; total time=   0.6s\n",
      "[CV] END criterion=gini, max_depth=10, max_features=log2, n_estimators=100; total time=   0.6s\n",
      "[CV] END criterion=gini, max_depth=10, max_features=log2, n_estimators=200; total time=   1.2s\n",
      "[CV] END criterion=gini, max_depth=10, max_features=log2, n_estimators=200; total time=   1.2s\n",
      "[CV] END criterion=gini, max_depth=10, max_features=log2, n_estimators=200; total time=   1.2s\n",
      "[CV] END criterion=gini, max_depth=10, max_features=log2, n_estimators=200; total time=   1.2s\n",
      "[CV] END criterion=gini, max_depth=10, max_features=log2, n_estimators=200; total time=   1.2s\n",
      "[CV] END criterion=gini, max_depth=10, max_features=auto, n_estimators=100; total time=   0.6s\n",
      "[CV] END criterion=gini, max_depth=10, max_features=auto, n_estimators=100; total time=   0.6s\n",
      "[CV] END criterion=gini, max_depth=10, max_features=auto, n_estimators=100; total time=   0.6s\n",
      "[CV] END criterion=gini, max_depth=10, max_features=auto, n_estimators=100; total time=   0.6s\n",
      "[CV] END criterion=gini, max_depth=10, max_features=auto, n_estimators=100; total time=   0.6s\n",
      "[CV] END criterion=gini, max_depth=10, max_features=auto, n_estimators=200; total time=   1.2s\n",
      "[CV] END criterion=gini, max_depth=10, max_features=auto, n_estimators=200; total time=   1.2s\n",
      "[CV] END criterion=gini, max_depth=10, max_features=auto, n_estimators=200; total time=   1.2s\n",
      "[CV] END criterion=gini, max_depth=10, max_features=auto, n_estimators=200; total time=   1.2s\n",
      "[CV] END criterion=gini, max_depth=10, max_features=auto, n_estimators=200; total time=   1.2s\n",
      "[CV] END criterion=gini, max_depth=None, max_features=log2, n_estimators=100; total time=   0.7s\n",
      "[CV] END criterion=gini, max_depth=None, max_features=log2, n_estimators=100; total time=   0.7s\n",
      "[CV] END criterion=gini, max_depth=None, max_features=log2, n_estimators=100; total time=   0.7s\n",
      "[CV] END criterion=gini, max_depth=None, max_features=log2, n_estimators=100; total time=   0.7s\n",
      "[CV] END criterion=gini, max_depth=None, max_features=log2, n_estimators=100; total time=   0.7s\n",
      "[CV] END criterion=gini, max_depth=None, max_features=log2, n_estimators=200; total time=   1.3s\n",
      "[CV] END criterion=gini, max_depth=None, max_features=log2, n_estimators=200; total time=   1.3s\n",
      "[CV] END criterion=gini, max_depth=None, max_features=log2, n_estimators=200; total time=   1.3s\n",
      "[CV] END criterion=gini, max_depth=None, max_features=log2, n_estimators=200; total time=   1.3s\n",
      "[CV] END criterion=gini, max_depth=None, max_features=log2, n_estimators=200; total time=   1.3s\n",
      "[CV] END criterion=gini, max_depth=None, max_features=auto, n_estimators=100; total time=   0.7s\n",
      "[CV] END criterion=gini, max_depth=None, max_features=auto, n_estimators=100; total time=   0.7s\n",
      "[CV] END criterion=gini, max_depth=None, max_features=auto, n_estimators=100; total time=   0.7s\n",
      "[CV] END criterion=gini, max_depth=None, max_features=auto, n_estimators=100; total time=   0.7s\n",
      "[CV] END criterion=gini, max_depth=None, max_features=auto, n_estimators=100; total time=   0.7s\n",
      "[CV] END criterion=gini, max_depth=None, max_features=auto, n_estimators=200; total time=   1.3s\n",
      "[CV] END criterion=gini, max_depth=None, max_features=auto, n_estimators=200; total time=   1.3s\n",
      "[CV] END criterion=gini, max_depth=None, max_features=auto, n_estimators=200; total time=   1.3s\n",
      "[CV] END criterion=gini, max_depth=None, max_features=auto, n_estimators=200; total time=   1.3s\n",
      "[CV] END criterion=gini, max_depth=None, max_features=auto, n_estimators=200; total time=   1.3s\n",
      "[CV] END criterion=entropy, max_depth=10, max_features=log2, n_estimators=100; total time=   0.6s\n",
      "[CV] END criterion=entropy, max_depth=10, max_features=log2, n_estimators=100; total time=   0.6s\n",
      "[CV] END criterion=entropy, max_depth=10, max_features=log2, n_estimators=100; total time=   0.6s\n",
      "[CV] END criterion=entropy, max_depth=10, max_features=log2, n_estimators=100; total time=   0.6s\n",
      "[CV] END criterion=entropy, max_depth=10, max_features=log2, n_estimators=100; total time=   0.6s\n",
      "[CV] END criterion=entropy, max_depth=10, max_features=log2, n_estimators=200; total time=   1.2s\n",
      "[CV] END criterion=entropy, max_depth=10, max_features=log2, n_estimators=200; total time=   1.2s\n",
      "[CV] END criterion=entropy, max_depth=10, max_features=log2, n_estimators=200; total time=   1.2s\n",
      "[CV] END criterion=entropy, max_depth=10, max_features=log2, n_estimators=200; total time=   1.2s\n",
      "[CV] END criterion=entropy, max_depth=10, max_features=log2, n_estimators=200; total time=   1.2s\n",
      "[CV] END criterion=entropy, max_depth=10, max_features=auto, n_estimators=100; total time=   0.6s\n",
      "[CV] END criterion=entropy, max_depth=10, max_features=auto, n_estimators=100; total time=   0.6s\n",
      "[CV] END criterion=entropy, max_depth=10, max_features=auto, n_estimators=100; total time=   0.6s\n",
      "[CV] END criterion=entropy, max_depth=10, max_features=auto, n_estimators=100; total time=   0.6s\n",
      "[CV] END criterion=entropy, max_depth=10, max_features=auto, n_estimators=100; total time=   0.6s\n",
      "[CV] END criterion=entropy, max_depth=10, max_features=auto, n_estimators=200; total time=   1.2s\n",
      "[CV] END criterion=entropy, max_depth=10, max_features=auto, n_estimators=200; total time=   1.2s\n",
      "[CV] END criterion=entropy, max_depth=10, max_features=auto, n_estimators=200; total time=   1.2s\n",
      "[CV] END criterion=entropy, max_depth=10, max_features=auto, n_estimators=200; total time=   1.2s\n",
      "[CV] END criterion=entropy, max_depth=10, max_features=auto, n_estimators=200; total time=   1.2s\n",
      "[CV] END criterion=entropy, max_depth=None, max_features=log2, n_estimators=100; total time=   0.7s\n",
      "[CV] END criterion=entropy, max_depth=None, max_features=log2, n_estimators=100; total time=   0.7s\n",
      "[CV] END criterion=entropy, max_depth=None, max_features=log2, n_estimators=100; total time=   0.7s\n",
      "[CV] END criterion=entropy, max_depth=None, max_features=log2, n_estimators=100; total time=   0.7s\n",
      "[CV] END criterion=entropy, max_depth=None, max_features=log2, n_estimators=100; total time=   0.7s\n",
      "[CV] END criterion=entropy, max_depth=None, max_features=log2, n_estimators=200; total time=   1.3s\n",
      "[CV] END criterion=entropy, max_depth=None, max_features=log2, n_estimators=200; total time=   1.3s\n",
      "[CV] END criterion=entropy, max_depth=None, max_features=log2, n_estimators=200; total time=   1.3s\n",
      "[CV] END criterion=entropy, max_depth=None, max_features=log2, n_estimators=200; total time=   1.3s\n",
      "[CV] END criterion=entropy, max_depth=None, max_features=log2, n_estimators=200; total time=   1.3s\n",
      "[CV] END criterion=entropy, max_depth=None, max_features=auto, n_estimators=100; total time=   0.7s\n",
      "[CV] END criterion=entropy, max_depth=None, max_features=auto, n_estimators=100; total time=   0.7s\n",
      "[CV] END criterion=entropy, max_depth=None, max_features=auto, n_estimators=100; total time=   0.7s\n",
      "[CV] END criterion=entropy, max_depth=None, max_features=auto, n_estimators=100; total time=   0.7s\n",
      "[CV] END criterion=entropy, max_depth=None, max_features=auto, n_estimators=100; total time=   0.7s\n",
      "[CV] END criterion=entropy, max_depth=None, max_features=auto, n_estimators=200; total time=   1.3s\n",
      "[CV] END criterion=entropy, max_depth=None, max_features=auto, n_estimators=200; total time=   1.3s\n",
      "[CV] END criterion=entropy, max_depth=None, max_features=auto, n_estimators=200; total time=   1.3s\n",
      "[CV] END criterion=entropy, max_depth=None, max_features=auto, n_estimators=200; total time=   1.3s\n",
      "[CV] END criterion=entropy, max_depth=None, max_features=auto, n_estimators=200; total time=   1.4s\n"
     ]
    },
    {
     "data": {
      "text/plain": [
       "GridSearchCV(cv=5, estimator=RandomForestClassifier(random_state=1000),\n",
       "             param_grid={'criterion': ['gini', 'entropy'],\n",
       "                         'max_depth': [10, None],\n",
       "                         'max_features': ['log2', 'auto'],\n",
       "                         'n_estimators': [100, 200]},\n",
       "             verbose=2)"
      ]
     },
     "execution_count": 133,
     "metadata": {},
     "output_type": "execute_result"
    }
   ],
   "source": [
    "grid.fit(X_train,y_train)"
   ]
  },
  {
   "cell_type": "code",
   "execution_count": 134,
   "id": "c4cc0162",
   "metadata": {},
   "outputs": [
    {
     "data": {
      "text/plain": [
       "{'criterion': 'entropy',\n",
       " 'max_depth': None,\n",
       " 'max_features': 'log2',\n",
       " 'n_estimators': 100}"
      ]
     },
     "execution_count": 134,
     "metadata": {},
     "output_type": "execute_result"
    }
   ],
   "source": [
    "grid.best_params_"
   ]
  },
  {
   "cell_type": "code",
   "execution_count": 135,
   "id": "2e2cdf01",
   "metadata": {},
   "outputs": [
    {
     "data": {
      "text/plain": [
       "RandomForestClassifier(criterion='entropy', max_features='log2',\n",
       "                       random_state=1000)"
      ]
     },
     "execution_count": 135,
     "metadata": {},
     "output_type": "execute_result"
    }
   ],
   "source": [
    "grid.best_estimator_"
   ]
  },
  {
   "cell_type": "code",
   "execution_count": 136,
   "id": "27e7dd04",
   "metadata": {},
   "outputs": [],
   "source": [
    "y_hat_optimized = grid.predict(X_test)"
   ]
  },
  {
   "cell_type": "code",
   "execution_count": 137,
   "id": "7943ac50",
   "metadata": {},
   "outputs": [
    {
     "name": "stdout",
     "output_type": "stream",
     "text": [
      "[[4782   37]\n",
      " [ 100  295]]\n"
     ]
    }
   ],
   "source": [
    "print(confusion_matrix(y_test, y_hat_optimized))"
   ]
  },
  {
   "cell_type": "code",
   "execution_count": 138,
   "id": "eff53109",
   "metadata": {},
   "outputs": [
    {
     "name": "stdout",
     "output_type": "stream",
     "text": [
      "              precision    recall  f1-score   support\n",
      "\n",
      "           0       0.98      0.99      0.99      4819\n",
      "           1       0.89      0.75      0.81       395\n",
      "\n",
      "    accuracy                           0.97      5214\n",
      "   macro avg       0.93      0.87      0.90      5214\n",
      "weighted avg       0.97      0.97      0.97      5214\n",
      "\n"
     ]
    }
   ],
   "source": [
    "print(classification_report(y_test, y_hat_optimized))"
   ]
  },
  {
   "cell_type": "markdown",
   "id": "b44ce651",
   "metadata": {},
   "source": [
    "We were able to improve the tree. The tree is ______ (small/bushy) because.."
   ]
  },
  {
   "cell_type": "markdown",
   "id": "d1a1288f",
   "metadata": {},
   "source": [
    "### 5. Cross validation and OOB observations: estimate the accuracy of the test set using both CV and OOB methods and compare the results. "
   ]
  },
  {
   "cell_type": "markdown",
   "id": "36f24e65",
   "metadata": {},
   "source": [
    "**Cross Validation**"
   ]
  },
  {
   "cell_type": "code",
   "execution_count": 139,
   "id": "8215e32a",
   "metadata": {},
   "outputs": [],
   "source": [
    "from sklearn.model_selection import cross_val_score"
   ]
  },
  {
   "cell_type": "code",
   "execution_count": 140,
   "id": "5ccb5be6",
   "metadata": {},
   "outputs": [],
   "source": [
    "R2 = cross_val_score(estimator = RandomForestRegressor(max_depth=20, max_features='sqrt', n_estimators=500), X = X_train, y = y_train, cv = 5 , scoring=\"r2\" )"
   ]
  },
  {
   "cell_type": "code",
   "execution_count": 141,
   "id": "fc3c8096",
   "metadata": {},
   "outputs": [
    {
     "data": {
      "text/plain": [
       "0.688"
      ]
     },
     "execution_count": 141,
     "metadata": {},
     "output_type": "execute_result"
    }
   ],
   "source": [
    "R2_CV = round(np.mean(R2),4)\n",
    "R2_CV"
   ]
  },
  {
   "cell_type": "markdown",
   "id": "9414daac",
   "metadata": {},
   "source": [
    "**OOB**"
   ]
  },
  {
   "cell_type": "code",
   "execution_count": 142,
   "id": "4a33df00",
   "metadata": {},
   "outputs": [
    {
     "data": {
      "text/plain": [
       "array([54, 12, 36, 46, 91, 82, 22, 53, 67, 62, 39, 45, 29,  9, 97, 97, 21,\n",
       "        0, 30, 86, 69,  4,  5, 42, 31, 84, 71, 77, 37, 87, 26, 22, 99, 10,\n",
       "       56, 85, 67, 22, 24,  2, 86, 68, 60, 62, 52, 87, 45, 60, 99, 55, 79,\n",
       "        0, 38, 34,  2,  6, 85, 37, 68, 72, 52, 88, 21, 60, 49, 52,  1, 91,\n",
       "       44, 57, 54, 83,  2, 65, 94, 75, 34, 43, 73, 86, 70, 31, 13, 66, 91,\n",
       "       28, 38, 81, 80, 92, 73, 86, 46, 63,  0, 43, 65,  6, 97, 50])"
      ]
     },
     "execution_count": 142,
     "metadata": {},
     "output_type": "execute_result"
    }
   ],
   "source": [
    "np.random.choice(100,size=100)"
   ]
  },
  {
   "cell_type": "code",
   "execution_count": 143,
   "id": "02f49530",
   "metadata": {},
   "outputs": [
    {
     "data": {
      "text/plain": [
       "54"
      ]
     },
     "execution_count": 143,
     "metadata": {},
     "output_type": "execute_result"
    }
   ],
   "source": [
    "np.unique(np.random.choice (100,size=100)).size"
   ]
  },
  {
   "cell_type": "code",
   "execution_count": 144,
   "id": "b7bca614",
   "metadata": {},
   "outputs": [
    {
     "data": {
      "text/plain": [
       "RandomForestRegressor(max_depth=20, max_features='sqrt', n_estimators=500,\n",
       "                      oob_score=True)"
      ]
     },
     "execution_count": 144,
     "metadata": {},
     "output_type": "execute_result"
    }
   ],
   "source": [
    "RF_oob = RandomForestRegressor(max_depth=20, max_features='sqrt', n_estimators=500, oob_score=True)\n",
    "RF_oob.fit(X_train, y_train)"
   ]
  },
  {
   "cell_type": "code",
   "execution_count": 145,
   "id": "4e29a78f",
   "metadata": {},
   "outputs": [
    {
     "data": {
      "text/plain": [
       "0.7064066974048782"
      ]
     },
     "execution_count": 145,
     "metadata": {},
     "output_type": "execute_result"
    }
   ],
   "source": [
    "RF_oob.oob_score_"
   ]
  },
  {
   "cell_type": "markdown",
   "id": "546ae34a",
   "metadata": {},
   "source": [
    "R-squared from the cross validation is 0.6874. The R-squared from the OOB method is 0.7065."
   ]
  },
  {
   "cell_type": "markdown",
   "id": "f907a371",
   "metadata": {},
   "source": [
    "### 6. Dealing with imbalanced data: Use the balanced version of RF classifier and save the predictions as y_hat_balanced. Report the precision, recall and f1 score for the balanced RF versus what you found in part 3.4. What happened to recall? does that make sense? "
   ]
  },
  {
   "cell_type": "code",
   "execution_count": 146,
   "id": "1e41c78d",
   "metadata": {
    "scrolled": true
   },
   "outputs": [
    {
     "data": {
      "text/html": [
       "<div>\n",
       "<style scoped>\n",
       "    .dataframe tbody tr th:only-of-type {\n",
       "        vertical-align: middle;\n",
       "    }\n",
       "\n",
       "    .dataframe tbody tr th {\n",
       "        vertical-align: top;\n",
       "    }\n",
       "\n",
       "    .dataframe thead th {\n",
       "        text-align: right;\n",
       "    }\n",
       "</style>\n",
       "<table border=\"1\" class=\"dataframe\">\n",
       "  <thead>\n",
       "    <tr style=\"text-align: right;\">\n",
       "      <th>overload</th>\n",
       "      <th>0</th>\n",
       "      <th>1</th>\n",
       "    </tr>\n",
       "    <tr>\n",
       "      <th>overload</th>\n",
       "      <th></th>\n",
       "      <th></th>\n",
       "    </tr>\n",
       "  </thead>\n",
       "  <tbody>\n",
       "    <tr>\n",
       "      <th>0</th>\n",
       "      <td>92.640543</td>\n",
       "      <td>0.000000</td>\n",
       "    </tr>\n",
       "    <tr>\n",
       "      <th>1</th>\n",
       "      <td>0.000000</td>\n",
       "      <td>7.359457</td>\n",
       "    </tr>\n",
       "  </tbody>\n",
       "</table>\n",
       "</div>"
      ],
      "text/plain": [
       "overload          0         1\n",
       "overload                     \n",
       "0         92.640543  0.000000\n",
       "1          0.000000  7.359457"
      ]
     },
     "execution_count": 146,
     "metadata": {},
     "output_type": "execute_result"
    }
   ],
   "source": [
    "pd.crosstab(df['overload'],df['overload'], normalize='all')*100"
   ]
  },
  {
   "cell_type": "code",
   "execution_count": 147,
   "id": "7ca1ed8d",
   "metadata": {},
   "outputs": [],
   "source": [
    "RF_balanced = RandomForestClassifier(random_state=1000, criterion='entropy', max_features='log2', max_depth=10, class_weight='balanced_subsample')"
   ]
  },
  {
   "cell_type": "code",
   "execution_count": 148,
   "id": "020aafb5",
   "metadata": {},
   "outputs": [],
   "source": [
    "y_hat_balanced = RF_balanced.fit(X_train, y_train).predict(X_test)"
   ]
  },
  {
   "cell_type": "code",
   "execution_count": 149,
   "id": "80a49b17",
   "metadata": {},
   "outputs": [
    {
     "name": "stdout",
     "output_type": "stream",
     "text": [
      "[[4384  435]\n",
      " [  28  367]]\n"
     ]
    }
   ],
   "source": [
    "print(confusion_matrix(y_test, y_hat_balanced))"
   ]
  },
  {
   "cell_type": "code",
   "execution_count": 150,
   "id": "99ac19b1",
   "metadata": {},
   "outputs": [
    {
     "name": "stdout",
     "output_type": "stream",
     "text": [
      "              precision    recall  f1-score   support\n",
      "\n",
      "           0       0.99      0.91      0.95      4819\n",
      "           1       0.46      0.93      0.61       395\n",
      "\n",
      "    accuracy                           0.91      5214\n",
      "   macro avg       0.73      0.92      0.78      5214\n",
      "weighted avg       0.95      0.91      0.92      5214\n",
      "\n"
     ]
    }
   ],
   "source": [
    "print(classification_report(y_test, y_hat_balanced))"
   ]
  },
  {
   "cell_type": "markdown",
   "id": "4ac89320",
   "metadata": {},
   "source": [
    "### 7. Plot the ROC curve for the balanced RF and report the AUC. Can you trust this number now? why? "
   ]
  },
  {
   "cell_type": "code",
   "execution_count": 151,
   "id": "a298ea1f",
   "metadata": {},
   "outputs": [],
   "source": [
    "from sklearn.metrics import roc_curve, roc_auc_score"
   ]
  },
  {
   "cell_type": "code",
   "execution_count": 152,
   "id": "c182f4c3",
   "metadata": {
    "scrolled": true
   },
   "outputs": [
    {
     "name": "stdout",
     "output_type": "stream",
     "text": [
      "No Skill     : ROC AUC=0.500\n",
      "Random Forest: ROC AUC=0.979\n"
     ]
    },
    {
     "data": {
      "image/png": "[encoded data removed]",
      "text/plain": [
       "<Figure size 432x288 with 1 Axes>"
      ]
     },
     "metadata": {},
     "output_type": "display_data"
    }
   ],
   "source": [
    "# generate a no skill (ns) prediction and logistic regression (lr) predictions.\n",
    "ns_probs = [0 for i in range(len(y_test))]\n",
    "lr_probs = RF_balanced.predict_proba(X_test)[:,1]\n",
    "# calculating scores for no skill and logistic regression\n",
    "ns_auc = roc_auc_score(y_test, ns_probs)\n",
    "lr_auc = roc_auc_score(y_test, lr_probs)\n",
    "print('No Skill     : ROC AUC=%.3f' % (ns_auc))\n",
    "print('Random Forest: ROC AUC=%.3f' % (lr_auc))\n",
    "\n",
    "# calculate roc curves\n",
    "ns_fpr, ns_tpr, _ = roc_curve(y_test, ns_probs)\n",
    "lr_fpr, lr_tpr, _ = roc_curve(y_test, lr_probs)\n",
    "# plot the roc curve for the model\n",
    "plt.plot(ns_fpr, ns_tpr, linestyle='--', label='No Skill')\n",
    "plt.plot(lr_fpr, lr_tpr, marker='.', label='Random Forest (balanced)')\n",
    "# axis labels\n",
    "plt.xlabel('False Positive Rate')\n",
    "plt.ylabel('True Positive Rate')\n",
    "# show the legend\n",
    "plt.legend()\n",
    "# show the plot\n",
    "plt.show()"
   ]
  },
  {
   "cell_type": "markdown",
   "id": "414d7710",
   "metadata": {},
   "source": [
    "### 8. Feature importance: Plot the feature importance graph and report the top 5 important features. Is your finding consistent with common sense?"
   ]
  },
  {
   "cell_type": "code",
   "execution_count": 153,
   "id": "a652991c",
   "metadata": {},
   "outputs": [
    {
     "data": {
      "text/plain": [
       "['season',\n",
       " 'yr',\n",
       " 'mnth',\n",
       " 'hr',\n",
       " 'holiday',\n",
       " 'weekday',\n",
       " 'notbizday',\n",
       " 'weathersit',\n",
       " 'temp',\n",
       " 'hum',\n",
       " 'windspeed']"
      ]
     },
     "execution_count": 153,
     "metadata": {},
     "output_type": "execute_result"
    }
   ],
   "source": [
    "features = list(X_train.columns)\n",
    "features"
   ]
  },
  {
   "cell_type": "code",
   "execution_count": 154,
   "id": "404168c7",
   "metadata": {},
   "outputs": [
    {
     "data": {
      "text/plain": [
       "array([0.0352991 , 0.16001634, 0.04702932, 0.44763097, 0.00322157,\n",
       "       0.0305151 , 0.04063593, 0.01335764, 0.12799231, 0.06838661,\n",
       "       0.0259151 ])"
      ]
     },
     "execution_count": 154,
     "metadata": {},
     "output_type": "execute_result"
    }
   ],
   "source": [
    "importance = RF_balanced.feature_importances_\n",
    "importance"
   ]
  },
  {
   "cell_type": "code",
   "execution_count": 155,
   "id": "a74f9d74",
   "metadata": {},
   "outputs": [
    {
     "data": {
      "text/html": [
       "<div>\n",
       "<style scoped>\n",
       "    .dataframe tbody tr th:only-of-type {\n",
       "        vertical-align: middle;\n",
       "    }\n",
       "\n",
       "    .dataframe tbody tr th {\n",
       "        vertical-align: top;\n",
       "    }\n",
       "\n",
       "    .dataframe thead th {\n",
       "        text-align: right;\n",
       "    }\n",
       "</style>\n",
       "<table border=\"1\" class=\"dataframe\">\n",
       "  <thead>\n",
       "    <tr style=\"text-align: right;\">\n",
       "      <th></th>\n",
       "      <th>Features</th>\n",
       "      <th>Feature_importance</th>\n",
       "    </tr>\n",
       "  </thead>\n",
       "  <tbody>\n",
       "    <tr>\n",
       "      <th>4</th>\n",
       "      <td>holiday</td>\n",
       "      <td>0.003222</td>\n",
       "    </tr>\n",
       "    <tr>\n",
       "      <th>7</th>\n",
       "      <td>weathersit</td>\n",
       "      <td>0.013358</td>\n",
       "    </tr>\n",
       "    <tr>\n",
       "      <th>10</th>\n",
       "      <td>windspeed</td>\n",
       "      <td>0.025915</td>\n",
       "    </tr>\n",
       "    <tr>\n",
       "      <th>5</th>\n",
       "      <td>weekday</td>\n",
       "      <td>0.030515</td>\n",
       "    </tr>\n",
       "    <tr>\n",
       "      <th>0</th>\n",
       "      <td>season</td>\n",
       "      <td>0.035299</td>\n",
       "    </tr>\n",
       "    <tr>\n",
       "      <th>6</th>\n",
       "      <td>notbizday</td>\n",
       "      <td>0.040636</td>\n",
       "    </tr>\n",
       "    <tr>\n",
       "      <th>2</th>\n",
       "      <td>mnth</td>\n",
       "      <td>0.047029</td>\n",
       "    </tr>\n",
       "    <tr>\n",
       "      <th>9</th>\n",
       "      <td>hum</td>\n",
       "      <td>0.068387</td>\n",
       "    </tr>\n",
       "    <tr>\n",
       "      <th>8</th>\n",
       "      <td>temp</td>\n",
       "      <td>0.127992</td>\n",
       "    </tr>\n",
       "    <tr>\n",
       "      <th>1</th>\n",
       "      <td>yr</td>\n",
       "      <td>0.160016</td>\n",
       "    </tr>\n",
       "    <tr>\n",
       "      <th>3</th>\n",
       "      <td>hr</td>\n",
       "      <td>0.447631</td>\n",
       "    </tr>\n",
       "  </tbody>\n",
       "</table>\n",
       "</div>"
      ],
      "text/plain": [
       "      Features  Feature_importance\n",
       "4      holiday            0.003222\n",
       "7   weathersit            0.013358\n",
       "10   windspeed            0.025915\n",
       "5      weekday            0.030515\n",
       "0       season            0.035299\n",
       "6    notbizday            0.040636\n",
       "2         mnth            0.047029\n",
       "9          hum            0.068387\n",
       "8         temp            0.127992\n",
       "1           yr            0.160016\n",
       "3           hr            0.447631"
      ]
     },
     "execution_count": 155,
     "metadata": {},
     "output_type": "execute_result"
    }
   ],
   "source": [
    "FIM = pd.DataFrame({'Features': features , 'Feature_importance':importance})\n",
    "FIM = FIM.sort_values(by=['Feature_importance'])\n",
    "FIM"
   ]
  },
  {
   "cell_type": "code",
   "execution_count": 156,
   "id": "5687f742",
   "metadata": {},
   "outputs": [
    {
     "data": {
      "image/png": "[encoded data removed]",
      "text/plain": [
       "<Figure size 720x432 with 1 Axes>"
      ]
     },
     "metadata": {},
     "output_type": "display_data"
    }
   ],
   "source": [
    "plt.figure(figsize=(10,6))\n",
    "plt.title('Feature Importance')\n",
    "sns.barplot(y='Features', x='Feature_importance', data=FIM)\n",
    "plt.show()"
   ]
  },
  {
   "cell_type": "markdown",
   "id": "91aab007",
   "metadata": {},
   "source": [
    "Hour, year, temperature, humidity, month and no-business-day are the 5 most important features. I think the findings are consistent with common sence. Different times of the day will have more or less people wanting to use a bike. Temperature and humidity will influence how many people want to be outside riding a bike. Month also makes sence, because it is correlated with temperature. "
   ]
  },
  {
   "cell_type": "markdown",
   "id": "34dc7ef9",
   "metadata": {},
   "source": [
    "### 9. Train 3 different boosting classifiers (AdaBoost, GBM and XGBoost) using their default model inputs. Compare the performance of the 3 boosting classifiers  with the vanilla Random Forest model (not optimized) by reporting the f1scores in the test set among the four models."
   ]
  },
  {
   "cell_type": "code",
   "execution_count": 157,
   "id": "3056cbc4",
   "metadata": {},
   "outputs": [],
   "source": [
    "from sklearn.ensemble import RandomForestClassifier # we will be using RF as our benchmark."
   ]
  },
  {
   "cell_type": "code",
   "execution_count": 158,
   "id": "20a49b95",
   "metadata": {},
   "outputs": [],
   "source": [
    "from sklearn.ensemble import AdaBoostClassifier, GradientBoostingClassifier"
   ]
  },
  {
   "cell_type": "code",
   "execution_count": 159,
   "id": "7dd7db61",
   "metadata": {},
   "outputs": [],
   "source": [
    "from xgboost import XGBClassifier"
   ]
  },
  {
   "cell_type": "code",
   "execution_count": 160,
   "id": "d5916fe6",
   "metadata": {},
   "outputs": [
    {
     "name": "stdout",
     "output_type": "stream",
     "text": [
      "CPU times: user 758 ms, sys: 7.82 ms, total: 766 ms\n",
      "Wall time: 765 ms\n"
     ]
    },
    {
     "data": {
      "text/plain": [
       "RandomForestClassifier(random_state=1000)"
      ]
     },
     "execution_count": 160,
     "metadata": {},
     "output_type": "execute_result"
    }
   ],
   "source": [
    "%%time \n",
    "# Fitting RF classifier to the Training set\n",
    "RF_classifier = RandomForestClassifier(random_state=rand_state)\n",
    "RF_classifier.fit(X_train, y_train)"
   ]
  },
  {
   "cell_type": "code",
   "execution_count": 161,
   "id": "19dca65f",
   "metadata": {},
   "outputs": [
    {
     "name": "stdout",
     "output_type": "stream",
     "text": [
      "CPU times: user 348 ms, sys: 2.49 ms, total: 350 ms\n",
      "Wall time: 349 ms\n"
     ]
    },
    {
     "data": {
      "text/plain": [
       "AdaBoostClassifier(random_state=1000)"
      ]
     },
     "execution_count": 161,
     "metadata": {},
     "output_type": "execute_result"
    }
   ],
   "source": [
    "%%time\n",
    "# Fitting AdaBoost classifier to the Training set\n",
    "AdB_classifier = AdaBoostClassifier(random_state=rand_state)\n",
    "AdB_classifier.fit(X_train, y_train)"
   ]
  },
  {
   "cell_type": "code",
   "execution_count": 162,
   "id": "3dbba5f7",
   "metadata": {},
   "outputs": [
    {
     "name": "stdout",
     "output_type": "stream",
     "text": [
      "CPU times: user 1.25 s, sys: 3.98 ms, total: 1.25 s\n",
      "Wall time: 1.25 s\n"
     ]
    },
    {
     "data": {
      "text/plain": [
       "GradientBoostingClassifier(random_state=1000)"
      ]
     },
     "execution_count": 162,
     "metadata": {},
     "output_type": "execute_result"
    }
   ],
   "source": [
    "%%time \n",
    "# Fitting Gradient Boosting classifier to the Training set\n",
    "GBM_classifier = GradientBoostingClassifier(random_state=rand_state)\n",
    "GBM_classifier.fit(X_train, y_train)"
   ]
  },
  {
   "cell_type": "code",
   "execution_count": 163,
   "id": "7c388483",
   "metadata": {},
   "outputs": [
    {
     "name": "stdout",
     "output_type": "stream",
     "text": [
      "[20:05:32] WARNING: ../src/learner.cc:1115: Starting in XGBoost 1.3.0, the default evaluation metric used with the objective 'binary:logistic' was changed from 'error' to 'logloss'. Explicitly set eval_metric if you'd like to restore the old behavior.\n",
      "CPU times: user 3.99 s, sys: 312 ms, total: 4.3 s\n",
      "Wall time: 567 ms\n"
     ]
    },
    {
     "data": {
      "text/plain": [
       "XGBClassifier(base_score=0.5, booster='gbtree', colsample_bylevel=1,\n",
       "              colsample_bynode=1, colsample_bytree=1, enable_categorical=False,\n",
       "              gamma=0, gpu_id=-1, importance_type=None,\n",
       "              interaction_constraints='', learning_rate=0.300000012,\n",
       "              max_delta_step=0, max_depth=6, min_child_weight=1, missing=nan,\n",
       "              monotone_constraints='()', n_estimators=100, n_jobs=8,\n",
       "              num_parallel_tree=1, predictor='auto', random_state=1000,\n",
       "              reg_alpha=0, reg_lambda=1, scale_pos_weight=1, subsample=1,\n",
       "              tree_method='exact', validate_parameters=1, verbosity=None)"
      ]
     },
     "execution_count": 163,
     "metadata": {},
     "output_type": "execute_result"
    }
   ],
   "source": [
    "%%time\n",
    "# # Fitting XGBoost classifier to the Training set\n",
    "XGB_classifier = XGBClassifier(random_state=rand_state)\n",
    "XGB_classifier.fit(X_train, y_train)"
   ]
  },
  {
   "cell_type": "code",
   "execution_count": 164,
   "id": "7a7f2f74",
   "metadata": {},
   "outputs": [],
   "source": [
    "y_hat_RF       = RF_classifier.predict(X_test)\n",
    "y_hat_AdB      = AdB_classifier.predict(X_test)\n",
    "y_hat_GBM      = GBM_classifier.predict(X_test)\n",
    "y_hat_XGB      = XGB_classifier.predict(X_test)"
   ]
  },
  {
   "cell_type": "code",
   "execution_count": 165,
   "id": "8f6654a8",
   "metadata": {},
   "outputs": [],
   "source": [
    "from sklearn.metrics import accuracy_score, recall_score, precision_score, f1_score\n",
    "from sklearn.metrics import confusion_matrix, classification_report, roc_curve, roc_auc_score"
   ]
  },
  {
   "cell_type": "code",
   "execution_count": 166,
   "id": "68b33aa3",
   "metadata": {},
   "outputs": [
    {
     "name": "stdout",
     "output_type": "stream",
     "text": [
      "RF  Accuracy = 0.971614883007288\n",
      "AdB Accuracy = 0.9495588799386268\n",
      "GBM Accuracy = 0.9704641350210971\n",
      "XGB Accuracy = 0.9800537015726889\n"
     ]
    }
   ],
   "source": [
    "print('RF  Accuracy = {}'.format(accuracy_score(y_test, y_hat_RF)))\n",
    "print('AdB Accuracy = {}'.format(accuracy_score(y_test, y_hat_AdB)))\n",
    "print('GBM Accuracy = {}'.format(accuracy_score(y_test, y_hat_GBM)))\n",
    "print('XGB Accuracy = {}'.format(accuracy_score(y_test, y_hat_XGB)))"
   ]
  },
  {
   "cell_type": "code",
   "execution_count": 167,
   "id": "6af08502",
   "metadata": {
    "scrolled": true
   },
   "outputs": [
    {
     "name": "stdout",
     "output_type": "stream",
     "text": [
      "RF  f1 = 0.7921348314606741\n",
      "AdB f1 = 0.603318250377074\n",
      "GBM f1 = 0.7780979827089336\n",
      "XGB f1 = 0.864935064935065\n"
     ]
    }
   ],
   "source": [
    "print('RF  f1 = {}'.format(f1_score(y_test, y_hat_RF)))\n",
    "print('AdB f1 = {}'.format(f1_score(y_test, y_hat_AdB)))\n",
    "print('GBM f1 = {}'.format(f1_score(y_test, y_hat_GBM)))\n",
    "print('XGB f1 = {}'.format(f1_score(y_test, y_hat_XGB)))"
   ]
  },
  {
   "cell_type": "markdown",
   "id": "c9930634",
   "metadata": {},
   "source": [
    "**Execution Speed ranked best to worst**"
   ]
  },
  {
   "cell_type": "markdown",
   "id": "54f3f826",
   "metadata": {},
   "source": [
    "1. AdaBoost – 358 ms\n",
    "2. XGBoost – 634 ms\n",
    "3. Random Forest – 779 ms\n",
    "4. GBM – 1.28 s"
   ]
  },
  {
   "cell_type": "markdown",
   "id": "d16a7347",
   "metadata": {},
   "source": [
    "**Performance ranked best to worst**"
   ]
  },
  {
   "cell_type": "markdown",
   "id": "83e34224",
   "metadata": {},
   "source": [
    "1. XGBoost – Accuracy: 0.9800, F1: 0.8649\n",
    "2. Random Forest – Accuracy: 0.9716, F1: 0.7921\n",
    "3. GBM – Accuracy: 0.9705, F1: 0.7781\n",
    "4. AdaBoost – Accuracy: 0.9495, F1: 0.6033 "
   ]
  },
  {
   "cell_type": "markdown",
   "id": "d720b8a7",
   "metadata": {},
   "source": [
    "**Overall Winner**"
   ]
  },
  {
   "cell_type": "markdown",
   "id": "7d9e1ccd",
   "metadata": {},
   "source": [
    "Overall, the winner is XGBoost because it has the highest performance and it is one of the fastest models!"
   ]
  },
  {
   "cell_type": "code",
   "execution_count": 168,
   "id": "7bf8971f",
   "metadata": {},
   "outputs": [
    {
     "name": "stdout",
     "output_type": "stream",
     "text": [
      "[NbConvertApp] Converting notebook HW11.ipynb to html\n",
      "[NbConvertApp] Writing 895529 bytes to HW11.html\n"
     ]
    }
   ],
   "source": [
    "!jupyter nbconvert --to html HW11.ipynb"
   ]
  }
 ],
 "metadata": {
  "kernelspec": {
   "display_name": "Python 3 (ipykernel)",
   "language": "python",
   "name": "python3"
  },
  "language_info": {
   "codemirror_mode": {
    "name": "ipython",
    "version": 3
   },
   "file_extension": ".py",
   "mimetype": "text/x-python",
   "name": "python",
   "nbconvert_exporter": "python",
   "pygments_lexer": "ipython3",
   "version": "3.9.7"
  }
 },
 "nbformat": 4,
 "nbformat_minor": 5
}
