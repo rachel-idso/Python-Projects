{
 "cells": [
  {
   "cell_type": "markdown",
   "id": "aacac57f",
   "metadata": {},
   "source": [
    "# HW8\n",
    "## EDA"
   ]
  },
  {
   "cell_type": "code",
   "execution_count": 67,
   "id": "6f8a4cf3",
   "metadata": {},
   "outputs": [],
   "source": [
    "import numpy as np\n",
    "import pandas as pd\n",
    "import matplotlib.pyplot as plt\n",
    "import seaborn as sns\n",
    "import warnings\n",
    "warnings.filterwarnings('ignore')"
   ]
  },
  {
   "cell_type": "code",
   "execution_count": 68,
   "id": "cfdc32cb",
   "metadata": {},
   "outputs": [],
   "source": [
    "rand_state = 1000"
   ]
  },
  {
   "cell_type": "code",
   "execution_count": 69,
   "id": "4e0198af",
   "metadata": {},
   "outputs": [
    {
     "data": {
      "text/html": [
       "<div>\n",
       "<style scoped>\n",
       "    .dataframe tbody tr th:only-of-type {\n",
       "        vertical-align: middle;\n",
       "    }\n",
       "\n",
       "    .dataframe tbody tr th {\n",
       "        vertical-align: top;\n",
       "    }\n",
       "\n",
       "    .dataframe thead th {\n",
       "        text-align: right;\n",
       "    }\n",
       "</style>\n",
       "<table border=\"1\" class=\"dataframe\">\n",
       "  <thead>\n",
       "    <tr style=\"text-align: right;\">\n",
       "      <th></th>\n",
       "      <th>Sold Price</th>\n",
       "      <th>DOM</th>\n",
       "      <th>Garage Capacity</th>\n",
       "      <th>HOA Fee</th>\n",
       "      <th>Irregular Shape</th>\n",
       "      <th>Quadrant</th>\n",
       "      <th>School District</th>\n",
       "      <th>Sold Terms</th>\n",
       "      <th>Total Bedrooms</th>\n",
       "      <th>Total Bathrooms</th>\n",
       "      <th>Total Square Feet</th>\n",
       "      <th>Year Built</th>\n",
       "      <th>Zip</th>\n",
       "      <th>year_sold</th>\n",
       "      <th>month_sold</th>\n",
       "      <th>built_after_2000</th>\n",
       "    </tr>\n",
       "  </thead>\n",
       "  <tbody>\n",
       "    <tr>\n",
       "      <th>0</th>\n",
       "      <td>176000</td>\n",
       "      <td>5</td>\n",
       "      <td>2</td>\n",
       "      <td>0</td>\n",
       "      <td>No</td>\n",
       "      <td>NW</td>\n",
       "      <td>Cache</td>\n",
       "      <td>FHA</td>\n",
       "      <td>3</td>\n",
       "      <td>1</td>\n",
       "      <td>1031</td>\n",
       "      <td>1974</td>\n",
       "      <td>84335</td>\n",
       "      <td>2018</td>\n",
       "      <td>9</td>\n",
       "      <td>0</td>\n",
       "    </tr>\n",
       "    <tr>\n",
       "      <th>1</th>\n",
       "      <td>225000</td>\n",
       "      <td>6</td>\n",
       "      <td>2</td>\n",
       "      <td>0</td>\n",
       "      <td>No</td>\n",
       "      <td>NW</td>\n",
       "      <td>Cache</td>\n",
       "      <td>Conventional</td>\n",
       "      <td>4</td>\n",
       "      <td>2</td>\n",
       "      <td>2091</td>\n",
       "      <td>1995</td>\n",
       "      <td>84335</td>\n",
       "      <td>2018</td>\n",
       "      <td>7</td>\n",
       "      <td>0</td>\n",
       "    </tr>\n",
       "    <tr>\n",
       "      <th>2</th>\n",
       "      <td>274900</td>\n",
       "      <td>14</td>\n",
       "      <td>2</td>\n",
       "      <td>0</td>\n",
       "      <td>No</td>\n",
       "      <td>NW</td>\n",
       "      <td>Cache</td>\n",
       "      <td>Conventional</td>\n",
       "      <td>3</td>\n",
       "      <td>1</td>\n",
       "      <td>2016</td>\n",
       "      <td>1980</td>\n",
       "      <td>84335</td>\n",
       "      <td>2018</td>\n",
       "      <td>11</td>\n",
       "      <td>0</td>\n",
       "    </tr>\n",
       "    <tr>\n",
       "      <th>3</th>\n",
       "      <td>175000</td>\n",
       "      <td>16</td>\n",
       "      <td>1</td>\n",
       "      <td>0</td>\n",
       "      <td>No</td>\n",
       "      <td>NW</td>\n",
       "      <td>Cache</td>\n",
       "      <td>USDA Rural Development</td>\n",
       "      <td>4</td>\n",
       "      <td>1</td>\n",
       "      <td>1920</td>\n",
       "      <td>1978</td>\n",
       "      <td>84335</td>\n",
       "      <td>2018</td>\n",
       "      <td>6</td>\n",
       "      <td>0</td>\n",
       "    </tr>\n",
       "    <tr>\n",
       "      <th>4</th>\n",
       "      <td>179000</td>\n",
       "      <td>29</td>\n",
       "      <td>0</td>\n",
       "      <td>0</td>\n",
       "      <td>No</td>\n",
       "      <td>NW</td>\n",
       "      <td>Cache</td>\n",
       "      <td>Cash</td>\n",
       "      <td>4</td>\n",
       "      <td>2</td>\n",
       "      <td>1329</td>\n",
       "      <td>1976</td>\n",
       "      <td>84335</td>\n",
       "      <td>2018</td>\n",
       "      <td>9</td>\n",
       "      <td>0</td>\n",
       "    </tr>\n",
       "  </tbody>\n",
       "</table>\n",
       "</div>"
      ],
      "text/plain": [
       "   Sold Price  DOM  Garage Capacity  HOA Fee Irregular Shape Quadrant  \\\n",
       "0      176000    5                2        0              No       NW   \n",
       "1      225000    6                2        0              No       NW   \n",
       "2      274900   14                2        0              No       NW   \n",
       "3      175000   16                1        0              No       NW   \n",
       "4      179000   29                0        0              No       NW   \n",
       "\n",
       "  School District              Sold Terms  Total Bedrooms  Total Bathrooms  \\\n",
       "0           Cache                     FHA               3                1   \n",
       "1           Cache            Conventional               4                2   \n",
       "2           Cache            Conventional               3                1   \n",
       "3           Cache  USDA Rural Development               4                1   \n",
       "4           Cache                    Cash               4                2   \n",
       "\n",
       "   Total Square Feet  Year Built    Zip  year_sold  month_sold  \\\n",
       "0               1031        1974  84335       2018           9   \n",
       "1               2091        1995  84335       2018           7   \n",
       "2               2016        1980  84335       2018          11   \n",
       "3               1920        1978  84335       2018           6   \n",
       "4               1329        1976  84335       2018           9   \n",
       "\n",
       "   built_after_2000  \n",
       "0                 0  \n",
       "1                 0  \n",
       "2                 0  \n",
       "3                 0  \n",
       "4                 0  "
      ]
     },
     "execution_count": 69,
     "metadata": {},
     "output_type": "execute_result"
    }
   ],
   "source": [
    "df = pd.read_csv('Logan_housing.csv')\n",
    "df.head()"
   ]
  },
  {
   "cell_type": "code",
   "execution_count": 70,
   "id": "b5d46e18",
   "metadata": {},
   "outputs": [
    {
     "name": "stdout",
     "output_type": "stream",
     "text": [
      "<class 'pandas.core.frame.DataFrame'>\n",
      "RangeIndex: 4110 entries, 0 to 4109\n",
      "Data columns (total 16 columns):\n",
      " #   Column             Non-Null Count  Dtype \n",
      "---  ------             --------------  ----- \n",
      " 0   Sold Price         4110 non-null   int64 \n",
      " 1   DOM                4110 non-null   int64 \n",
      " 2   Garage Capacity    4110 non-null   int64 \n",
      " 3   HOA Fee            4110 non-null   int64 \n",
      " 4   Irregular Shape    4110 non-null   object\n",
      " 5   Quadrant           4110 non-null   object\n",
      " 6   School District    4110 non-null   object\n",
      " 7   Sold Terms         4110 non-null   object\n",
      " 8   Total Bedrooms     4110 non-null   int64 \n",
      " 9   Total Bathrooms    4110 non-null   int64 \n",
      " 10  Total Square Feet  4110 non-null   int64 \n",
      " 11  Year Built         4110 non-null   int64 \n",
      " 12  Zip                4110 non-null   int64 \n",
      " 13  year_sold          4110 non-null   int64 \n",
      " 14  month_sold         4110 non-null   int64 \n",
      " 15  built_after_2000   4110 non-null   int64 \n",
      "dtypes: int64(12), object(4)\n",
      "memory usage: 513.9+ KB\n"
     ]
    }
   ],
   "source": [
    "df.info()"
   ]
  },
  {
   "cell_type": "code",
   "execution_count": 71,
   "id": "0841a3e4",
   "metadata": {},
   "outputs": [
    {
     "data": {
      "text/html": [
       "<div>\n",
       "<style scoped>\n",
       "    .dataframe tbody tr th:only-of-type {\n",
       "        vertical-align: middle;\n",
       "    }\n",
       "\n",
       "    .dataframe tbody tr th {\n",
       "        vertical-align: top;\n",
       "    }\n",
       "\n",
       "    .dataframe thead th {\n",
       "        text-align: right;\n",
       "    }\n",
       "</style>\n",
       "<table border=\"1\" class=\"dataframe\">\n",
       "  <thead>\n",
       "    <tr style=\"text-align: right;\">\n",
       "      <th></th>\n",
       "      <th>count</th>\n",
       "      <th>mean</th>\n",
       "      <th>std</th>\n",
       "      <th>min</th>\n",
       "      <th>25%</th>\n",
       "      <th>50%</th>\n",
       "      <th>75%</th>\n",
       "      <th>max</th>\n",
       "    </tr>\n",
       "  </thead>\n",
       "  <tbody>\n",
       "    <tr>\n",
       "      <th>Sold Price</th>\n",
       "      <td>4110.0</td>\n",
       "      <td>282125.245499</td>\n",
       "      <td>117864.718806</td>\n",
       "      <td>13000.0</td>\n",
       "      <td>214000.0</td>\n",
       "      <td>260000.0</td>\n",
       "      <td>324900.00</td>\n",
       "      <td>1900000.0</td>\n",
       "    </tr>\n",
       "    <tr>\n",
       "      <th>DOM</th>\n",
       "      <td>4110.0</td>\n",
       "      <td>40.550608</td>\n",
       "      <td>51.571991</td>\n",
       "      <td>1.0</td>\n",
       "      <td>6.0</td>\n",
       "      <td>23.0</td>\n",
       "      <td>56.00</td>\n",
       "      <td>712.0</td>\n",
       "    </tr>\n",
       "    <tr>\n",
       "      <th>Garage Capacity</th>\n",
       "      <td>4110.0</td>\n",
       "      <td>1.826034</td>\n",
       "      <td>1.094091</td>\n",
       "      <td>0.0</td>\n",
       "      <td>1.0</td>\n",
       "      <td>2.0</td>\n",
       "      <td>2.00</td>\n",
       "      <td>20.0</td>\n",
       "    </tr>\n",
       "    <tr>\n",
       "      <th>HOA Fee</th>\n",
       "      <td>4110.0</td>\n",
       "      <td>36.178345</td>\n",
       "      <td>69.565512</td>\n",
       "      <td>0.0</td>\n",
       "      <td>0.0</td>\n",
       "      <td>0.0</td>\n",
       "      <td>65.00</td>\n",
       "      <td>1050.0</td>\n",
       "    </tr>\n",
       "    <tr>\n",
       "      <th>Total Bedrooms</th>\n",
       "      <td>4110.0</td>\n",
       "      <td>3.821168</td>\n",
       "      <td>1.182697</td>\n",
       "      <td>1.0</td>\n",
       "      <td>3.0</td>\n",
       "      <td>4.0</td>\n",
       "      <td>5.00</td>\n",
       "      <td>9.0</td>\n",
       "    </tr>\n",
       "    <tr>\n",
       "      <th>Total Bathrooms</th>\n",
       "      <td>4110.0</td>\n",
       "      <td>2.577372</td>\n",
       "      <td>0.851165</td>\n",
       "      <td>1.0</td>\n",
       "      <td>2.0</td>\n",
       "      <td>3.0</td>\n",
       "      <td>3.00</td>\n",
       "      <td>7.0</td>\n",
       "    </tr>\n",
       "    <tr>\n",
       "      <th>Total Square Feet</th>\n",
       "      <td>4110.0</td>\n",
       "      <td>2370.429440</td>\n",
       "      <td>1049.690077</td>\n",
       "      <td>520.0</td>\n",
       "      <td>1583.0</td>\n",
       "      <td>2141.0</td>\n",
       "      <td>2941.75</td>\n",
       "      <td>10890.0</td>\n",
       "    </tr>\n",
       "    <tr>\n",
       "      <th>Year Built</th>\n",
       "      <td>4110.0</td>\n",
       "      <td>1989.287105</td>\n",
       "      <td>31.284714</td>\n",
       "      <td>1879.0</td>\n",
       "      <td>1976.0</td>\n",
       "      <td>2001.0</td>\n",
       "      <td>2012.00</td>\n",
       "      <td>2020.0</td>\n",
       "    </tr>\n",
       "    <tr>\n",
       "      <th>Zip</th>\n",
       "      <td>4110.0</td>\n",
       "      <td>84327.371533</td>\n",
       "      <td>8.617330</td>\n",
       "      <td>84305.0</td>\n",
       "      <td>84321.0</td>\n",
       "      <td>84321.0</td>\n",
       "      <td>84335.00</td>\n",
       "      <td>84341.0</td>\n",
       "    </tr>\n",
       "    <tr>\n",
       "      <th>year_sold</th>\n",
       "      <td>4110.0</td>\n",
       "      <td>2019.010462</td>\n",
       "      <td>0.816678</td>\n",
       "      <td>2018.0</td>\n",
       "      <td>2018.0</td>\n",
       "      <td>2019.0</td>\n",
       "      <td>2020.00</td>\n",
       "      <td>2020.0</td>\n",
       "    </tr>\n",
       "    <tr>\n",
       "      <th>month_sold</th>\n",
       "      <td>4110.0</td>\n",
       "      <td>6.678345</td>\n",
       "      <td>3.033550</td>\n",
       "      <td>1.0</td>\n",
       "      <td>4.0</td>\n",
       "      <td>7.0</td>\n",
       "      <td>9.00</td>\n",
       "      <td>12.0</td>\n",
       "    </tr>\n",
       "    <tr>\n",
       "      <th>built_after_2000</th>\n",
       "      <td>4110.0</td>\n",
       "      <td>0.517518</td>\n",
       "      <td>0.499754</td>\n",
       "      <td>0.0</td>\n",
       "      <td>0.0</td>\n",
       "      <td>1.0</td>\n",
       "      <td>1.00</td>\n",
       "      <td>1.0</td>\n",
       "    </tr>\n",
       "  </tbody>\n",
       "</table>\n",
       "</div>"
      ],
      "text/plain": [
       "                    count           mean            std      min       25%  \\\n",
       "Sold Price         4110.0  282125.245499  117864.718806  13000.0  214000.0   \n",
       "DOM                4110.0      40.550608      51.571991      1.0       6.0   \n",
       "Garage Capacity    4110.0       1.826034       1.094091      0.0       1.0   \n",
       "HOA Fee            4110.0      36.178345      69.565512      0.0       0.0   \n",
       "Total Bedrooms     4110.0       3.821168       1.182697      1.0       3.0   \n",
       "Total Bathrooms    4110.0       2.577372       0.851165      1.0       2.0   \n",
       "Total Square Feet  4110.0    2370.429440    1049.690077    520.0    1583.0   \n",
       "Year Built         4110.0    1989.287105      31.284714   1879.0    1976.0   \n",
       "Zip                4110.0   84327.371533       8.617330  84305.0   84321.0   \n",
       "year_sold          4110.0    2019.010462       0.816678   2018.0    2018.0   \n",
       "month_sold         4110.0       6.678345       3.033550      1.0       4.0   \n",
       "built_after_2000   4110.0       0.517518       0.499754      0.0       0.0   \n",
       "\n",
       "                        50%        75%        max  \n",
       "Sold Price         260000.0  324900.00  1900000.0  \n",
       "DOM                    23.0      56.00      712.0  \n",
       "Garage Capacity         2.0       2.00       20.0  \n",
       "HOA Fee                 0.0      65.00     1050.0  \n",
       "Total Bedrooms          4.0       5.00        9.0  \n",
       "Total Bathrooms         3.0       3.00        7.0  \n",
       "Total Square Feet    2141.0    2941.75    10890.0  \n",
       "Year Built           2001.0    2012.00     2020.0  \n",
       "Zip                 84321.0   84335.00    84341.0  \n",
       "year_sold            2019.0    2020.00     2020.0  \n",
       "month_sold              7.0       9.00       12.0  \n",
       "built_after_2000        1.0       1.00        1.0  "
      ]
     },
     "execution_count": 71,
     "metadata": {},
     "output_type": "execute_result"
    }
   ],
   "source": [
    "df.describe().T"
   ]
  },
  {
   "cell_type": "code",
   "execution_count": 72,
   "id": "f8d305a7",
   "metadata": {},
   "outputs": [
    {
     "data": {
      "text/plain": [
       "Sold Price           1217\n",
       "DOM                   248\n",
       "Garage Capacity        14\n",
       "HOA Fee                96\n",
       "Irregular Shape         2\n",
       "Quadrant                4\n",
       "School District         2\n",
       "Sold Terms              6\n",
       "Total Bedrooms          9\n",
       "Total Bathrooms         7\n",
       "Total Square Feet    2009\n",
       "Year Built            136\n",
       "Zip                    16\n",
       "year_sold               3\n",
       "month_sold             12\n",
       "built_after_2000        2\n",
       "dtype: int64"
      ]
     },
     "execution_count": 72,
     "metadata": {},
     "output_type": "execute_result"
    }
   ],
   "source": [
    "df.nunique()"
   ]
  },
  {
   "cell_type": "markdown",
   "id": "0ee8a9c0",
   "metadata": {},
   "source": [
    "This shows us that we need to change some of the variables to categorical variables. "
   ]
  },
  {
   "cell_type": "code",
   "execution_count": 73,
   "id": "041927cb",
   "metadata": {},
   "outputs": [],
   "source": [
    "categorical = ['Irregular Shape', 'Quadrant', 'School District', 'Sold Terms', 'Zip', 'Year Built', 'year_sold', 'month_sold', 'built_after_2000']"
   ]
  },
  {
   "cell_type": "code",
   "execution_count": 74,
   "id": "e1ee0789",
   "metadata": {},
   "outputs": [],
   "source": [
    "for col in categorical:\n",
    "    df[col]=df[col].astype(\"category\")"
   ]
  },
  {
   "cell_type": "code",
   "execution_count": 75,
   "id": "1590afde",
   "metadata": {},
   "outputs": [
    {
     "data": {
      "text/plain": [
       "Sold Price           0\n",
       "DOM                  0\n",
       "Garage Capacity      0\n",
       "HOA Fee              0\n",
       "Irregular Shape      0\n",
       "Quadrant             0\n",
       "School District      0\n",
       "Sold Terms           0\n",
       "Total Bedrooms       0\n",
       "Total Bathrooms      0\n",
       "Total Square Feet    0\n",
       "Year Built           0\n",
       "Zip                  0\n",
       "year_sold            0\n",
       "month_sold           0\n",
       "built_after_2000     0\n",
       "dtype: int64"
      ]
     },
     "execution_count": 75,
     "metadata": {},
     "output_type": "execute_result"
    }
   ],
   "source": [
    "df.isna().sum()"
   ]
  },
  {
   "cell_type": "code",
   "execution_count": 76,
   "id": "51ecb710",
   "metadata": {},
   "outputs": [
    {
     "name": "stdout",
     "output_type": "stream",
     "text": [
      "<class 'pandas.core.frame.DataFrame'>\n",
      "RangeIndex: 4110 entries, 0 to 4109\n",
      "Data columns (total 16 columns):\n",
      " #   Column             Non-Null Count  Dtype   \n",
      "---  ------             --------------  -----   \n",
      " 0   Sold Price         4110 non-null   int64   \n",
      " 1   DOM                4110 non-null   int64   \n",
      " 2   Garage Capacity    4110 non-null   int64   \n",
      " 3   HOA Fee            4110 non-null   int64   \n",
      " 4   Irregular Shape    4110 non-null   category\n",
      " 5   Quadrant           4110 non-null   category\n",
      " 6   School District    4110 non-null   category\n",
      " 7   Sold Terms         4110 non-null   category\n",
      " 8   Total Bedrooms     4110 non-null   int64   \n",
      " 9   Total Bathrooms    4110 non-null   int64   \n",
      " 10  Total Square Feet  4110 non-null   int64   \n",
      " 11  Year Built         4110 non-null   category\n",
      " 12  Zip                4110 non-null   category\n",
      " 13  year_sold          4110 non-null   category\n",
      " 14  month_sold         4110 non-null   category\n",
      " 15  built_after_2000   4110 non-null   category\n",
      "dtypes: category(9), int64(7)\n",
      "memory usage: 272.1 KB\n"
     ]
    }
   ],
   "source": [
    "df.info()"
   ]
  },
  {
   "cell_type": "markdown",
   "id": "e6eef9fe",
   "metadata": {},
   "source": [
    "To get an idea for the distribution of the Sold Price, let's look at a histogram. "
   ]
  },
  {
   "cell_type": "code",
   "execution_count": 77,
   "id": "a1707285",
   "metadata": {},
   "outputs": [
    {
     "data": {
      "text/plain": [
       "<Figure size 864x432 with 0 Axes>"
      ]
     },
     "metadata": {},
     "output_type": "display_data"
    },
    {
     "data": {
      "image/png": "[encoded data removed]",
      "text/plain": [
       "<Figure size 360x360 with 1 Axes>"
      ]
     },
     "metadata": {
      "needs_background": "light"
     },
     "output_type": "display_data"
    }
   ],
   "source": [
    "# now we plot a histogram of df2 as well as a chart that shows what the distribution of the entire data frame\n",
    "plt.figure(figsize=(12,6))\n",
    "sns.displot(df['Sold Price'], kde=True, bins=50, rug=True)\n",
    "plt.show()"
   ]
  },
  {
   "cell_type": "markdown",
   "id": "053089df",
   "metadata": {},
   "source": [
    "Let's see how the number of sales compares accross the different months. "
   ]
  },
  {
   "cell_type": "code",
   "execution_count": 78,
   "id": "ba68adab",
   "metadata": {},
   "outputs": [
    {
     "data": {
      "text/html": [
       "<div>\n",
       "<style scoped>\n",
       "    .dataframe tbody tr th:only-of-type {\n",
       "        vertical-align: middle;\n",
       "    }\n",
       "\n",
       "    .dataframe tbody tr th {\n",
       "        vertical-align: top;\n",
       "    }\n",
       "\n",
       "    .dataframe thead th {\n",
       "        text-align: right;\n",
       "    }\n",
       "</style>\n",
       "<table border=\"1\" class=\"dataframe\">\n",
       "  <thead>\n",
       "    <tr style=\"text-align: right;\">\n",
       "      <th></th>\n",
       "      <th>month_sold</th>\n",
       "      <th>Sales_count</th>\n",
       "    </tr>\n",
       "  </thead>\n",
       "  <tbody>\n",
       "    <tr>\n",
       "      <th>0</th>\n",
       "      <td>1</td>\n",
       "      <td>213</td>\n",
       "    </tr>\n",
       "    <tr>\n",
       "      <th>1</th>\n",
       "      <td>2</td>\n",
       "      <td>220</td>\n",
       "    </tr>\n",
       "    <tr>\n",
       "      <th>2</th>\n",
       "      <td>3</td>\n",
       "      <td>313</td>\n",
       "    </tr>\n",
       "    <tr>\n",
       "      <th>3</th>\n",
       "      <td>4</td>\n",
       "      <td>306</td>\n",
       "    </tr>\n",
       "    <tr>\n",
       "      <th>4</th>\n",
       "      <td>5</td>\n",
       "      <td>413</td>\n",
       "    </tr>\n",
       "    <tr>\n",
       "      <th>5</th>\n",
       "      <td>6</td>\n",
       "      <td>468</td>\n",
       "    </tr>\n",
       "    <tr>\n",
       "      <th>6</th>\n",
       "      <td>7</td>\n",
       "      <td>471</td>\n",
       "    </tr>\n",
       "    <tr>\n",
       "      <th>7</th>\n",
       "      <td>8</td>\n",
       "      <td>475</td>\n",
       "    </tr>\n",
       "    <tr>\n",
       "      <th>8</th>\n",
       "      <td>9</td>\n",
       "      <td>362</td>\n",
       "    </tr>\n",
       "    <tr>\n",
       "      <th>9</th>\n",
       "      <td>10</td>\n",
       "      <td>378</td>\n",
       "    </tr>\n",
       "    <tr>\n",
       "      <th>10</th>\n",
       "      <td>11</td>\n",
       "      <td>268</td>\n",
       "    </tr>\n",
       "    <tr>\n",
       "      <th>11</th>\n",
       "      <td>12</td>\n",
       "      <td>223</td>\n",
       "    </tr>\n",
       "  </tbody>\n",
       "</table>\n",
       "</div>"
      ],
      "text/plain": [
       "   month_sold  Sales_count\n",
       "0           1          213\n",
       "1           2          220\n",
       "2           3          313\n",
       "3           4          306\n",
       "4           5          413\n",
       "5           6          468\n",
       "6           7          471\n",
       "7           8          475\n",
       "8           9          362\n",
       "9          10          378\n",
       "10         11          268\n",
       "11         12          223"
      ]
     },
     "execution_count": 78,
     "metadata": {},
     "output_type": "execute_result"
    }
   ],
   "source": [
    "df_bar=df[['month_sold', 'Sold Price']].groupby(by='month_sold').count().sort_values(by='month_sold', ascending=True).reset_index()\n",
    "df_bar.columns.values[1]='Sales_count'\n",
    "df_bar"
   ]
  },
  {
   "cell_type": "markdown",
   "id": "8304d144",
   "metadata": {},
   "source": [
    "Let's visualize the table above. "
   ]
  },
  {
   "cell_type": "code",
   "execution_count": 79,
   "id": "f1789041",
   "metadata": {},
   "outputs": [
    {
     "data": {
      "image/png": "[encoded data removed]",
      "text/plain": [
       "<Figure size 864x432 with 1 Axes>"
      ]
     },
     "metadata": {
      "needs_background": "light"
     },
     "output_type": "display_data"
    }
   ],
   "source": [
    "plt.figure(figsize=(12,6))\n",
    "sns.barplot(y = 'month_sold', x = 'Sales_count', data = df_bar )\n",
    "plt.title('count SALEs by each month')\n",
    "plt.show()"
   ]
  },
  {
   "cell_type": "markdown",
   "id": "2e57919d",
   "metadata": {},
   "source": [
    "## SVM – Regression"
   ]
  },
  {
   "cell_type": "code",
   "execution_count": 80,
   "id": "329922fb",
   "metadata": {},
   "outputs": [],
   "source": [
    "df = pd.get_dummies(df, drop_first=True)"
   ]
  },
  {
   "cell_type": "code",
   "execution_count": 81,
   "id": "833f3fa6",
   "metadata": {},
   "outputs": [
    {
     "data": {
      "text/html": [
       "<div>\n",
       "<style scoped>\n",
       "    .dataframe tbody tr th:only-of-type {\n",
       "        vertical-align: middle;\n",
       "    }\n",
       "\n",
       "    .dataframe tbody tr th {\n",
       "        vertical-align: top;\n",
       "    }\n",
       "\n",
       "    .dataframe thead th {\n",
       "        text-align: right;\n",
       "    }\n",
       "</style>\n",
       "<table border=\"1\" class=\"dataframe\">\n",
       "  <thead>\n",
       "    <tr style=\"text-align: right;\">\n",
       "      <th></th>\n",
       "      <th>Sold Price</th>\n",
       "      <th>DOM</th>\n",
       "      <th>Garage Capacity</th>\n",
       "      <th>HOA Fee</th>\n",
       "      <th>Total Bedrooms</th>\n",
       "      <th>Total Bathrooms</th>\n",
       "      <th>Total Square Feet</th>\n",
       "      <th>Irregular Shape_Yes</th>\n",
       "      <th>Quadrant_NW</th>\n",
       "      <th>Quadrant_SE</th>\n",
       "      <th>...</th>\n",
       "      <th>month_sold_4</th>\n",
       "      <th>month_sold_5</th>\n",
       "      <th>month_sold_6</th>\n",
       "      <th>month_sold_7</th>\n",
       "      <th>month_sold_8</th>\n",
       "      <th>month_sold_9</th>\n",
       "      <th>month_sold_10</th>\n",
       "      <th>month_sold_11</th>\n",
       "      <th>month_sold_12</th>\n",
       "      <th>built_after_2000_1</th>\n",
       "    </tr>\n",
       "  </thead>\n",
       "  <tbody>\n",
       "    <tr>\n",
       "      <th>0</th>\n",
       "      <td>176000</td>\n",
       "      <td>5</td>\n",
       "      <td>2</td>\n",
       "      <td>0</td>\n",
       "      <td>3</td>\n",
       "      <td>1</td>\n",
       "      <td>1031</td>\n",
       "      <td>0</td>\n",
       "      <td>1</td>\n",
       "      <td>0</td>\n",
       "      <td>...</td>\n",
       "      <td>0</td>\n",
       "      <td>0</td>\n",
       "      <td>0</td>\n",
       "      <td>0</td>\n",
       "      <td>0</td>\n",
       "      <td>1</td>\n",
       "      <td>0</td>\n",
       "      <td>0</td>\n",
       "      <td>0</td>\n",
       "      <td>0</td>\n",
       "    </tr>\n",
       "    <tr>\n",
       "      <th>1</th>\n",
       "      <td>225000</td>\n",
       "      <td>6</td>\n",
       "      <td>2</td>\n",
       "      <td>0</td>\n",
       "      <td>4</td>\n",
       "      <td>2</td>\n",
       "      <td>2091</td>\n",
       "      <td>0</td>\n",
       "      <td>1</td>\n",
       "      <td>0</td>\n",
       "      <td>...</td>\n",
       "      <td>0</td>\n",
       "      <td>0</td>\n",
       "      <td>0</td>\n",
       "      <td>1</td>\n",
       "      <td>0</td>\n",
       "      <td>0</td>\n",
       "      <td>0</td>\n",
       "      <td>0</td>\n",
       "      <td>0</td>\n",
       "      <td>0</td>\n",
       "    </tr>\n",
       "    <tr>\n",
       "      <th>2</th>\n",
       "      <td>274900</td>\n",
       "      <td>14</td>\n",
       "      <td>2</td>\n",
       "      <td>0</td>\n",
       "      <td>3</td>\n",
       "      <td>1</td>\n",
       "      <td>2016</td>\n",
       "      <td>0</td>\n",
       "      <td>1</td>\n",
       "      <td>0</td>\n",
       "      <td>...</td>\n",
       "      <td>0</td>\n",
       "      <td>0</td>\n",
       "      <td>0</td>\n",
       "      <td>0</td>\n",
       "      <td>0</td>\n",
       "      <td>0</td>\n",
       "      <td>0</td>\n",
       "      <td>1</td>\n",
       "      <td>0</td>\n",
       "      <td>0</td>\n",
       "    </tr>\n",
       "    <tr>\n",
       "      <th>3</th>\n",
       "      <td>175000</td>\n",
       "      <td>16</td>\n",
       "      <td>1</td>\n",
       "      <td>0</td>\n",
       "      <td>4</td>\n",
       "      <td>1</td>\n",
       "      <td>1920</td>\n",
       "      <td>0</td>\n",
       "      <td>1</td>\n",
       "      <td>0</td>\n",
       "      <td>...</td>\n",
       "      <td>0</td>\n",
       "      <td>0</td>\n",
       "      <td>1</td>\n",
       "      <td>0</td>\n",
       "      <td>0</td>\n",
       "      <td>0</td>\n",
       "      <td>0</td>\n",
       "      <td>0</td>\n",
       "      <td>0</td>\n",
       "      <td>0</td>\n",
       "    </tr>\n",
       "    <tr>\n",
       "      <th>4</th>\n",
       "      <td>179000</td>\n",
       "      <td>29</td>\n",
       "      <td>0</td>\n",
       "      <td>0</td>\n",
       "      <td>4</td>\n",
       "      <td>2</td>\n",
       "      <td>1329</td>\n",
       "      <td>0</td>\n",
       "      <td>1</td>\n",
       "      <td>0</td>\n",
       "      <td>...</td>\n",
       "      <td>0</td>\n",
       "      <td>0</td>\n",
       "      <td>0</td>\n",
       "      <td>0</td>\n",
       "      <td>0</td>\n",
       "      <td>1</td>\n",
       "      <td>0</td>\n",
       "      <td>0</td>\n",
       "      <td>0</td>\n",
       "      <td>0</td>\n",
       "    </tr>\n",
       "  </tbody>\n",
       "</table>\n",
       "<p>5 rows × 181 columns</p>\n",
       "</div>"
      ],
      "text/plain": [
       "   Sold Price  DOM  Garage Capacity  HOA Fee  Total Bedrooms  Total Bathrooms  \\\n",
       "0      176000    5                2        0               3                1   \n",
       "1      225000    6                2        0               4                2   \n",
       "2      274900   14                2        0               3                1   \n",
       "3      175000   16                1        0               4                1   \n",
       "4      179000   29                0        0               4                2   \n",
       "\n",
       "   Total Square Feet  Irregular Shape_Yes  Quadrant_NW  Quadrant_SE  ...  \\\n",
       "0               1031                    0            1            0  ...   \n",
       "1               2091                    0            1            0  ...   \n",
       "2               2016                    0            1            0  ...   \n",
       "3               1920                    0            1            0  ...   \n",
       "4               1329                    0            1            0  ...   \n",
       "\n",
       "   month_sold_4  month_sold_5  month_sold_6  month_sold_7  month_sold_8  \\\n",
       "0             0             0             0             0             0   \n",
       "1             0             0             0             1             0   \n",
       "2             0             0             0             0             0   \n",
       "3             0             0             1             0             0   \n",
       "4             0             0             0             0             0   \n",
       "\n",
       "   month_sold_9  month_sold_10  month_sold_11  month_sold_12  \\\n",
       "0             1              0              0              0   \n",
       "1             0              0              0              0   \n",
       "2             0              0              1              0   \n",
       "3             0              0              0              0   \n",
       "4             1              0              0              0   \n",
       "\n",
       "   built_after_2000_1  \n",
       "0                   0  \n",
       "1                   0  \n",
       "2                   0  \n",
       "3                   0  \n",
       "4                   0  \n",
       "\n",
       "[5 rows x 181 columns]"
      ]
     },
     "execution_count": 81,
     "metadata": {},
     "output_type": "execute_result"
    }
   ],
   "source": [
    "df.head()"
   ]
  },
  {
   "cell_type": "code",
   "execution_count": 82,
   "id": "00fc1034",
   "metadata": {},
   "outputs": [],
   "source": [
    "from sklearn.preprocessing import StandardScaler"
   ]
  },
  {
   "cell_type": "code",
   "execution_count": 83,
   "id": "a25bc006",
   "metadata": {},
   "outputs": [],
   "source": [
    "scale = StandardScaler()\n",
    "df_sc = scale.fit_transform(df)\n",
    "df_sc = pd.DataFrame(df_sc, columns=df.columns)"
   ]
  },
  {
   "cell_type": "code",
   "execution_count": 84,
   "id": "cee9f758",
   "metadata": {},
   "outputs": [],
   "source": [
    "y = df_sc['Sold Price']\n",
    "X = df_sc.drop('Sold Price', axis=1) # becareful inplace= False\n",
    "\n",
    "from sklearn.model_selection import train_test_split\n",
    "X_train, X_test, y_train, y_test = train_test_split(X, y, test_size=0.2, random_state=rand_state)"
   ]
  },
  {
   "cell_type": "code",
   "execution_count": 85,
   "id": "0240a684",
   "metadata": {},
   "outputs": [],
   "source": [
    "from sklearn.svm import SVR"
   ]
  },
  {
   "cell_type": "code",
   "execution_count": 86,
   "id": "6e83c16c",
   "metadata": {},
   "outputs": [
    {
     "data": {
      "text/plain": [
       "SVR()"
      ]
     },
     "execution_count": 86,
     "metadata": {},
     "output_type": "execute_result"
    }
   ],
   "source": [
    "# Fitting SVM regression to the Training set\n",
    "SVM_regression = SVR()\n",
    "SVM_regression.fit(X_train, y_train)"
   ]
  },
  {
   "cell_type": "code",
   "execution_count": 87,
   "id": "30d19ad4",
   "metadata": {},
   "outputs": [],
   "source": [
    "# Predicting the Test set results\n",
    "y_hat = SVM_regression.predict(X_test)"
   ]
  },
  {
   "cell_type": "code",
   "execution_count": 88,
   "id": "a6a7feae",
   "metadata": {},
   "outputs": [
    {
     "data": {
      "text/html": [
       "<div>\n",
       "<style scoped>\n",
       "    .dataframe tbody tr th:only-of-type {\n",
       "        vertical-align: middle;\n",
       "    }\n",
       "\n",
       "    .dataframe tbody tr th {\n",
       "        vertical-align: top;\n",
       "    }\n",
       "\n",
       "    .dataframe thead th {\n",
       "        text-align: right;\n",
       "    }\n",
       "</style>\n",
       "<table border=\"1\" class=\"dataframe\">\n",
       "  <thead>\n",
       "    <tr style=\"text-align: right;\">\n",
       "      <th></th>\n",
       "      <th>y_test</th>\n",
       "      <th>y_hat</th>\n",
       "    </tr>\n",
       "  </thead>\n",
       "  <tbody>\n",
       "    <tr>\n",
       "      <th>3940</th>\n",
       "      <td>0.830500</td>\n",
       "      <td>0.682649</td>\n",
       "    </tr>\n",
       "    <tr>\n",
       "      <th>2470</th>\n",
       "      <td>0.312895</td>\n",
       "      <td>0.196145</td>\n",
       "    </tr>\n",
       "    <tr>\n",
       "      <th>351</th>\n",
       "      <td>-0.620492</td>\n",
       "      <td>-0.486309</td>\n",
       "    </tr>\n",
       "    <tr>\n",
       "      <th>3137</th>\n",
       "      <td>-0.485575</td>\n",
       "      <td>-0.351858</td>\n",
       "    </tr>\n",
       "    <tr>\n",
       "      <th>2605</th>\n",
       "      <td>0.211071</td>\n",
       "      <td>0.402756</td>\n",
       "    </tr>\n",
       "  </tbody>\n",
       "</table>\n",
       "</div>"
      ],
      "text/plain": [
       "        y_test     y_hat\n",
       "3940  0.830500  0.682649\n",
       "2470  0.312895  0.196145\n",
       "351  -0.620492 -0.486309\n",
       "3137 -0.485575 -0.351858\n",
       "2605  0.211071  0.402756"
      ]
     },
     "execution_count": 88,
     "metadata": {},
     "output_type": "execute_result"
    }
   ],
   "source": [
    "df_predictions = pd.DataFrame({ 'y_test':y_test,'y_hat':y_hat})\n",
    "df_predictions.head()"
   ]
  },
  {
   "cell_type": "code",
   "execution_count": 89,
   "id": "07c2bc6d",
   "metadata": {},
   "outputs": [
    {
     "data": {
      "image/png": "[encoded data removed]",
      "text/plain": [
       "<Figure size 432x288 with 1 Axes>"
      ]
     },
     "metadata": {
      "needs_background": "light"
     },
     "output_type": "display_data"
    }
   ],
   "source": [
    "sns.scatterplot(x=y_test, y=y_hat, alpha=0.6)\n",
    "sns.lineplot(y_test, y_test)\n",
    "\n",
    "plt.xlabel('Actual count', fontsize=14)\n",
    "plt.ylabel('Prediced  count', fontsize=14)\n",
    "plt.title('Actual vs Predicted  count (test set)', fontsize=17)\n",
    "plt.show()"
   ]
  },
  {
   "cell_type": "code",
   "execution_count": 90,
   "id": "2fbbe63c",
   "metadata": {},
   "outputs": [
    {
     "data": {
      "text/plain": [
       "0.6542967523480033"
      ]
     },
     "execution_count": 90,
     "metadata": {},
     "output_type": "execute_result"
    }
   ],
   "source": [
    "SVM_regression.score(X_test, y_test)"
   ]
  },
  {
   "cell_type": "code",
   "execution_count": 91,
   "id": "989cbebc",
   "metadata": {},
   "outputs": [
    {
     "data": {
      "text/plain": [
       "0.65"
      ]
     },
     "execution_count": 91,
     "metadata": {},
     "output_type": "execute_result"
    }
   ],
   "source": [
    "MSE_test = round(np.mean(np.square(y_test - y_hat)),2)\n",
    "RMSE_test = round(np.sqrt(MSE_test),2)\n",
    "RMSE_test"
   ]
  },
  {
   "cell_type": "code",
   "execution_count": 92,
   "id": "bede79eb",
   "metadata": {},
   "outputs": [],
   "source": [
    "my_param_grid = {'C': [1,10,100], 'gamma': ['scaled',0.1,0.01], 'kernel': ['rbf']}"
   ]
  },
  {
   "cell_type": "code",
   "execution_count": 93,
   "id": "9de9f01a",
   "metadata": {},
   "outputs": [],
   "source": [
    "from sklearn.model_selection import GridSearchCV"
   ]
  },
  {
   "cell_type": "code",
   "execution_count": 94,
   "id": "95fa4a8d",
   "metadata": {},
   "outputs": [
    {
     "data": {
      "text/plain": [
       "GridSearchCV(cv=5, estimator=SVR(),\n",
       "             param_grid={'C': [1, 10, 100], 'gamma': ['scaled', 0.1, 0.01],\n",
       "                         'kernel': ['rbf']},\n",
       "             verbose=3)"
      ]
     },
     "execution_count": 94,
     "metadata": {},
     "output_type": "execute_result"
    }
   ],
   "source": [
    "GridSearchCV(estimator=SVR(),param_grid= my_param_grid, refit = True, verbose=3, cv=5 )"
   ]
  },
  {
   "cell_type": "code",
   "execution_count": 95,
   "id": "37b777f2",
   "metadata": {},
   "outputs": [],
   "source": [
    "grid = GridSearchCV(estimator=SVR(),param_grid= my_param_grid, refit = True, verbose=2, cv=5 , scoring=None)\n",
    "# verbose just means the text output describing the process. (the greater the number the more detail you will get)"
   ]
  },
  {
   "cell_type": "code",
   "execution_count": 96,
   "id": "30ef6e75",
   "metadata": {},
   "outputs": [
    {
     "name": "stdout",
     "output_type": "stream",
     "text": [
      "Fitting 5 folds for each of 9 candidates, totalling 45 fits\n",
      "[CV] END ......................C=1, gamma=scaled, kernel=rbf; total time=   0.0s\n",
      "[CV] END ......................C=1, gamma=scaled, kernel=rbf; total time=   0.0s\n",
      "[CV] END ......................C=1, gamma=scaled, kernel=rbf; total time=   0.0s\n",
      "[CV] END ......................C=1, gamma=scaled, kernel=rbf; total time=   0.0s\n",
      "[CV] END ......................C=1, gamma=scaled, kernel=rbf; total time=   0.0s\n",
      "[CV] END .........................C=1, gamma=0.1, kernel=rbf; total time=   1.3s\n",
      "[CV] END .........................C=1, gamma=0.1, kernel=rbf; total time=   1.3s\n",
      "[CV] END .........................C=1, gamma=0.1, kernel=rbf; total time=   1.3s\n",
      "[CV] END .........................C=1, gamma=0.1, kernel=rbf; total time=   1.3s\n",
      "[CV] END .........................C=1, gamma=0.1, kernel=rbf; total time=   1.3s\n",
      "[CV] END ........................C=1, gamma=0.01, kernel=rbf; total time=   1.0s\n",
      "[CV] END ........................C=1, gamma=0.01, kernel=rbf; total time=   1.1s\n",
      "[CV] END ........................C=1, gamma=0.01, kernel=rbf; total time=   1.1s\n",
      "[CV] END ........................C=1, gamma=0.01, kernel=rbf; total time=   1.0s\n",
      "[CV] END ........................C=1, gamma=0.01, kernel=rbf; total time=   1.0s\n",
      "[CV] END .....................C=10, gamma=scaled, kernel=rbf; total time=   0.0s\n",
      "[CV] END .....................C=10, gamma=scaled, kernel=rbf; total time=   0.0s\n",
      "[CV] END .....................C=10, gamma=scaled, kernel=rbf; total time=   0.0s\n",
      "[CV] END .....................C=10, gamma=scaled, kernel=rbf; total time=   0.0s\n",
      "[CV] END .....................C=10, gamma=scaled, kernel=rbf; total time=   0.0s\n",
      "[CV] END ........................C=10, gamma=0.1, kernel=rbf; total time=   1.3s\n",
      "[CV] END ........................C=10, gamma=0.1, kernel=rbf; total time=   1.3s\n",
      "[CV] END ........................C=10, gamma=0.1, kernel=rbf; total time=   1.3s\n",
      "[CV] END ........................C=10, gamma=0.1, kernel=rbf; total time=   1.3s\n",
      "[CV] END ........................C=10, gamma=0.1, kernel=rbf; total time=   1.4s\n",
      "[CV] END .......................C=10, gamma=0.01, kernel=rbf; total time=   1.2s\n",
      "[CV] END .......................C=10, gamma=0.01, kernel=rbf; total time=   1.2s\n",
      "[CV] END .......................C=10, gamma=0.01, kernel=rbf; total time=   1.2s\n",
      "[CV] END .......................C=10, gamma=0.01, kernel=rbf; total time=   1.2s\n",
      "[CV] END .......................C=10, gamma=0.01, kernel=rbf; total time=   1.2s\n",
      "[CV] END ....................C=100, gamma=scaled, kernel=rbf; total time=   0.0s\n",
      "[CV] END ....................C=100, gamma=scaled, kernel=rbf; total time=   0.0s\n",
      "[CV] END ....................C=100, gamma=scaled, kernel=rbf; total time=   0.0s\n",
      "[CV] END ....................C=100, gamma=scaled, kernel=rbf; total time=   0.0s\n",
      "[CV] END ....................C=100, gamma=scaled, kernel=rbf; total time=   0.0s\n",
      "[CV] END .......................C=100, gamma=0.1, kernel=rbf; total time=   1.3s\n",
      "[CV] END .......................C=100, gamma=0.1, kernel=rbf; total time=   1.3s\n",
      "[CV] END .......................C=100, gamma=0.1, kernel=rbf; total time=   1.3s\n",
      "[CV] END .......................C=100, gamma=0.1, kernel=rbf; total time=   1.3s\n",
      "[CV] END .......................C=100, gamma=0.1, kernel=rbf; total time=   1.4s\n",
      "[CV] END ......................C=100, gamma=0.01, kernel=rbf; total time=   1.2s\n",
      "[CV] END ......................C=100, gamma=0.01, kernel=rbf; total time=   1.2s\n",
      "[CV] END ......................C=100, gamma=0.01, kernel=rbf; total time=   1.2s\n",
      "[CV] END ......................C=100, gamma=0.01, kernel=rbf; total time=   1.2s\n",
      "[CV] END ......................C=100, gamma=0.01, kernel=rbf; total time=   1.2s\n"
     ]
    },
    {
     "data": {
      "text/plain": [
       "GridSearchCV(cv=5, estimator=SVR(),\n",
       "             param_grid={'C': [1, 10, 100], 'gamma': ['scaled', 0.1, 0.01],\n",
       "                         'kernel': ['rbf']},\n",
       "             verbose=2)"
      ]
     },
     "execution_count": 96,
     "metadata": {},
     "output_type": "execute_result"
    }
   ],
   "source": [
    "# May take a while!\n",
    "grid.fit(X_train,y_train)"
   ]
  },
  {
   "cell_type": "code",
   "execution_count": 97,
   "id": "91e6e912",
   "metadata": {},
   "outputs": [
    {
     "data": {
      "text/plain": [
       "{'C': 10, 'gamma': 0.01, 'kernel': 'rbf'}"
      ]
     },
     "execution_count": 97,
     "metadata": {},
     "output_type": "execute_result"
    }
   ],
   "source": [
    "grid.best_params_"
   ]
  },
  {
   "cell_type": "code",
   "execution_count": 98,
   "id": "79062113",
   "metadata": {},
   "outputs": [
    {
     "data": {
      "text/plain": [
       "SVR(C=10, gamma=0.01)"
      ]
     },
     "execution_count": 98,
     "metadata": {},
     "output_type": "execute_result"
    }
   ],
   "source": [
    "grid.best_estimator_"
   ]
  },
  {
   "cell_type": "code",
   "execution_count": 99,
   "id": "7c10ca4b",
   "metadata": {},
   "outputs": [],
   "source": [
    "y_hat_optimized = grid.predict(X_test)"
   ]
  },
  {
   "cell_type": "code",
   "execution_count": 100,
   "id": "baf4910c",
   "metadata": {},
   "outputs": [
    {
     "data": {
      "text/html": [
       "<div>\n",
       "<style scoped>\n",
       "    .dataframe tbody tr th:only-of-type {\n",
       "        vertical-align: middle;\n",
       "    }\n",
       "\n",
       "    .dataframe tbody tr th {\n",
       "        vertical-align: top;\n",
       "    }\n",
       "\n",
       "    .dataframe thead th {\n",
       "        text-align: right;\n",
       "    }\n",
       "</style>\n",
       "<table border=\"1\" class=\"dataframe\">\n",
       "  <thead>\n",
       "    <tr style=\"text-align: right;\">\n",
       "      <th></th>\n",
       "      <th>y_test</th>\n",
       "      <th>y_hat</th>\n",
       "      <th>y_hat_optimized</th>\n",
       "    </tr>\n",
       "  </thead>\n",
       "  <tbody>\n",
       "    <tr>\n",
       "      <th>3940</th>\n",
       "      <td>0.830500</td>\n",
       "      <td>0.682649</td>\n",
       "      <td>0.459764</td>\n",
       "    </tr>\n",
       "    <tr>\n",
       "      <th>2470</th>\n",
       "      <td>0.312895</td>\n",
       "      <td>0.196145</td>\n",
       "      <td>-0.014540</td>\n",
       "    </tr>\n",
       "    <tr>\n",
       "      <th>351</th>\n",
       "      <td>-0.620492</td>\n",
       "      <td>-0.486309</td>\n",
       "      <td>-0.447543</td>\n",
       "    </tr>\n",
       "    <tr>\n",
       "      <th>3137</th>\n",
       "      <td>-0.485575</td>\n",
       "      <td>-0.351858</td>\n",
       "      <td>-0.353961</td>\n",
       "    </tr>\n",
       "    <tr>\n",
       "      <th>2605</th>\n",
       "      <td>0.211071</td>\n",
       "      <td>0.402756</td>\n",
       "      <td>0.524140</td>\n",
       "    </tr>\n",
       "  </tbody>\n",
       "</table>\n",
       "</div>"
      ],
      "text/plain": [
       "        y_test     y_hat  y_hat_optimized\n",
       "3940  0.830500  0.682649         0.459764\n",
       "2470  0.312895  0.196145        -0.014540\n",
       "351  -0.620492 -0.486309        -0.447543\n",
       "3137 -0.485575 -0.351858        -0.353961\n",
       "2605  0.211071  0.402756         0.524140"
      ]
     },
     "execution_count": 100,
     "metadata": {},
     "output_type": "execute_result"
    }
   ],
   "source": [
    "df_predictions['y_hat_optimized'] = y_hat_optimized\n",
    "df_predictions.head()"
   ]
  },
  {
   "cell_type": "code",
   "execution_count": 101,
   "id": "7196c7c7",
   "metadata": {},
   "outputs": [
    {
     "data": {
      "image/png": "[encoded data removed]",
      "text/plain": [
       "<Figure size 432x288 with 1 Axes>"
      ]
     },
     "metadata": {
      "needs_background": "light"
     },
     "output_type": "display_data"
    }
   ],
   "source": [
    "sns.scatterplot(x=y_test, y=y_hat_optimized, alpha=0.6)\n",
    "sns.lineplot(y_test, y_test)\n",
    "\n",
    "plt.xlabel('Actual count', fontsize=14)\n",
    "plt.ylabel('Prediced  count', fontsize=14)\n",
    "plt.title('Actual vs optimized predicted count (test set)', fontsize=17)\n",
    "plt.show()"
   ]
  },
  {
   "cell_type": "code",
   "execution_count": 102,
   "id": "46970a82",
   "metadata": {},
   "outputs": [
    {
     "data": {
      "text/plain": [
       "1.0"
      ]
     },
     "execution_count": 102,
     "metadata": {},
     "output_type": "execute_result"
    }
   ],
   "source": [
    "grid.score(X_test, y_hat_optimized)"
   ]
  },
  {
   "cell_type": "code",
   "execution_count": 103,
   "id": "5add2ed4",
   "metadata": {},
   "outputs": [
    {
     "data": {
      "text/plain": [
       "0.65"
      ]
     },
     "execution_count": 103,
     "metadata": {},
     "output_type": "execute_result"
    }
   ],
   "source": [
    "MSE_test_opt = round(np.mean(np.square(y_test - y_hat_optimized)),2)\n",
    "RMSE_test_opt = round(np.sqrt(MSE_test_opt),2)\n",
    "RMSE_test_opt"
   ]
  },
  {
   "cell_type": "code",
   "execution_count": 104,
   "id": "b9f334a1",
   "metadata": {},
   "outputs": [],
   "source": [
    "from sklearn.model_selection import cross_val_score"
   ]
  },
  {
   "cell_type": "code",
   "execution_count": 105,
   "id": "f9419b91",
   "metadata": {},
   "outputs": [],
   "source": [
    "NMSE = cross_val_score(estimator = SVR(C=10, gamma=0.01), X = X_train, y = y_train, cv = 5 , scoring=\"neg_mean_squared_error\" )"
   ]
  },
  {
   "cell_type": "code",
   "execution_count": 106,
   "id": "cd4e9890",
   "metadata": {},
   "outputs": [
    {
     "data": {
      "text/plain": [
       "0.511"
      ]
     },
     "execution_count": 106,
     "metadata": {},
     "output_type": "execute_result"
    }
   ],
   "source": [
    "MSE_CV = round(np.mean(-NMSE),4)\n",
    "RMSE_CV = round(np.sqrt(MSE_CV),4)\n",
    "RMSE_CV"
   ]
  },
  {
   "cell_type": "markdown",
   "id": "f47c682b",
   "metadata": {},
   "source": [
    "## SVM – Classification"
   ]
  },
  {
   "cell_type": "code",
   "execution_count": 107,
   "id": "64bd4d02",
   "metadata": {},
   "outputs": [],
   "source": [
    "avg_DOM = df['DOM'].mean()\n",
    "liquid = np.where(df['DOM']< avg_DOM,1,0)"
   ]
  },
  {
   "cell_type": "code",
   "execution_count": 108,
   "id": "35a63df6",
   "metadata": {},
   "outputs": [
    {
     "data": {
      "text/html": [
       "<div>\n",
       "<style scoped>\n",
       "    .dataframe tbody tr th:only-of-type {\n",
       "        vertical-align: middle;\n",
       "    }\n",
       "\n",
       "    .dataframe tbody tr th {\n",
       "        vertical-align: top;\n",
       "    }\n",
       "\n",
       "    .dataframe thead th {\n",
       "        text-align: right;\n",
       "    }\n",
       "</style>\n",
       "<table border=\"1\" class=\"dataframe\">\n",
       "  <thead>\n",
       "    <tr style=\"text-align: right;\">\n",
       "      <th>col_0</th>\n",
       "      <th>0</th>\n",
       "      <th>1</th>\n",
       "    </tr>\n",
       "    <tr>\n",
       "      <th>row_0</th>\n",
       "      <th></th>\n",
       "      <th></th>\n",
       "    </tr>\n",
       "  </thead>\n",
       "  <tbody>\n",
       "    <tr>\n",
       "      <th>0</th>\n",
       "      <td>34.355231</td>\n",
       "      <td>0.000000</td>\n",
       "    </tr>\n",
       "    <tr>\n",
       "      <th>1</th>\n",
       "      <td>0.000000</td>\n",
       "      <td>65.644769</td>\n",
       "    </tr>\n",
       "  </tbody>\n",
       "</table>\n",
       "</div>"
      ],
      "text/plain": [
       "col_0          0          1\n",
       "row_0                      \n",
       "0      34.355231   0.000000\n",
       "1       0.000000  65.644769"
      ]
     },
     "execution_count": 108,
     "metadata": {},
     "output_type": "execute_result"
    }
   ],
   "source": [
    "pd.crosstab(liquid,liquid, normalize='all')*100"
   ]
  },
  {
   "cell_type": "markdown",
   "id": "3a99b9ae",
   "metadata": {},
   "source": [
    "The dataset is relatively balanced. "
   ]
  },
  {
   "cell_type": "code",
   "execution_count": 109,
   "id": "b338ae4e",
   "metadata": {},
   "outputs": [
    {
     "data": {
      "text/plain": [
       "Index(['Sold Price', 'Garage Capacity', 'HOA Fee', 'Total Bedrooms',\n",
       "       'Total Bathrooms', 'Total Square Feet', 'Irregular Shape_Yes',\n",
       "       'Quadrant_NW', 'Quadrant_SE', 'Quadrant_SW',\n",
       "       ...\n",
       "       'month_sold_5', 'month_sold_6', 'month_sold_7', 'month_sold_8',\n",
       "       'month_sold_9', 'month_sold_10', 'month_sold_11', 'month_sold_12',\n",
       "       'built_after_2000_1', 'liquid'],\n",
       "      dtype='object', length=181)"
      ]
     },
     "execution_count": 109,
     "metadata": {},
     "output_type": "execute_result"
    }
   ],
   "source": [
    "df['liquid']=liquid\n",
    "df.drop('DOM', axis=1, inplace=True)\n",
    "df.columns"
   ]
  }
 ],
 "metadata": {
  "kernelspec": {
   "display_name": "Python 3 (ipykernel)",
   "language": "python",
   "name": "python3"
  },
  "language_info": {
   "codemirror_mode": {
    "name": "ipython",
    "version": 3
   },
   "file_extension": ".py",
   "mimetype": "text/x-python",
   "name": "python",
   "nbconvert_exporter": "python",
   "pygments_lexer": "ipython3",
   "version": "3.9.7"
  }
 },
 "nbformat": 4,
 "nbformat_minor": 5
}
