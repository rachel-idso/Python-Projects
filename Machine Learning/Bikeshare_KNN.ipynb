{
 "cells": [
  {
   "cell_type": "markdown",
   "id": "a51e6aec",
   "metadata": {},
   "source": [
    "# KNN Regression"
   ]
  },
  {
   "cell_type": "code",
   "execution_count": 1,
   "id": "fb8831ea-c440-4ddd-b97a-a09140e12fe0",
   "metadata": {},
   "outputs": [],
   "source": [
    "import numpy as np\n",
    "import pandas as pd\n",
    "import matplotlib.pyplot as plt\n",
    "import seaborn as sns\n",
    "sns.set()  #if you want to use seaborn themes with matplotlib functions\n",
    "import warnings\n",
    "warnings.filterwarnings('ignore')"
   ]
  },
  {
   "cell_type": "code",
   "execution_count": 2,
   "id": "ca9ea2ce-f14d-470a-8e46-84ce18d65b3c",
   "metadata": {},
   "outputs": [],
   "source": [
    "rand_state = 1000"
   ]
  },
  {
   "cell_type": "code",
   "execution_count": 3,
   "id": "339d2e97-90f9-42f8-b55b-48dd8a5e48b6",
   "metadata": {},
   "outputs": [],
   "source": [
    "df = pd.read_csv(\"bikeshare.csv\")"
   ]
  },
  {
   "cell_type": "code",
   "execution_count": 4,
   "id": "59adb947-d10b-4209-b4c7-b6f9f252c61b",
   "metadata": {
    "scrolled": true
   },
   "outputs": [
    {
     "data": {
      "text/html": [
       "<div>\n",
       "<style scoped>\n",
       "    .dataframe tbody tr th:only-of-type {\n",
       "        vertical-align: middle;\n",
       "    }\n",
       "\n",
       "    .dataframe tbody tr th {\n",
       "        vertical-align: top;\n",
       "    }\n",
       "\n",
       "    .dataframe thead th {\n",
       "        text-align: right;\n",
       "    }\n",
       "</style>\n",
       "<table border=\"1\" class=\"dataframe\">\n",
       "  <thead>\n",
       "    <tr style=\"text-align: right;\">\n",
       "      <th></th>\n",
       "      <th>season</th>\n",
       "      <th>yr</th>\n",
       "      <th>mnth</th>\n",
       "      <th>hr</th>\n",
       "      <th>holiday</th>\n",
       "      <th>weekday</th>\n",
       "      <th>notbizday</th>\n",
       "      <th>weathersit</th>\n",
       "      <th>temp</th>\n",
       "      <th>hum</th>\n",
       "      <th>windspeed</th>\n",
       "      <th>dteday</th>\n",
       "      <th>cnt</th>\n",
       "    </tr>\n",
       "  </thead>\n",
       "  <tbody>\n",
       "    <tr>\n",
       "      <th>0</th>\n",
       "      <td>1</td>\n",
       "      <td>0</td>\n",
       "      <td>1</td>\n",
       "      <td>0</td>\n",
       "      <td>0</td>\n",
       "      <td>6</td>\n",
       "      <td>1</td>\n",
       "      <td>1</td>\n",
       "      <td>-1.334609</td>\n",
       "      <td>0.947345</td>\n",
       "      <td>-1.553844</td>\n",
       "      <td>2011-01-01</td>\n",
       "      <td>16</td>\n",
       "    </tr>\n",
       "    <tr>\n",
       "      <th>1</th>\n",
       "      <td>1</td>\n",
       "      <td>0</td>\n",
       "      <td>1</td>\n",
       "      <td>1</td>\n",
       "      <td>0</td>\n",
       "      <td>6</td>\n",
       "      <td>1</td>\n",
       "      <td>1</td>\n",
       "      <td>-1.438475</td>\n",
       "      <td>0.895513</td>\n",
       "      <td>-1.553844</td>\n",
       "      <td>2011-01-01</td>\n",
       "      <td>40</td>\n",
       "    </tr>\n",
       "    <tr>\n",
       "      <th>2</th>\n",
       "      <td>1</td>\n",
       "      <td>0</td>\n",
       "      <td>1</td>\n",
       "      <td>2</td>\n",
       "      <td>0</td>\n",
       "      <td>6</td>\n",
       "      <td>1</td>\n",
       "      <td>1</td>\n",
       "      <td>-1.438475</td>\n",
       "      <td>0.895513</td>\n",
       "      <td>-1.553844</td>\n",
       "      <td>2011-01-01</td>\n",
       "      <td>32</td>\n",
       "    </tr>\n",
       "    <tr>\n",
       "      <th>3</th>\n",
       "      <td>1</td>\n",
       "      <td>0</td>\n",
       "      <td>1</td>\n",
       "      <td>3</td>\n",
       "      <td>0</td>\n",
       "      <td>6</td>\n",
       "      <td>1</td>\n",
       "      <td>1</td>\n",
       "      <td>-1.334609</td>\n",
       "      <td>0.636351</td>\n",
       "      <td>-1.553844</td>\n",
       "      <td>2011-01-01</td>\n",
       "      <td>13</td>\n",
       "    </tr>\n",
       "    <tr>\n",
       "      <th>4</th>\n",
       "      <td>1</td>\n",
       "      <td>0</td>\n",
       "      <td>1</td>\n",
       "      <td>4</td>\n",
       "      <td>0</td>\n",
       "      <td>6</td>\n",
       "      <td>1</td>\n",
       "      <td>1</td>\n",
       "      <td>-1.334609</td>\n",
       "      <td>0.636351</td>\n",
       "      <td>-1.553844</td>\n",
       "      <td>2011-01-01</td>\n",
       "      <td>1</td>\n",
       "    </tr>\n",
       "  </tbody>\n",
       "</table>\n",
       "</div>"
      ],
      "text/plain": [
       "   season  yr  mnth  hr  holiday  weekday  notbizday  weathersit      temp  \\\n",
       "0       1   0     1   0        0        6          1           1 -1.334609   \n",
       "1       1   0     1   1        0        6          1           1 -1.438475   \n",
       "2       1   0     1   2        0        6          1           1 -1.438475   \n",
       "3       1   0     1   3        0        6          1           1 -1.334609   \n",
       "4       1   0     1   4        0        6          1           1 -1.334609   \n",
       "\n",
       "        hum  windspeed      dteday  cnt  \n",
       "0  0.947345  -1.553844  2011-01-01   16  \n",
       "1  0.895513  -1.553844  2011-01-01   40  \n",
       "2  0.895513  -1.553844  2011-01-01   32  \n",
       "3  0.636351  -1.553844  2011-01-01   13  \n",
       "4  0.636351  -1.553844  2011-01-01    1  "
      ]
     },
     "execution_count": 4,
     "metadata": {},
     "output_type": "execute_result"
    }
   ],
   "source": [
    "df.head()"
   ]
  },
  {
   "cell_type": "code",
   "execution_count": 5,
   "id": "1b2d8f99",
   "metadata": {},
   "outputs": [
    {
     "name": "stdout",
     "output_type": "stream",
     "text": [
      "<class 'pandas.core.frame.DataFrame'>\n",
      "RangeIndex: 17379 entries, 0 to 17378\n",
      "Data columns (total 13 columns):\n",
      " #   Column      Non-Null Count  Dtype  \n",
      "---  ------      --------------  -----  \n",
      " 0   season      17379 non-null  int64  \n",
      " 1   yr          17379 non-null  int64  \n",
      " 2   mnth        17379 non-null  int64  \n",
      " 3   hr          17379 non-null  int64  \n",
      " 4   holiday     17379 non-null  int64  \n",
      " 5   weekday     17379 non-null  int64  \n",
      " 6   notbizday   17379 non-null  int64  \n",
      " 7   weathersit  17379 non-null  int64  \n",
      " 8   temp        17379 non-null  float64\n",
      " 9   hum         17379 non-null  float64\n",
      " 10  windspeed   17379 non-null  float64\n",
      " 11  dteday      17379 non-null  object \n",
      " 12  cnt         17379 non-null  int64  \n",
      "dtypes: float64(3), int64(9), object(1)\n",
      "memory usage: 1.7+ MB\n"
     ]
    }
   ],
   "source": [
    "df.info()"
   ]
  },
  {
   "cell_type": "code",
   "execution_count": 6,
   "id": "5bb70bce",
   "metadata": {},
   "outputs": [],
   "source": [
    "categorical = ['season', 'yr', 'mnth', 'hr', 'holiday', 'weekday', 'notbizday', 'weathersit']\n",
    "for col in categorical:\n",
    "    df[col]=df[col].astype(\"category\")"
   ]
  },
  {
   "cell_type": "code",
   "execution_count": 7,
   "id": "49bb9967",
   "metadata": {},
   "outputs": [
    {
     "name": "stdout",
     "output_type": "stream",
     "text": [
      "<class 'pandas.core.frame.DataFrame'>\n",
      "RangeIndex: 17379 entries, 0 to 17378\n",
      "Data columns (total 13 columns):\n",
      " #   Column      Non-Null Count  Dtype   \n",
      "---  ------      --------------  -----   \n",
      " 0   season      17379 non-null  category\n",
      " 1   yr          17379 non-null  category\n",
      " 2   mnth        17379 non-null  category\n",
      " 3   hr          17379 non-null  category\n",
      " 4   holiday     17379 non-null  category\n",
      " 5   weekday     17379 non-null  category\n",
      " 6   notbizday   17379 non-null  category\n",
      " 7   weathersit  17379 non-null  category\n",
      " 8   temp        17379 non-null  float64 \n",
      " 9   hum         17379 non-null  float64 \n",
      " 10  windspeed   17379 non-null  float64 \n",
      " 11  dteday      17379 non-null  object  \n",
      " 12  cnt         17379 non-null  int64   \n",
      "dtypes: category(8), float64(3), int64(1), object(1)\n",
      "memory usage: 817.0+ KB\n"
     ]
    }
   ],
   "source": [
    "df.info()"
   ]
  },
  {
   "cell_type": "markdown",
   "id": "dc5390b1",
   "metadata": {},
   "source": [
    "## 1. Drop the dteday variable and then define your feature space and the target variable. Split the data into test (20%) and train set (80%)"
   ]
  },
  {
   "cell_type": "code",
   "execution_count": 8,
   "id": "c6f59992-1fcd-4dc7-bae8-1da3a031a861",
   "metadata": {},
   "outputs": [],
   "source": [
    "df.drop('dteday', axis=1, inplace=True)"
   ]
  },
  {
   "cell_type": "code",
   "execution_count": 9,
   "id": "0ba38c0d",
   "metadata": {
    "scrolled": true
   },
   "outputs": [
    {
     "data": {
      "text/html": [
       "<div>\n",
       "<style scoped>\n",
       "    .dataframe tbody tr th:only-of-type {\n",
       "        vertical-align: middle;\n",
       "    }\n",
       "\n",
       "    .dataframe tbody tr th {\n",
       "        vertical-align: top;\n",
       "    }\n",
       "\n",
       "    .dataframe thead th {\n",
       "        text-align: right;\n",
       "    }\n",
       "</style>\n",
       "<table border=\"1\" class=\"dataframe\">\n",
       "  <thead>\n",
       "    <tr style=\"text-align: right;\">\n",
       "      <th></th>\n",
       "      <th>season</th>\n",
       "      <th>yr</th>\n",
       "      <th>mnth</th>\n",
       "      <th>hr</th>\n",
       "      <th>holiday</th>\n",
       "      <th>weekday</th>\n",
       "      <th>notbizday</th>\n",
       "      <th>weathersit</th>\n",
       "      <th>temp</th>\n",
       "      <th>hum</th>\n",
       "      <th>windspeed</th>\n",
       "      <th>cnt</th>\n",
       "    </tr>\n",
       "  </thead>\n",
       "  <tbody>\n",
       "    <tr>\n",
       "      <th>0</th>\n",
       "      <td>1</td>\n",
       "      <td>0</td>\n",
       "      <td>1</td>\n",
       "      <td>0</td>\n",
       "      <td>0</td>\n",
       "      <td>6</td>\n",
       "      <td>1</td>\n",
       "      <td>1</td>\n",
       "      <td>-1.334609</td>\n",
       "      <td>0.947345</td>\n",
       "      <td>-1.553844</td>\n",
       "      <td>16</td>\n",
       "    </tr>\n",
       "    <tr>\n",
       "      <th>1</th>\n",
       "      <td>1</td>\n",
       "      <td>0</td>\n",
       "      <td>1</td>\n",
       "      <td>1</td>\n",
       "      <td>0</td>\n",
       "      <td>6</td>\n",
       "      <td>1</td>\n",
       "      <td>1</td>\n",
       "      <td>-1.438475</td>\n",
       "      <td>0.895513</td>\n",
       "      <td>-1.553844</td>\n",
       "      <td>40</td>\n",
       "    </tr>\n",
       "    <tr>\n",
       "      <th>2</th>\n",
       "      <td>1</td>\n",
       "      <td>0</td>\n",
       "      <td>1</td>\n",
       "      <td>2</td>\n",
       "      <td>0</td>\n",
       "      <td>6</td>\n",
       "      <td>1</td>\n",
       "      <td>1</td>\n",
       "      <td>-1.438475</td>\n",
       "      <td>0.895513</td>\n",
       "      <td>-1.553844</td>\n",
       "      <td>32</td>\n",
       "    </tr>\n",
       "    <tr>\n",
       "      <th>3</th>\n",
       "      <td>1</td>\n",
       "      <td>0</td>\n",
       "      <td>1</td>\n",
       "      <td>3</td>\n",
       "      <td>0</td>\n",
       "      <td>6</td>\n",
       "      <td>1</td>\n",
       "      <td>1</td>\n",
       "      <td>-1.334609</td>\n",
       "      <td>0.636351</td>\n",
       "      <td>-1.553844</td>\n",
       "      <td>13</td>\n",
       "    </tr>\n",
       "    <tr>\n",
       "      <th>4</th>\n",
       "      <td>1</td>\n",
       "      <td>0</td>\n",
       "      <td>1</td>\n",
       "      <td>4</td>\n",
       "      <td>0</td>\n",
       "      <td>6</td>\n",
       "      <td>1</td>\n",
       "      <td>1</td>\n",
       "      <td>-1.334609</td>\n",
       "      <td>0.636351</td>\n",
       "      <td>-1.553844</td>\n",
       "      <td>1</td>\n",
       "    </tr>\n",
       "  </tbody>\n",
       "</table>\n",
       "</div>"
      ],
      "text/plain": [
       "  season yr mnth hr holiday weekday notbizday weathersit      temp       hum  \\\n",
       "0      1  0    1  0       0       6         1          1 -1.334609  0.947345   \n",
       "1      1  0    1  1       0       6         1          1 -1.438475  0.895513   \n",
       "2      1  0    1  2       0       6         1          1 -1.438475  0.895513   \n",
       "3      1  0    1  3       0       6         1          1 -1.334609  0.636351   \n",
       "4      1  0    1  4       0       6         1          1 -1.334609  0.636351   \n",
       "\n",
       "   windspeed  cnt  \n",
       "0  -1.553844   16  \n",
       "1  -1.553844   40  \n",
       "2  -1.553844   32  \n",
       "3  -1.553844   13  \n",
       "4  -1.553844    1  "
      ]
     },
     "execution_count": 9,
     "metadata": {},
     "output_type": "execute_result"
    }
   ],
   "source": [
    "df.head()"
   ]
  },
  {
   "cell_type": "code",
   "execution_count": 10,
   "id": "7c99b506",
   "metadata": {},
   "outputs": [],
   "source": [
    "df = pd.get_dummies(df, drop_first=True)"
   ]
  },
  {
   "cell_type": "code",
   "execution_count": 11,
   "id": "fe97ba48",
   "metadata": {},
   "outputs": [
    {
     "data": {
      "text/html": [
       "<div>\n",
       "<style scoped>\n",
       "    .dataframe tbody tr th:only-of-type {\n",
       "        vertical-align: middle;\n",
       "    }\n",
       "\n",
       "    .dataframe tbody tr th {\n",
       "        vertical-align: top;\n",
       "    }\n",
       "\n",
       "    .dataframe thead th {\n",
       "        text-align: right;\n",
       "    }\n",
       "</style>\n",
       "<table border=\"1\" class=\"dataframe\">\n",
       "  <thead>\n",
       "    <tr style=\"text-align: right;\">\n",
       "      <th></th>\n",
       "      <th>temp</th>\n",
       "      <th>hum</th>\n",
       "      <th>windspeed</th>\n",
       "      <th>cnt</th>\n",
       "      <th>season_2</th>\n",
       "      <th>season_3</th>\n",
       "      <th>season_4</th>\n",
       "      <th>yr_1</th>\n",
       "      <th>mnth_2</th>\n",
       "      <th>mnth_3</th>\n",
       "      <th>...</th>\n",
       "      <th>weekday_1</th>\n",
       "      <th>weekday_2</th>\n",
       "      <th>weekday_3</th>\n",
       "      <th>weekday_4</th>\n",
       "      <th>weekday_5</th>\n",
       "      <th>weekday_6</th>\n",
       "      <th>notbizday_1</th>\n",
       "      <th>weathersit_2</th>\n",
       "      <th>weathersit_3</th>\n",
       "      <th>weathersit_4</th>\n",
       "    </tr>\n",
       "  </thead>\n",
       "  <tbody>\n",
       "    <tr>\n",
       "      <th>0</th>\n",
       "      <td>-1.334609</td>\n",
       "      <td>0.947345</td>\n",
       "      <td>-1.553844</td>\n",
       "      <td>16</td>\n",
       "      <td>0</td>\n",
       "      <td>0</td>\n",
       "      <td>0</td>\n",
       "      <td>0</td>\n",
       "      <td>0</td>\n",
       "      <td>0</td>\n",
       "      <td>...</td>\n",
       "      <td>0</td>\n",
       "      <td>0</td>\n",
       "      <td>0</td>\n",
       "      <td>0</td>\n",
       "      <td>0</td>\n",
       "      <td>1</td>\n",
       "      <td>1</td>\n",
       "      <td>0</td>\n",
       "      <td>0</td>\n",
       "      <td>0</td>\n",
       "    </tr>\n",
       "    <tr>\n",
       "      <th>1</th>\n",
       "      <td>-1.438475</td>\n",
       "      <td>0.895513</td>\n",
       "      <td>-1.553844</td>\n",
       "      <td>40</td>\n",
       "      <td>0</td>\n",
       "      <td>0</td>\n",
       "      <td>0</td>\n",
       "      <td>0</td>\n",
       "      <td>0</td>\n",
       "      <td>0</td>\n",
       "      <td>...</td>\n",
       "      <td>0</td>\n",
       "      <td>0</td>\n",
       "      <td>0</td>\n",
       "      <td>0</td>\n",
       "      <td>0</td>\n",
       "      <td>1</td>\n",
       "      <td>1</td>\n",
       "      <td>0</td>\n",
       "      <td>0</td>\n",
       "      <td>0</td>\n",
       "    </tr>\n",
       "    <tr>\n",
       "      <th>2</th>\n",
       "      <td>-1.438475</td>\n",
       "      <td>0.895513</td>\n",
       "      <td>-1.553844</td>\n",
       "      <td>32</td>\n",
       "      <td>0</td>\n",
       "      <td>0</td>\n",
       "      <td>0</td>\n",
       "      <td>0</td>\n",
       "      <td>0</td>\n",
       "      <td>0</td>\n",
       "      <td>...</td>\n",
       "      <td>0</td>\n",
       "      <td>0</td>\n",
       "      <td>0</td>\n",
       "      <td>0</td>\n",
       "      <td>0</td>\n",
       "      <td>1</td>\n",
       "      <td>1</td>\n",
       "      <td>0</td>\n",
       "      <td>0</td>\n",
       "      <td>0</td>\n",
       "    </tr>\n",
       "    <tr>\n",
       "      <th>3</th>\n",
       "      <td>-1.334609</td>\n",
       "      <td>0.636351</td>\n",
       "      <td>-1.553844</td>\n",
       "      <td>13</td>\n",
       "      <td>0</td>\n",
       "      <td>0</td>\n",
       "      <td>0</td>\n",
       "      <td>0</td>\n",
       "      <td>0</td>\n",
       "      <td>0</td>\n",
       "      <td>...</td>\n",
       "      <td>0</td>\n",
       "      <td>0</td>\n",
       "      <td>0</td>\n",
       "      <td>0</td>\n",
       "      <td>0</td>\n",
       "      <td>1</td>\n",
       "      <td>1</td>\n",
       "      <td>0</td>\n",
       "      <td>0</td>\n",
       "      <td>0</td>\n",
       "    </tr>\n",
       "    <tr>\n",
       "      <th>4</th>\n",
       "      <td>-1.334609</td>\n",
       "      <td>0.636351</td>\n",
       "      <td>-1.553844</td>\n",
       "      <td>1</td>\n",
       "      <td>0</td>\n",
       "      <td>0</td>\n",
       "      <td>0</td>\n",
       "      <td>0</td>\n",
       "      <td>0</td>\n",
       "      <td>0</td>\n",
       "      <td>...</td>\n",
       "      <td>0</td>\n",
       "      <td>0</td>\n",
       "      <td>0</td>\n",
       "      <td>0</td>\n",
       "      <td>0</td>\n",
       "      <td>1</td>\n",
       "      <td>1</td>\n",
       "      <td>0</td>\n",
       "      <td>0</td>\n",
       "      <td>0</td>\n",
       "    </tr>\n",
       "  </tbody>\n",
       "</table>\n",
       "<p>5 rows × 53 columns</p>\n",
       "</div>"
      ],
      "text/plain": [
       "       temp       hum  windspeed  cnt  season_2  season_3  season_4  yr_1  \\\n",
       "0 -1.334609  0.947345  -1.553844   16         0         0         0     0   \n",
       "1 -1.438475  0.895513  -1.553844   40         0         0         0     0   \n",
       "2 -1.438475  0.895513  -1.553844   32         0         0         0     0   \n",
       "3 -1.334609  0.636351  -1.553844   13         0         0         0     0   \n",
       "4 -1.334609  0.636351  -1.553844    1         0         0         0     0   \n",
       "\n",
       "   mnth_2  mnth_3  ...  weekday_1  weekday_2  weekday_3  weekday_4  weekday_5  \\\n",
       "0       0       0  ...          0          0          0          0          0   \n",
       "1       0       0  ...          0          0          0          0          0   \n",
       "2       0       0  ...          0          0          0          0          0   \n",
       "3       0       0  ...          0          0          0          0          0   \n",
       "4       0       0  ...          0          0          0          0          0   \n",
       "\n",
       "   weekday_6  notbizday_1  weathersit_2  weathersit_3  weathersit_4  \n",
       "0          1            1             0             0             0  \n",
       "1          1            1             0             0             0  \n",
       "2          1            1             0             0             0  \n",
       "3          1            1             0             0             0  \n",
       "4          1            1             0             0             0  \n",
       "\n",
       "[5 rows x 53 columns]"
      ]
     },
     "execution_count": 11,
     "metadata": {},
     "output_type": "execute_result"
    }
   ],
   "source": [
    "df.head()"
   ]
  },
  {
   "cell_type": "code",
   "execution_count": 12,
   "id": "1507bcfe-140b-4241-ac70-730b619dfe4c",
   "metadata": {},
   "outputs": [],
   "source": [
    "y = df['cnt']\n",
    "X = df.drop('cnt', axis=1)"
   ]
  },
  {
   "cell_type": "code",
   "execution_count": 13,
   "id": "fbbd4d62",
   "metadata": {},
   "outputs": [],
   "source": [
    "from sklearn.model_selection import train_test_split\n",
    "X_train, X_test, y_train, y_test = train_test_split(X, y, test_size=0.2, random_state=rand_state)"
   ]
  },
  {
   "cell_type": "markdown",
   "id": "be84a882",
   "metadata": {},
   "source": [
    "## 2. From sklearn.neighbors import the relevant function for KNN regression."
   ]
  },
  {
   "cell_type": "markdown",
   "id": "2b8af680",
   "metadata": {},
   "source": [
    "### 1. Train all the model with the default features."
   ]
  },
  {
   "cell_type": "code",
   "execution_count": 14,
   "id": "0b359652",
   "metadata": {},
   "outputs": [],
   "source": [
    "from sklearn.neighbors import KNeighborsRegressor"
   ]
  },
  {
   "cell_type": "code",
   "execution_count": 15,
   "id": "d87d059d",
   "metadata": {},
   "outputs": [
    {
     "data": {
      "text/plain": [
       "KNeighborsRegressor()"
      ]
     },
     "execution_count": 15,
     "metadata": {},
     "output_type": "execute_result"
    }
   ],
   "source": [
    "KNN_regression = KNeighborsRegressor()\n",
    "KNN_regression.fit(X_train, y_train)"
   ]
  },
  {
   "cell_type": "markdown",
   "id": "058ca61e",
   "metadata": {},
   "source": [
    "### 2. Make predictions on the test set and save them as y_hat"
   ]
  },
  {
   "cell_type": "code",
   "execution_count": 16,
   "id": "c838f46e",
   "metadata": {},
   "outputs": [],
   "source": [
    "# Predicting the Test set results\n",
    "y_hat = KNN_regression.predict(X_test)"
   ]
  },
  {
   "cell_type": "markdown",
   "id": "25bf8cc1",
   "metadata": {},
   "source": [
    "### 3. Construct a data frame named df_predictions with 2 columns. y_test, and y_hat  from previous part"
   ]
  },
  {
   "cell_type": "code",
   "execution_count": 17,
   "id": "d8a31e24",
   "metadata": {},
   "outputs": [
    {
     "data": {
      "text/html": [
       "<div>\n",
       "<style scoped>\n",
       "    .dataframe tbody tr th:only-of-type {\n",
       "        vertical-align: middle;\n",
       "    }\n",
       "\n",
       "    .dataframe tbody tr th {\n",
       "        vertical-align: top;\n",
       "    }\n",
       "\n",
       "    .dataframe thead th {\n",
       "        text-align: right;\n",
       "    }\n",
       "</style>\n",
       "<table border=\"1\" class=\"dataframe\">\n",
       "  <thead>\n",
       "    <tr style=\"text-align: right;\">\n",
       "      <th></th>\n",
       "      <th>y_test</th>\n",
       "      <th>y_hat</th>\n",
       "    </tr>\n",
       "  </thead>\n",
       "  <tbody>\n",
       "    <tr>\n",
       "      <th>4495</th>\n",
       "      <td>26</td>\n",
       "      <td>47.0</td>\n",
       "    </tr>\n",
       "    <tr>\n",
       "      <th>4418</th>\n",
       "      <td>47</td>\n",
       "      <td>90.4</td>\n",
       "    </tr>\n",
       "    <tr>\n",
       "      <th>7141</th>\n",
       "      <td>11</td>\n",
       "      <td>25.2</td>\n",
       "    </tr>\n",
       "    <tr>\n",
       "      <th>14765</th>\n",
       "      <td>205</td>\n",
       "      <td>184.8</td>\n",
       "    </tr>\n",
       "    <tr>\n",
       "      <th>16541</th>\n",
       "      <td>65</td>\n",
       "      <td>68.0</td>\n",
       "    </tr>\n",
       "  </tbody>\n",
       "</table>\n",
       "</div>"
      ],
      "text/plain": [
       "       y_test  y_hat\n",
       "4495       26   47.0\n",
       "4418       47   90.4\n",
       "7141       11   25.2\n",
       "14765     205  184.8\n",
       "16541      65   68.0"
      ]
     },
     "execution_count": 17,
     "metadata": {},
     "output_type": "execute_result"
    }
   ],
   "source": [
    "df_predictions = pd.DataFrame({ 'y_test':y_test,'y_hat':y_hat})\n",
    "df_predictions.head()"
   ]
  },
  {
   "cell_type": "markdown",
   "id": "27362911",
   "metadata": {},
   "source": [
    "### 4. Visualize actual vs predicted counts in the test set using an scatterplot. Are you visually satisfied with the regression model? "
   ]
  },
  {
   "cell_type": "code",
   "execution_count": 18,
   "id": "be5f4bce",
   "metadata": {},
   "outputs": [
    {
     "data": {
      "image/png": "[encoded data removed]",
      "text/plain": [
       "<Figure size 432x288 with 1 Axes>"
      ]
     },
     "metadata": {},
     "output_type": "display_data"
    }
   ],
   "source": [
    "sns.scatterplot(x=y_test, y=y_hat, alpha=0.6)\n",
    "sns.lineplot(y_test, y_test)\n",
    "\n",
    "plt.xlabel('Actual Count', fontsize=14)\n",
    "plt.ylabel('Prediced Count', fontsize=14)\n",
    "plt.title('Actual vs Predicted  Count (test set)', fontsize=17)\n",
    "plt.show()"
   ]
  },
  {
   "cell_type": "markdown",
   "id": "114472a7",
   "metadata": {},
   "source": [
    "I am relatively satisfied with this visualization. However, the scatterplott shows us that as 'actual count' gets to be higher (above about 600), the predictions aren't as accurate. "
   ]
  },
  {
   "cell_type": "markdown",
   "id": "f40e236a",
   "metadata": {},
   "source": [
    "### 5. Report the RMSE_test for the KNN regression model. "
   ]
  },
  {
   "cell_type": "code",
   "execution_count": 19,
   "id": "b333fa00",
   "metadata": {},
   "outputs": [
    {
     "data": {
      "text/plain": [
       "11795.53"
      ]
     },
     "execution_count": 19,
     "metadata": {},
     "output_type": "execute_result"
    }
   ],
   "source": [
    "MSE_test = round(np.mean(np.square(y_test - y_hat)),2)\n",
    "MSE_test"
   ]
  },
  {
   "cell_type": "code",
   "execution_count": 20,
   "id": "cc317f16",
   "metadata": {},
   "outputs": [
    {
     "data": {
      "text/plain": [
       "108.61"
      ]
     },
     "execution_count": 20,
     "metadata": {},
     "output_type": "execute_result"
    }
   ],
   "source": [
    "RMSE_test = round(np.sqrt(MSE_test),2)\n",
    "RMSE_test"
   ]
  },
  {
   "cell_type": "markdown",
   "id": "d4981391",
   "metadata": {},
   "source": [
    "The RMSE_test for the KNN regression model is **108.61**. "
   ]
  },
  {
   "cell_type": "markdown",
   "id": "66311da5",
   "metadata": {},
   "source": [
    "## 3. Cross validation:"
   ]
  },
  {
   "cell_type": "markdown",
   "id": "548940bf",
   "metadata": {},
   "source": [
    "### 1. Estimate the RMSE_test by doing a 5 fold cross validation on the train set and name it as RMSE_CV."
   ]
  },
  {
   "cell_type": "code",
   "execution_count": 21,
   "id": "c4ffc421",
   "metadata": {},
   "outputs": [],
   "source": [
    "from sklearn.model_selection import cross_val_score"
   ]
  },
  {
   "cell_type": "code",
   "execution_count": 22,
   "id": "6dcd65e6",
   "metadata": {},
   "outputs": [],
   "source": [
    "NMSE = cross_val_score(estimator = KNN_regression, X = X_train, y = y_train, cv = 5 , scoring=\"neg_mean_squared_error\" )"
   ]
  },
  {
   "cell_type": "code",
   "execution_count": 23,
   "id": "86726bab",
   "metadata": {},
   "outputs": [
    {
     "data": {
      "text/plain": [
       "12078.5291"
      ]
     },
     "execution_count": 23,
     "metadata": {},
     "output_type": "execute_result"
    }
   ],
   "source": [
    "MSE_CV = round(np.mean(-NMSE),4)\n",
    "MSE_CV"
   ]
  },
  {
   "cell_type": "code",
   "execution_count": 24,
   "id": "c15404c1",
   "metadata": {},
   "outputs": [
    {
     "data": {
      "text/plain": [
       "109.9024"
      ]
     },
     "execution_count": 24,
     "metadata": {},
     "output_type": "execute_result"
    }
   ],
   "source": [
    "RMSE_CV = round(np.sqrt(MSE_CV), 4)\n",
    "RMSE_CV"
   ]
  },
  {
   "cell_type": "markdown",
   "id": "01d72a8e",
   "metadata": {},
   "source": [
    "### 2. Plot the RMSE_CV vs K and find the optimal value for K in the KNN regression model."
   ]
  },
  {
   "cell_type": "code",
   "execution_count": 25,
   "id": "4a458e2a",
   "metadata": {},
   "outputs": [],
   "source": [
    "RMSE_CV=[]\n",
    "RMSE_test = []\n",
    "\n",
    "k=15\n",
    "\n",
    "for i in range(1,k):\n",
    "    KNN_i = KNeighborsRegressor(n_neighbors=i)\n",
    "    KNN_i.fit(X_train, y_train)\n",
    "    RMSE_i = np.sqrt(np.mean(-1*cross_val_score(estimator = KNN_i, X = X_train, y = y_train, cv = 10 , scoring=\"neg_mean_squared_error\" )))\n",
    "    RMSE_CV.append(RMSE_i)\n",
    "    \n",
    "    RMSE_test.append(np.sqrt(np.mean(np.square(y_test - KNN_i.predict(X_test)))))\n",
    "    \n",
    "optimal_k = pd.DataFrame({'RMSE_CV': np.round(RMSE_CV,2), 'RMSE_test':np.round(RMSE_test,2), 'K':range(1,k)})"
   ]
  },
  {
   "cell_type": "code",
   "execution_count": 26,
   "id": "d7b873cc",
   "metadata": {},
   "outputs": [
    {
     "data": {
      "text/html": [
       "<div>\n",
       "<style scoped>\n",
       "    .dataframe tbody tr th:only-of-type {\n",
       "        vertical-align: middle;\n",
       "    }\n",
       "\n",
       "    .dataframe tbody tr th {\n",
       "        vertical-align: top;\n",
       "    }\n",
       "\n",
       "    .dataframe thead th {\n",
       "        text-align: right;\n",
       "    }\n",
       "</style>\n",
       "<table border=\"1\" class=\"dataframe\">\n",
       "  <thead>\n",
       "    <tr style=\"text-align: right;\">\n",
       "      <th></th>\n",
       "      <th>RMSE_CV</th>\n",
       "      <th>RMSE_test</th>\n",
       "      <th>K</th>\n",
       "    </tr>\n",
       "  </thead>\n",
       "  <tbody>\n",
       "    <tr>\n",
       "      <th>0</th>\n",
       "      <td>125.56</td>\n",
       "      <td>120.17</td>\n",
       "      <td>1</td>\n",
       "    </tr>\n",
       "    <tr>\n",
       "      <th>1</th>\n",
       "      <td>111.82</td>\n",
       "      <td>109.26</td>\n",
       "      <td>2</td>\n",
       "    </tr>\n",
       "    <tr>\n",
       "      <th>2</th>\n",
       "      <td>108.22</td>\n",
       "      <td>108.80</td>\n",
       "      <td>3</td>\n",
       "    </tr>\n",
       "    <tr>\n",
       "      <th>3</th>\n",
       "      <td>106.77</td>\n",
       "      <td>108.21</td>\n",
       "      <td>4</td>\n",
       "    </tr>\n",
       "    <tr>\n",
       "      <th>4</th>\n",
       "      <td>107.36</td>\n",
       "      <td>108.61</td>\n",
       "      <td>5</td>\n",
       "    </tr>\n",
       "    <tr>\n",
       "      <th>5</th>\n",
       "      <td>107.60</td>\n",
       "      <td>109.36</td>\n",
       "      <td>6</td>\n",
       "    </tr>\n",
       "    <tr>\n",
       "      <th>6</th>\n",
       "      <td>108.08</td>\n",
       "      <td>109.73</td>\n",
       "      <td>7</td>\n",
       "    </tr>\n",
       "    <tr>\n",
       "      <th>7</th>\n",
       "      <td>108.34</td>\n",
       "      <td>110.25</td>\n",
       "      <td>8</td>\n",
       "    </tr>\n",
       "    <tr>\n",
       "      <th>8</th>\n",
       "      <td>108.39</td>\n",
       "      <td>110.65</td>\n",
       "      <td>9</td>\n",
       "    </tr>\n",
       "    <tr>\n",
       "      <th>9</th>\n",
       "      <td>108.57</td>\n",
       "      <td>110.58</td>\n",
       "      <td>10</td>\n",
       "    </tr>\n",
       "  </tbody>\n",
       "</table>\n",
       "</div>"
      ],
      "text/plain": [
       "   RMSE_CV  RMSE_test   K\n",
       "0   125.56     120.17   1\n",
       "1   111.82     109.26   2\n",
       "2   108.22     108.80   3\n",
       "3   106.77     108.21   4\n",
       "4   107.36     108.61   5\n",
       "5   107.60     109.36   6\n",
       "6   108.08     109.73   7\n",
       "7   108.34     110.25   8\n",
       "8   108.39     110.65   9\n",
       "9   108.57     110.58  10"
      ]
     },
     "execution_count": 26,
     "metadata": {},
     "output_type": "execute_result"
    }
   ],
   "source": [
    "optimal_k.head(10)"
   ]
  },
  {
   "cell_type": "code",
   "execution_count": 27,
   "id": "23b680ee",
   "metadata": {},
   "outputs": [
    {
     "data": {
      "text/plain": [
       "3"
      ]
     },
     "execution_count": 27,
     "metadata": {},
     "output_type": "execute_result"
    }
   ],
   "source": [
    "np.argmin(optimal_k['RMSE_CV'])"
   ]
  },
  {
   "cell_type": "code",
   "execution_count": 28,
   "id": "4a86ca0b",
   "metadata": {},
   "outputs": [
    {
     "data": {
      "text/plain": [
       "4"
      ]
     },
     "execution_count": 28,
     "metadata": {},
     "output_type": "execute_result"
    }
   ],
   "source": [
    "opt_k = optimal_k.loc[np.argmin(optimal_k['RMSE_CV']), 'K']\n",
    "opt_k"
   ]
  },
  {
   "cell_type": "markdown",
   "id": "a9aa8f42",
   "metadata": {},
   "source": [
    "**The optimal value for k is 4!**"
   ]
  },
  {
   "cell_type": "code",
   "execution_count": 29,
   "id": "cc9e5320",
   "metadata": {},
   "outputs": [
    {
     "data": {
      "image/png": "[encoded data removed]",
      "text/plain": [
       "<Figure size 720x360 with 1 Axes>"
      ]
     },
     "metadata": {},
     "output_type": "display_data"
    }
   ],
   "source": [
    "plt.figure(figsize=(10,5))\n",
    "sns.lineplot(data=optimal_k.drop('K', axis=1))\n",
    "plt.title('Cross Validated RMSE VS K')\n",
    "plt.xlabel('K')\n",
    "plt.ylabel('RMSE')\n",
    "plt.show()"
   ]
  },
  {
   "cell_type": "markdown",
   "id": "39b51c2c",
   "metadata": {},
   "source": [
    "## 4. Report the R-squared in the test set with the optimal k for KNN. Compare this number with R-squared in the test set using multiple regression model. Which model is performing better in the test set? "
   ]
  },
  {
   "cell_type": "markdown",
   "id": "126fd127",
   "metadata": {},
   "source": [
    "#### KNN with optimal k"
   ]
  },
  {
   "cell_type": "code",
   "execution_count": 30,
   "id": "4164a15b",
   "metadata": {},
   "outputs": [
    {
     "data": {
      "text/plain": [
       "KNeighborsRegressor(n_neighbors=4)"
      ]
     },
     "execution_count": 30,
     "metadata": {},
     "output_type": "execute_result"
    }
   ],
   "source": [
    "KNN_regression = KNeighborsRegressor(n_neighbors = opt_k)\n",
    "KNN_regression.fit(X_test, y_test)"
   ]
  },
  {
   "cell_type": "code",
   "execution_count": 31,
   "id": "b9903d61",
   "metadata": {},
   "outputs": [
    {
     "data": {
      "text/plain": [
       "0.6558145421357219"
      ]
     },
     "execution_count": 31,
     "metadata": {},
     "output_type": "execute_result"
    }
   ],
   "source": [
    "from sklearn.metrics import r2_score\n",
    "r2_score(y_test, y_hat)"
   ]
  },
  {
   "cell_type": "markdown",
   "id": "8645f30c",
   "metadata": {},
   "source": [
    "#### Multiple Regression"
   ]
  },
  {
   "cell_type": "code",
   "execution_count": 32,
   "id": "0339dcf5",
   "metadata": {},
   "outputs": [],
   "source": [
    "import statsmodels.api as sm \n",
    "\n",
    "X_train_wc = sm.add_constant(X_train)\n",
    "X_test_wc = sm.add_constant(X_test)"
   ]
  },
  {
   "cell_type": "code",
   "execution_count": 33,
   "id": "3c5efa96",
   "metadata": {},
   "outputs": [
    {
     "data": {
      "text/html": [
       "<table class=\"simpletable\">\n",
       "<caption>OLS Regression Results</caption>\n",
       "<tr>\n",
       "  <th>Dep. Variable:</th>           <td>cnt</td>       <th>  R-squared:         </th> <td>   0.700</td> \n",
       "</tr>\n",
       "<tr>\n",
       "  <th>Model:</th>                   <td>OLS</td>       <th>  Adj. R-squared:    </th> <td>   0.695</td> \n",
       "</tr>\n",
       "<tr>\n",
       "  <th>Method:</th>             <td>Least Squares</td>  <th>  F-statistic:       </th> <td>   156.4</td> \n",
       "</tr>\n",
       "<tr>\n",
       "  <th>Date:</th>             <td>Wed, 16 Mar 2022</td> <th>  Prob (F-statistic):</th>  <td>  0.00</td>  \n",
       "</tr>\n",
       "<tr>\n",
       "  <th>Time:</th>                 <td>19:31:47</td>     <th>  Log-Likelihood:    </th> <td> -20990.</td> \n",
       "</tr>\n",
       "<tr>\n",
       "  <th>No. Observations:</th>      <td>  3476</td>      <th>  AIC:               </th> <td>4.208e+04</td>\n",
       "</tr>\n",
       "<tr>\n",
       "  <th>Df Residuals:</th>          <td>  3424</td>      <th>  BIC:               </th> <td>4.240e+04</td>\n",
       "</tr>\n",
       "<tr>\n",
       "  <th>Df Model:</th>              <td>    51</td>      <th>                     </th>     <td> </td>    \n",
       "</tr>\n",
       "<tr>\n",
       "  <th>Covariance Type:</th>      <td>nonrobust</td>    <th>                     </th>     <td> </td>    \n",
       "</tr>\n",
       "</table>\n",
       "<table class=\"simpletable\">\n",
       "<tr>\n",
       "        <td></td>          <th>coef</th>     <th>std err</th>      <th>t</th>      <th>P>|t|</th>  <th>[0.025</th>    <th>0.975]</th>  \n",
       "</tr>\n",
       "<tr>\n",
       "  <th>temp</th>         <td>   40.3252</td> <td>    4.105</td> <td>    9.822</td> <td> 0.000</td> <td>   32.276</td> <td>   48.375</td>\n",
       "</tr>\n",
       "<tr>\n",
       "  <th>hum</th>          <td>  -14.7914</td> <td>    2.404</td> <td>   -6.152</td> <td> 0.000</td> <td>  -19.505</td> <td>  -10.078</td>\n",
       "</tr>\n",
       "<tr>\n",
       "  <th>windspeed</th>    <td>   -1.3452</td> <td>    1.924</td> <td>   -0.699</td> <td> 0.484</td> <td>   -5.117</td> <td>    2.427</td>\n",
       "</tr>\n",
       "<tr>\n",
       "  <th>season_2</th>     <td>   35.9084</td> <td>   10.739</td> <td>    3.344</td> <td> 0.001</td> <td>   14.853</td> <td>   56.963</td>\n",
       "</tr>\n",
       "<tr>\n",
       "  <th>season_3</th>     <td>   34.7548</td> <td>   13.002</td> <td>    2.673</td> <td> 0.008</td> <td>    9.263</td> <td>   60.247</td>\n",
       "</tr>\n",
       "<tr>\n",
       "  <th>season_4</th>     <td>   71.7850</td> <td>   11.104</td> <td>    6.465</td> <td> 0.000</td> <td>   50.014</td> <td>   93.556</td>\n",
       "</tr>\n",
       "<tr>\n",
       "  <th>yr_1</th>         <td>   85.0945</td> <td>    3.519</td> <td>   24.178</td> <td> 0.000</td> <td>   78.194</td> <td>   91.995</td>\n",
       "</tr>\n",
       "<tr>\n",
       "  <th>mnth_2</th>       <td>    8.6401</td> <td>    9.034</td> <td>    0.956</td> <td> 0.339</td> <td>   -9.073</td> <td>   26.353</td>\n",
       "</tr>\n",
       "<tr>\n",
       "  <th>mnth_3</th>       <td>   19.7616</td> <td>    9.765</td> <td>    2.024</td> <td> 0.043</td> <td>    0.616</td> <td>   38.907</td>\n",
       "</tr>\n",
       "<tr>\n",
       "  <th>mnth_4</th>       <td>   16.3931</td> <td>   14.652</td> <td>    1.119</td> <td> 0.263</td> <td>  -12.335</td> <td>   45.121</td>\n",
       "</tr>\n",
       "<tr>\n",
       "  <th>mnth_5</th>       <td>   35.7545</td> <td>   15.717</td> <td>    2.275</td> <td> 0.023</td> <td>    4.938</td> <td>   66.571</td>\n",
       "</tr>\n",
       "<tr>\n",
       "  <th>mnth_6</th>       <td>   22.4899</td> <td>   16.092</td> <td>    1.398</td> <td> 0.162</td> <td>   -9.062</td> <td>   54.042</td>\n",
       "</tr>\n",
       "<tr>\n",
       "  <th>mnth_7</th>       <td>   10.2197</td> <td>   18.130</td> <td>    0.564</td> <td> 0.573</td> <td>  -25.328</td> <td>   45.767</td>\n",
       "</tr>\n",
       "<tr>\n",
       "  <th>mnth_8</th>       <td>   11.3010</td> <td>   17.697</td> <td>    0.639</td> <td> 0.523</td> <td>  -23.397</td> <td>   45.999</td>\n",
       "</tr>\n",
       "<tr>\n",
       "  <th>mnth_9</th>       <td>   29.2601</td> <td>   15.697</td> <td>    1.864</td> <td> 0.062</td> <td>   -1.517</td> <td>   60.037</td>\n",
       "</tr>\n",
       "<tr>\n",
       "  <th>mnth_10</th>      <td>   37.0080</td> <td>   14.429</td> <td>    2.565</td> <td> 0.010</td> <td>    8.718</td> <td>   65.299</td>\n",
       "</tr>\n",
       "<tr>\n",
       "  <th>mnth_11</th>      <td>    1.3284</td> <td>   14.104</td> <td>    0.094</td> <td> 0.925</td> <td>  -26.325</td> <td>   28.982</td>\n",
       "</tr>\n",
       "<tr>\n",
       "  <th>mnth_12</th>      <td>   -3.8431</td> <td>   11.274</td> <td>   -0.341</td> <td> 0.733</td> <td>  -25.947</td> <td>   18.261</td>\n",
       "</tr>\n",
       "<tr>\n",
       "  <th>hr_1</th>         <td>  -12.6162</td> <td>   12.047</td> <td>   -1.047</td> <td> 0.295</td> <td>  -36.236</td> <td>   11.004</td>\n",
       "</tr>\n",
       "<tr>\n",
       "  <th>hr_2</th>         <td>  -19.9897</td> <td>   12.123</td> <td>   -1.649</td> <td> 0.099</td> <td>  -43.758</td> <td>    3.779</td>\n",
       "</tr>\n",
       "<tr>\n",
       "  <th>hr_3</th>         <td>  -41.1354</td> <td>   12.143</td> <td>   -3.387</td> <td> 0.001</td> <td>  -64.944</td> <td>  -17.326</td>\n",
       "</tr>\n",
       "<tr>\n",
       "  <th>hr_4</th>         <td>  -44.5798</td> <td>   12.102</td> <td>   -3.684</td> <td> 0.000</td> <td>  -68.307</td> <td>  -20.852</td>\n",
       "</tr>\n",
       "<tr>\n",
       "  <th>hr_5</th>         <td>  -30.6293</td> <td>   11.983</td> <td>   -2.556</td> <td> 0.011</td> <td>  -54.125</td> <td>   -7.134</td>\n",
       "</tr>\n",
       "<tr>\n",
       "  <th>hr_6</th>         <td>   38.4007</td> <td>   12.231</td> <td>    3.140</td> <td> 0.002</td> <td>   14.420</td> <td>   62.382</td>\n",
       "</tr>\n",
       "<tr>\n",
       "  <th>hr_7</th>         <td>  184.7978</td> <td>   12.078</td> <td>   15.300</td> <td> 0.000</td> <td>  161.117</td> <td>  208.479</td>\n",
       "</tr>\n",
       "<tr>\n",
       "  <th>hr_8</th>         <td>  277.2199</td> <td>   12.165</td> <td>   22.788</td> <td> 0.000</td> <td>  253.368</td> <td>  301.072</td>\n",
       "</tr>\n",
       "<tr>\n",
       "  <th>hr_9</th>         <td>  169.2628</td> <td>   12.555</td> <td>   13.482</td> <td> 0.000</td> <td>  144.647</td> <td>  193.879</td>\n",
       "</tr>\n",
       "<tr>\n",
       "  <th>hr_10</th>        <td>  116.4020</td> <td>   12.300</td> <td>    9.464</td> <td> 0.000</td> <td>   92.287</td> <td>  140.517</td>\n",
       "</tr>\n",
       "<tr>\n",
       "  <th>hr_11</th>        <td>  130.5947</td> <td>   12.307</td> <td>   10.612</td> <td> 0.000</td> <td>  106.465</td> <td>  154.724</td>\n",
       "</tr>\n",
       "<tr>\n",
       "  <th>hr_12</th>        <td>  168.7284</td> <td>   12.614</td> <td>   13.376</td> <td> 0.000</td> <td>  143.996</td> <td>  193.461</td>\n",
       "</tr>\n",
       "<tr>\n",
       "  <th>hr_13</th>        <td>  164.7255</td> <td>   12.473</td> <td>   13.207</td> <td> 0.000</td> <td>  140.270</td> <td>  189.181</td>\n",
       "</tr>\n",
       "<tr>\n",
       "  <th>hr_14</th>        <td>  162.5089</td> <td>   12.369</td> <td>   13.139</td> <td> 0.000</td> <td>  138.258</td> <td>  186.760</td>\n",
       "</tr>\n",
       "<tr>\n",
       "  <th>hr_15</th>        <td>  165.2119</td> <td>   12.443</td> <td>   13.278</td> <td> 0.000</td> <td>  140.816</td> <td>  189.608</td>\n",
       "</tr>\n",
       "<tr>\n",
       "  <th>hr_16</th>        <td>  242.6892</td> <td>   12.648</td> <td>   19.188</td> <td> 0.000</td> <td>  217.891</td> <td>  267.487</td>\n",
       "</tr>\n",
       "<tr>\n",
       "  <th>hr_17</th>        <td>  402.5835</td> <td>   12.682</td> <td>   31.744</td> <td> 0.000</td> <td>  377.718</td> <td>  427.449</td>\n",
       "</tr>\n",
       "<tr>\n",
       "  <th>hr_18</th>        <td>  382.1540</td> <td>   12.405</td> <td>   30.806</td> <td> 0.000</td> <td>  357.832</td> <td>  406.477</td>\n",
       "</tr>\n",
       "<tr>\n",
       "  <th>hr_19</th>        <td>  232.5407</td> <td>   12.324</td> <td>   18.869</td> <td> 0.000</td> <td>  208.378</td> <td>  256.704</td>\n",
       "</tr>\n",
       "<tr>\n",
       "  <th>hr_20</th>        <td>  164.2599</td> <td>   12.073</td> <td>   13.606</td> <td> 0.000</td> <td>  140.589</td> <td>  187.931</td>\n",
       "</tr>\n",
       "<tr>\n",
       "  <th>hr_21</th>        <td>  114.9259</td> <td>   12.292</td> <td>    9.350</td> <td> 0.000</td> <td>   90.826</td> <td>  139.026</td>\n",
       "</tr>\n",
       "<tr>\n",
       "  <th>hr_22</th>        <td>   71.1129</td> <td>   12.047</td> <td>    5.903</td> <td> 0.000</td> <td>   47.492</td> <td>   94.734</td>\n",
       "</tr>\n",
       "<tr>\n",
       "  <th>hr_23</th>        <td>   31.5332</td> <td>   12.476</td> <td>    2.527</td> <td> 0.012</td> <td>    7.072</td> <td>   55.995</td>\n",
       "</tr>\n",
       "<tr>\n",
       "  <th>holiday_1</th>    <td>   -2.1872</td> <td>   17.618</td> <td>   -0.124</td> <td> 0.901</td> <td>  -36.731</td> <td>   32.356</td>\n",
       "</tr>\n",
       "<tr>\n",
       "  <th>weekday_1</th>    <td>  -23.3530</td> <td>   13.182</td> <td>   -1.772</td> <td> 0.077</td> <td>  -49.198</td> <td>    2.492</td>\n",
       "</tr>\n",
       "<tr>\n",
       "  <th>weekday_2</th>    <td>  -20.6599</td> <td>   12.902</td> <td>   -1.601</td> <td> 0.109</td> <td>  -45.956</td> <td>    4.636</td>\n",
       "</tr>\n",
       "<tr>\n",
       "  <th>weekday_3</th>    <td>  -22.7732</td> <td>   12.873</td> <td>   -1.769</td> <td> 0.077</td> <td>  -48.013</td> <td>    2.466</td>\n",
       "</tr>\n",
       "<tr>\n",
       "  <th>weekday_4</th>    <td>  -19.9344</td> <td>   12.885</td> <td>   -1.547</td> <td> 0.122</td> <td>  -45.198</td> <td>    5.329</td>\n",
       "</tr>\n",
       "<tr>\n",
       "  <th>weekday_5</th>    <td>  -13.9592</td> <td>   13.034</td> <td>   -1.071</td> <td> 0.284</td> <td>  -39.514</td> <td>   11.596</td>\n",
       "</tr>\n",
       "<tr>\n",
       "  <th>weekday_6</th>    <td>   24.0157</td> <td>    6.477</td> <td>    3.708</td> <td> 0.000</td> <td>   11.316</td> <td>   36.715</td>\n",
       "</tr>\n",
       "<tr>\n",
       "  <th>notbizday_1</th>  <td>  -37.4989</td> <td>   12.975</td> <td>   -2.890</td> <td> 0.004</td> <td>  -62.937</td> <td>  -12.060</td>\n",
       "</tr>\n",
       "<tr>\n",
       "  <th>weathersit_2</th> <td>  -14.3511</td> <td>    4.308</td> <td>   -3.332</td> <td> 0.001</td> <td>  -22.797</td> <td>   -5.905</td>\n",
       "</tr>\n",
       "<tr>\n",
       "  <th>weathersit_3</th> <td>  -72.4715</td> <td>    7.301</td> <td>   -9.926</td> <td> 0.000</td> <td>  -86.786</td> <td>  -58.157</td>\n",
       "</tr>\n",
       "<tr>\n",
       "  <th>weathersit_4</th> <td> -101.1758</td> <td>  103.103</td> <td>   -0.981</td> <td> 0.327</td> <td> -303.325</td> <td>  100.973</td>\n",
       "</tr>\n",
       "</table>\n",
       "<table class=\"simpletable\">\n",
       "<tr>\n",
       "  <th>Omnibus:</th>       <td>236.184</td> <th>  Durbin-Watson:     </th> <td>   2.100</td>\n",
       "</tr>\n",
       "<tr>\n",
       "  <th>Prob(Omnibus):</th> <td> 0.000</td>  <th>  Jarque-Bera (JB):  </th> <td> 411.774</td>\n",
       "</tr>\n",
       "<tr>\n",
       "  <th>Skew:</th>          <td> 0.508</td>  <th>  Prob(JB):          </th> <td>3.84e-90</td>\n",
       "</tr>\n",
       "<tr>\n",
       "  <th>Kurtosis:</th>      <td> 4.346</td>  <th>  Cond. No.          </th> <td>    68.3</td>\n",
       "</tr>\n",
       "</table><br/><br/>Notes:<br/>[1] Standard Errors assume that the covariance matrix of the errors is correctly specified."
      ],
      "text/plain": [
       "<class 'statsmodels.iolib.summary.Summary'>\n",
       "\"\"\"\n",
       "                            OLS Regression Results                            \n",
       "==============================================================================\n",
       "Dep. Variable:                    cnt   R-squared:                       0.700\n",
       "Model:                            OLS   Adj. R-squared:                  0.695\n",
       "Method:                 Least Squares   F-statistic:                     156.4\n",
       "Date:                Wed, 16 Mar 2022   Prob (F-statistic):               0.00\n",
       "Time:                        19:31:47   Log-Likelihood:                -20990.\n",
       "No. Observations:                3476   AIC:                         4.208e+04\n",
       "Df Residuals:                    3424   BIC:                         4.240e+04\n",
       "Df Model:                          51                                         \n",
       "Covariance Type:            nonrobust                                         \n",
       "================================================================================\n",
       "                   coef    std err          t      P>|t|      [0.025      0.975]\n",
       "--------------------------------------------------------------------------------\n",
       "temp            40.3252      4.105      9.822      0.000      32.276      48.375\n",
       "hum            -14.7914      2.404     -6.152      0.000     -19.505     -10.078\n",
       "windspeed       -1.3452      1.924     -0.699      0.484      -5.117       2.427\n",
       "season_2        35.9084     10.739      3.344      0.001      14.853      56.963\n",
       "season_3        34.7548     13.002      2.673      0.008       9.263      60.247\n",
       "season_4        71.7850     11.104      6.465      0.000      50.014      93.556\n",
       "yr_1            85.0945      3.519     24.178      0.000      78.194      91.995\n",
       "mnth_2           8.6401      9.034      0.956      0.339      -9.073      26.353\n",
       "mnth_3          19.7616      9.765      2.024      0.043       0.616      38.907\n",
       "mnth_4          16.3931     14.652      1.119      0.263     -12.335      45.121\n",
       "mnth_5          35.7545     15.717      2.275      0.023       4.938      66.571\n",
       "mnth_6          22.4899     16.092      1.398      0.162      -9.062      54.042\n",
       "mnth_7          10.2197     18.130      0.564      0.573     -25.328      45.767\n",
       "mnth_8          11.3010     17.697      0.639      0.523     -23.397      45.999\n",
       "mnth_9          29.2601     15.697      1.864      0.062      -1.517      60.037\n",
       "mnth_10         37.0080     14.429      2.565      0.010       8.718      65.299\n",
       "mnth_11          1.3284     14.104      0.094      0.925     -26.325      28.982\n",
       "mnth_12         -3.8431     11.274     -0.341      0.733     -25.947      18.261\n",
       "hr_1           -12.6162     12.047     -1.047      0.295     -36.236      11.004\n",
       "hr_2           -19.9897     12.123     -1.649      0.099     -43.758       3.779\n",
       "hr_3           -41.1354     12.143     -3.387      0.001     -64.944     -17.326\n",
       "hr_4           -44.5798     12.102     -3.684      0.000     -68.307     -20.852\n",
       "hr_5           -30.6293     11.983     -2.556      0.011     -54.125      -7.134\n",
       "hr_6            38.4007     12.231      3.140      0.002      14.420      62.382\n",
       "hr_7           184.7978     12.078     15.300      0.000     161.117     208.479\n",
       "hr_8           277.2199     12.165     22.788      0.000     253.368     301.072\n",
       "hr_9           169.2628     12.555     13.482      0.000     144.647     193.879\n",
       "hr_10          116.4020     12.300      9.464      0.000      92.287     140.517\n",
       "hr_11          130.5947     12.307     10.612      0.000     106.465     154.724\n",
       "hr_12          168.7284     12.614     13.376      0.000     143.996     193.461\n",
       "hr_13          164.7255     12.473     13.207      0.000     140.270     189.181\n",
       "hr_14          162.5089     12.369     13.139      0.000     138.258     186.760\n",
       "hr_15          165.2119     12.443     13.278      0.000     140.816     189.608\n",
       "hr_16          242.6892     12.648     19.188      0.000     217.891     267.487\n",
       "hr_17          402.5835     12.682     31.744      0.000     377.718     427.449\n",
       "hr_18          382.1540     12.405     30.806      0.000     357.832     406.477\n",
       "hr_19          232.5407     12.324     18.869      0.000     208.378     256.704\n",
       "hr_20          164.2599     12.073     13.606      0.000     140.589     187.931\n",
       "hr_21          114.9259     12.292      9.350      0.000      90.826     139.026\n",
       "hr_22           71.1129     12.047      5.903      0.000      47.492      94.734\n",
       "hr_23           31.5332     12.476      2.527      0.012       7.072      55.995\n",
       "holiday_1       -2.1872     17.618     -0.124      0.901     -36.731      32.356\n",
       "weekday_1      -23.3530     13.182     -1.772      0.077     -49.198       2.492\n",
       "weekday_2      -20.6599     12.902     -1.601      0.109     -45.956       4.636\n",
       "weekday_3      -22.7732     12.873     -1.769      0.077     -48.013       2.466\n",
       "weekday_4      -19.9344     12.885     -1.547      0.122     -45.198       5.329\n",
       "weekday_5      -13.9592     13.034     -1.071      0.284     -39.514      11.596\n",
       "weekday_6       24.0157      6.477      3.708      0.000      11.316      36.715\n",
       "notbizday_1    -37.4989     12.975     -2.890      0.004     -62.937     -12.060\n",
       "weathersit_2   -14.3511      4.308     -3.332      0.001     -22.797      -5.905\n",
       "weathersit_3   -72.4715      7.301     -9.926      0.000     -86.786     -58.157\n",
       "weathersit_4  -101.1758    103.103     -0.981      0.327    -303.325     100.973\n",
       "==============================================================================\n",
       "Omnibus:                      236.184   Durbin-Watson:                   2.100\n",
       "Prob(Omnibus):                  0.000   Jarque-Bera (JB):              411.774\n",
       "Skew:                           0.508   Prob(JB):                     3.84e-90\n",
       "Kurtosis:                       4.346   Cond. No.                         68.3\n",
       "==============================================================================\n",
       "\n",
       "Notes:\n",
       "[1] Standard Errors assume that the covariance matrix of the errors is correctly specified.\n",
       "\"\"\""
      ]
     },
     "execution_count": 33,
     "metadata": {},
     "output_type": "execute_result"
    }
   ],
   "source": [
    "sm.OLS(y_test, X_test).fit().summary()"
   ]
  },
  {
   "cell_type": "markdown",
   "id": "b26caa50",
   "metadata": {},
   "source": [
    "**R-Squared:**\n",
    "\n",
    "KNN regression – 0.6558. \n",
    "\n",
    "simple regression model – 0.700. \n",
    "\n",
    "==> This means that the **simple regression model** is preforming better in the test set. "
   ]
  },
  {
   "cell_type": "markdown",
   "id": "bace355d",
   "metadata": {},
   "source": [
    "# KNN Classification"
   ]
  },
  {
   "cell_type": "markdown",
   "id": "01289d5b",
   "metadata": {},
   "source": [
    "## 1. Define a binary target variable overload. Overload=1 if cnt>500 and 0 otherwise. What are the proportions of overload vs non-overload in your data set? Is the target variable balanced or imbalanced? "
   ]
  },
  {
   "cell_type": "code",
   "execution_count": 34,
   "id": "22ed1f6f",
   "metadata": {},
   "outputs": [],
   "source": [
    "df['overload']= np.where(df['cnt']>500, 1, 0)"
   ]
  },
  {
   "cell_type": "code",
   "execution_count": 35,
   "id": "409f2867",
   "metadata": {},
   "outputs": [],
   "source": [
    "df.drop('cnt', axis=1, inplace=True)"
   ]
  },
  {
   "cell_type": "code",
   "execution_count": 36,
   "id": "a26ecca3",
   "metadata": {
    "scrolled": true
   },
   "outputs": [
    {
     "data": {
      "text/html": [
       "<div>\n",
       "<style scoped>\n",
       "    .dataframe tbody tr th:only-of-type {\n",
       "        vertical-align: middle;\n",
       "    }\n",
       "\n",
       "    .dataframe tbody tr th {\n",
       "        vertical-align: top;\n",
       "    }\n",
       "\n",
       "    .dataframe thead th {\n",
       "        text-align: right;\n",
       "    }\n",
       "</style>\n",
       "<table border=\"1\" class=\"dataframe\">\n",
       "  <thead>\n",
       "    <tr style=\"text-align: right;\">\n",
       "      <th></th>\n",
       "      <th>temp</th>\n",
       "      <th>hum</th>\n",
       "      <th>windspeed</th>\n",
       "      <th>season_2</th>\n",
       "      <th>season_3</th>\n",
       "      <th>season_4</th>\n",
       "      <th>yr_1</th>\n",
       "      <th>mnth_2</th>\n",
       "      <th>mnth_3</th>\n",
       "      <th>mnth_4</th>\n",
       "      <th>...</th>\n",
       "      <th>weekday_2</th>\n",
       "      <th>weekday_3</th>\n",
       "      <th>weekday_4</th>\n",
       "      <th>weekday_5</th>\n",
       "      <th>weekday_6</th>\n",
       "      <th>notbizday_1</th>\n",
       "      <th>weathersit_2</th>\n",
       "      <th>weathersit_3</th>\n",
       "      <th>weathersit_4</th>\n",
       "      <th>overload</th>\n",
       "    </tr>\n",
       "  </thead>\n",
       "  <tbody>\n",
       "    <tr>\n",
       "      <th>0</th>\n",
       "      <td>-1.334609</td>\n",
       "      <td>0.947345</td>\n",
       "      <td>-1.553844</td>\n",
       "      <td>0</td>\n",
       "      <td>0</td>\n",
       "      <td>0</td>\n",
       "      <td>0</td>\n",
       "      <td>0</td>\n",
       "      <td>0</td>\n",
       "      <td>0</td>\n",
       "      <td>...</td>\n",
       "      <td>0</td>\n",
       "      <td>0</td>\n",
       "      <td>0</td>\n",
       "      <td>0</td>\n",
       "      <td>1</td>\n",
       "      <td>1</td>\n",
       "      <td>0</td>\n",
       "      <td>0</td>\n",
       "      <td>0</td>\n",
       "      <td>0</td>\n",
       "    </tr>\n",
       "    <tr>\n",
       "      <th>1</th>\n",
       "      <td>-1.438475</td>\n",
       "      <td>0.895513</td>\n",
       "      <td>-1.553844</td>\n",
       "      <td>0</td>\n",
       "      <td>0</td>\n",
       "      <td>0</td>\n",
       "      <td>0</td>\n",
       "      <td>0</td>\n",
       "      <td>0</td>\n",
       "      <td>0</td>\n",
       "      <td>...</td>\n",
       "      <td>0</td>\n",
       "      <td>0</td>\n",
       "      <td>0</td>\n",
       "      <td>0</td>\n",
       "      <td>1</td>\n",
       "      <td>1</td>\n",
       "      <td>0</td>\n",
       "      <td>0</td>\n",
       "      <td>0</td>\n",
       "      <td>0</td>\n",
       "    </tr>\n",
       "    <tr>\n",
       "      <th>2</th>\n",
       "      <td>-1.438475</td>\n",
       "      <td>0.895513</td>\n",
       "      <td>-1.553844</td>\n",
       "      <td>0</td>\n",
       "      <td>0</td>\n",
       "      <td>0</td>\n",
       "      <td>0</td>\n",
       "      <td>0</td>\n",
       "      <td>0</td>\n",
       "      <td>0</td>\n",
       "      <td>...</td>\n",
       "      <td>0</td>\n",
       "      <td>0</td>\n",
       "      <td>0</td>\n",
       "      <td>0</td>\n",
       "      <td>1</td>\n",
       "      <td>1</td>\n",
       "      <td>0</td>\n",
       "      <td>0</td>\n",
       "      <td>0</td>\n",
       "      <td>0</td>\n",
       "    </tr>\n",
       "    <tr>\n",
       "      <th>3</th>\n",
       "      <td>-1.334609</td>\n",
       "      <td>0.636351</td>\n",
       "      <td>-1.553844</td>\n",
       "      <td>0</td>\n",
       "      <td>0</td>\n",
       "      <td>0</td>\n",
       "      <td>0</td>\n",
       "      <td>0</td>\n",
       "      <td>0</td>\n",
       "      <td>0</td>\n",
       "      <td>...</td>\n",
       "      <td>0</td>\n",
       "      <td>0</td>\n",
       "      <td>0</td>\n",
       "      <td>0</td>\n",
       "      <td>1</td>\n",
       "      <td>1</td>\n",
       "      <td>0</td>\n",
       "      <td>0</td>\n",
       "      <td>0</td>\n",
       "      <td>0</td>\n",
       "    </tr>\n",
       "    <tr>\n",
       "      <th>4</th>\n",
       "      <td>-1.334609</td>\n",
       "      <td>0.636351</td>\n",
       "      <td>-1.553844</td>\n",
       "      <td>0</td>\n",
       "      <td>0</td>\n",
       "      <td>0</td>\n",
       "      <td>0</td>\n",
       "      <td>0</td>\n",
       "      <td>0</td>\n",
       "      <td>0</td>\n",
       "      <td>...</td>\n",
       "      <td>0</td>\n",
       "      <td>0</td>\n",
       "      <td>0</td>\n",
       "      <td>0</td>\n",
       "      <td>1</td>\n",
       "      <td>1</td>\n",
       "      <td>0</td>\n",
       "      <td>0</td>\n",
       "      <td>0</td>\n",
       "      <td>0</td>\n",
       "    </tr>\n",
       "  </tbody>\n",
       "</table>\n",
       "<p>5 rows × 53 columns</p>\n",
       "</div>"
      ],
      "text/plain": [
       "       temp       hum  windspeed  season_2  season_3  season_4  yr_1  mnth_2  \\\n",
       "0 -1.334609  0.947345  -1.553844         0         0         0     0       0   \n",
       "1 -1.438475  0.895513  -1.553844         0         0         0     0       0   \n",
       "2 -1.438475  0.895513  -1.553844         0         0         0     0       0   \n",
       "3 -1.334609  0.636351  -1.553844         0         0         0     0       0   \n",
       "4 -1.334609  0.636351  -1.553844         0         0         0     0       0   \n",
       "\n",
       "   mnth_3  mnth_4  ...  weekday_2  weekday_3  weekday_4  weekday_5  weekday_6  \\\n",
       "0       0       0  ...          0          0          0          0          1   \n",
       "1       0       0  ...          0          0          0          0          1   \n",
       "2       0       0  ...          0          0          0          0          1   \n",
       "3       0       0  ...          0          0          0          0          1   \n",
       "4       0       0  ...          0          0          0          0          1   \n",
       "\n",
       "   notbizday_1  weathersit_2  weathersit_3  weathersit_4  overload  \n",
       "0            1             0             0             0         0  \n",
       "1            1             0             0             0         0  \n",
       "2            1             0             0             0         0  \n",
       "3            1             0             0             0         0  \n",
       "4            1             0             0             0         0  \n",
       "\n",
       "[5 rows x 53 columns]"
      ]
     },
     "execution_count": 36,
     "metadata": {},
     "output_type": "execute_result"
    }
   ],
   "source": [
    "df.head()"
   ]
  },
  {
   "cell_type": "code",
   "execution_count": 37,
   "id": "ac5bda86",
   "metadata": {},
   "outputs": [
    {
     "data": {
      "text/html": [
       "<div>\n",
       "<style scoped>\n",
       "    .dataframe tbody tr th:only-of-type {\n",
       "        vertical-align: middle;\n",
       "    }\n",
       "\n",
       "    .dataframe tbody tr th {\n",
       "        vertical-align: top;\n",
       "    }\n",
       "\n",
       "    .dataframe thead th {\n",
       "        text-align: right;\n",
       "    }\n",
       "</style>\n",
       "<table border=\"1\" class=\"dataframe\">\n",
       "  <thead>\n",
       "    <tr style=\"text-align: right;\">\n",
       "      <th>overload</th>\n",
       "      <th>0</th>\n",
       "      <th>1</th>\n",
       "    </tr>\n",
       "    <tr>\n",
       "      <th>overload</th>\n",
       "      <th></th>\n",
       "      <th></th>\n",
       "    </tr>\n",
       "  </thead>\n",
       "  <tbody>\n",
       "    <tr>\n",
       "      <th>0</th>\n",
       "      <td>92.640543</td>\n",
       "      <td>0.000000</td>\n",
       "    </tr>\n",
       "    <tr>\n",
       "      <th>1</th>\n",
       "      <td>0.000000</td>\n",
       "      <td>7.359457</td>\n",
       "    </tr>\n",
       "  </tbody>\n",
       "</table>\n",
       "</div>"
      ],
      "text/plain": [
       "overload          0         1\n",
       "overload                     \n",
       "0         92.640543  0.000000\n",
       "1          0.000000  7.359457"
      ]
     },
     "execution_count": 37,
     "metadata": {},
     "output_type": "execute_result"
    }
   ],
   "source": [
    "pd.crosstab(df['overload'],df['overload'], normalize='all')*100"
   ]
  },
  {
   "cell_type": "markdown",
   "id": "47639e74",
   "metadata": {},
   "source": [
    "92.6% of the dataset is classified as non-overload, and 7.4% of the dataset is classified as overload. This means that the target variable overload is **imbalanced**!"
   ]
  },
  {
   "cell_type": "markdown",
   "id": "fe964459",
   "metadata": {},
   "source": [
    "## 2. Along with the target variable, define your feature space (X) and split the data into test (30%) and train set (70%)"
   ]
  },
  {
   "cell_type": "code",
   "execution_count": 38,
   "id": "287a2a8f",
   "metadata": {},
   "outputs": [],
   "source": [
    "y = df['overload']\n",
    "X = df.drop('overload', axis=1) # becareful inplace= False\n",
    "\n",
    "from sklearn.model_selection import train_test_split\n",
    "X_train, X_test, y_train, y_test = train_test_split(X, y, test_size=0.3, random_state=rand_state)"
   ]
  },
  {
   "cell_type": "markdown",
   "id": "0d0042a8",
   "metadata": {},
   "source": [
    "## 3. From sklearn.neighbors import the relevant function for KNN classification."
   ]
  },
  {
   "cell_type": "code",
   "execution_count": 39,
   "id": "7c64844f",
   "metadata": {},
   "outputs": [],
   "source": [
    "from sklearn.neighbors import KNeighborsClassifier"
   ]
  },
  {
   "cell_type": "markdown",
   "id": "b21f0ae0",
   "metadata": {},
   "source": [
    "### 1. Train the KNN classification model using its default parameters."
   ]
  },
  {
   "cell_type": "code",
   "execution_count": 40,
   "id": "54e2fb1d",
   "metadata": {},
   "outputs": [
    {
     "data": {
      "text/plain": [
       "KNeighborsClassifier()"
      ]
     },
     "execution_count": 40,
     "metadata": {},
     "output_type": "execute_result"
    }
   ],
   "source": [
    "# Fitting KNN classifier to the Training set\n",
    "\n",
    "KNN_classifier = KNeighborsClassifier()\n",
    "KNN_classifier.fit(X_train, y_train)"
   ]
  },
  {
   "cell_type": "markdown",
   "id": "77f96d68",
   "metadata": {},
   "source": [
    "### 2. Generate the predicted probabilities and predicted classifications and save them as y_hat_probs, y_hat respectively."
   ]
  },
  {
   "cell_type": "code",
   "execution_count": 41,
   "id": "0325e776",
   "metadata": {},
   "outputs": [],
   "source": [
    "# Predicting the Test set probabilities and classes\n",
    "y_hat      = KNN_classifier.predict(X_test)\n",
    "y_hat_probs = KNN_classifier.predict_proba(X_test)[:,1] "
   ]
  },
  {
   "cell_type": "markdown",
   "id": "2dfb478a",
   "metadata": {},
   "source": [
    "### 3. Plot the histogram of y_hat_probs."
   ]
  },
  {
   "cell_type": "code",
   "execution_count": 42,
   "id": "59310f42",
   "metadata": {},
   "outputs": [
    {
     "data": {
      "image/png": "[encoded data removed]",
      "text/plain": [
       "<Figure size 432x288 with 1 Axes>"
      ]
     },
     "metadata": {},
     "output_type": "display_data"
    }
   ],
   "source": [
    "plt.hist(y_hat_probs)\n",
    "plt.show()"
   ]
  },
  {
   "cell_type": "markdown",
   "id": "9f9c9a68",
   "metadata": {},
   "source": [
    "The histogram is mainly concentrated to the left at 0.0. This shows us that the data set is pretty unbalanced. Below a threshold of 0.6 the model will almost always predict negative. "
   ]
  },
  {
   "cell_type": "markdown",
   "id": "eb4c6731",
   "metadata": {},
   "source": [
    "### 4. Generate predicted classifications for two different thresholds (30% and 70% threshold). Save these new predictions as y_hat_30 and y_hat_70. Which threshold should you use if your goal is to avoid too many false negatives? Explain your answer."
   ]
  },
  {
   "cell_type": "code",
   "execution_count": 43,
   "id": "6fa249d7",
   "metadata": {},
   "outputs": [],
   "source": [
    "y_hat_30 = np.where(y_hat_probs>0.3,1,0)\n",
    "y_hat_70 = np.where(y_hat_probs>0.7,1,0)"
   ]
  },
  {
   "cell_type": "markdown",
   "id": "7e6dc395",
   "metadata": {},
   "source": [
    "If we want to avoid false negatives we should use the threshold 30%. "
   ]
  },
  {
   "cell_type": "markdown",
   "id": "d3c1b542",
   "metadata": {},
   "source": [
    "### 5. Construct a data frame named df_predictions with 5 columns. y_test,  and the 4 y_hats from previous parts"
   ]
  },
  {
   "cell_type": "code",
   "execution_count": 44,
   "id": "1e853667",
   "metadata": {},
   "outputs": [
    {
     "data": {
      "text/html": [
       "<div>\n",
       "<style scoped>\n",
       "    .dataframe tbody tr th:only-of-type {\n",
       "        vertical-align: middle;\n",
       "    }\n",
       "\n",
       "    .dataframe tbody tr th {\n",
       "        vertical-align: top;\n",
       "    }\n",
       "\n",
       "    .dataframe thead th {\n",
       "        text-align: right;\n",
       "    }\n",
       "</style>\n",
       "<table border=\"1\" class=\"dataframe\">\n",
       "  <thead>\n",
       "    <tr style=\"text-align: right;\">\n",
       "      <th></th>\n",
       "      <th>y_test</th>\n",
       "      <th>y_hat</th>\n",
       "      <th>y_hat_probs</th>\n",
       "      <th>y_hat_30</th>\n",
       "      <th>y_hat_70</th>\n",
       "    </tr>\n",
       "  </thead>\n",
       "  <tbody>\n",
       "    <tr>\n",
       "      <th>2447</th>\n",
       "      <td>0</td>\n",
       "      <td>0</td>\n",
       "      <td>0.0</td>\n",
       "      <td>0</td>\n",
       "      <td>0</td>\n",
       "    </tr>\n",
       "    <tr>\n",
       "      <th>10818</th>\n",
       "      <td>0</td>\n",
       "      <td>0</td>\n",
       "      <td>0.4</td>\n",
       "      <td>1</td>\n",
       "      <td>0</td>\n",
       "    </tr>\n",
       "    <tr>\n",
       "      <th>3131</th>\n",
       "      <td>0</td>\n",
       "      <td>0</td>\n",
       "      <td>0.0</td>\n",
       "      <td>0</td>\n",
       "      <td>0</td>\n",
       "    </tr>\n",
       "    <tr>\n",
       "      <th>3890</th>\n",
       "      <td>0</td>\n",
       "      <td>0</td>\n",
       "      <td>0.0</td>\n",
       "      <td>0</td>\n",
       "      <td>0</td>\n",
       "    </tr>\n",
       "    <tr>\n",
       "      <th>10858</th>\n",
       "      <td>0</td>\n",
       "      <td>0</td>\n",
       "      <td>0.2</td>\n",
       "      <td>0</td>\n",
       "      <td>0</td>\n",
       "    </tr>\n",
       "  </tbody>\n",
       "</table>\n",
       "</div>"
      ],
      "text/plain": [
       "       y_test  y_hat  y_hat_probs  y_hat_30  y_hat_70\n",
       "2447        0      0          0.0         0         0\n",
       "10818       0      0          0.4         1         0\n",
       "3131        0      0          0.0         0         0\n",
       "3890        0      0          0.0         0         0\n",
       "10858       0      0          0.2         0         0"
      ]
     },
     "execution_count": 44,
     "metadata": {},
     "output_type": "execute_result"
    }
   ],
   "source": [
    "df_predictions = pd.DataFrame({'y_test':y_test, 'y_hat':y_hat, 'y_hat_probs':y_hat_probs,\n",
    "                               'y_hat_30':y_hat_30, 'y_hat_70':y_hat_70})\n",
    "df_predictions.tail()"
   ]
  },
  {
   "cell_type": "markdown",
   "id": "5b084785",
   "metadata": {},
   "source": [
    "## 4. Borrow my_KNN_report() function from the python notebook of class 13. "
   ]
  },
  {
   "cell_type": "code",
   "execution_count": 45,
   "id": "8cba05b4",
   "metadata": {},
   "outputs": [],
   "source": [
    "from sklearn.metrics import accuracy_score, recall_score, precision_score, f1_score\n",
    "from sklearn.metrics import confusion_matrix, classification_report, roc_curve, roc_auc_score"
   ]
  },
  {
   "cell_type": "code",
   "execution_count": 46,
   "id": "9ec4b04f",
   "metadata": {},
   "outputs": [],
   "source": [
    "from sklearn.metrics import confusion_matrix\n",
    "from sklearn.metrics import accuracy_score, recall_score, precision_score, f1_score\n",
    "\n",
    "\n",
    "\n",
    "def my_KNN_report(X_train, y_train, X_test,y_test, K=5, threshold=0.5, weights='uniform'):\n",
    "    knn= KNeighborsClassifier(n_neighbors=K, weights=weights)\n",
    "    knn.fit(X_train, y_train)\n",
    "    probs = knn.predict_proba(X_test)[:,1]\n",
    "    y_hat = np.where(probs>=threshold,1,0)\n",
    "    \n",
    "    cm = confusion_matrix(y_test, y_hat)\n",
    "    accuracy = round(accuracy_score(y_test,y_hat) ,4)\n",
    "    error_rate = round(1-accuracy,4)\n",
    "    precision = round(precision_score(y_test,y_hat),2)\n",
    "    recall = round(recall_score(y_test,y_hat),2)\n",
    "    f1score = round(f1_score(y_test,y_hat),2)\n",
    "    cm_labled = pd.DataFrame(cm, index=['Actual : negative ','Actual : positive'], columns=['Predict : negative','Predict :positive '])\n",
    "    \n",
    "    print(\"-----------------------------------------\")\n",
    "    print('Accuracy  = {}'.format(accuracy))\n",
    "    print('Error_rate  = {}'.format(error_rate))\n",
    "    print('Precision = {}'.format(precision))\n",
    "    print('Recall    = {}'.format(recall))\n",
    "    print('f1_score  = {}'.format(f1score))\n",
    "    print(\"-----------------------------------------\")\n",
    "    return cm_labled\n",
    " "
   ]
  },
  {
   "cell_type": "markdown",
   "id": "8e6f7c05",
   "metadata": {},
   "source": [
    "### 1. Report the Accuracy, precision, recall and f1 score along with the confusion matrix for threshold =0.5. Interpret all these statistics. Do you trust the accuracy of the model? why?"
   ]
  },
  {
   "cell_type": "code",
   "execution_count": 47,
   "id": "af114f6c",
   "metadata": {},
   "outputs": [
    {
     "name": "stdout",
     "output_type": "stream",
     "text": [
      "-----------------------------------------\n",
      "Accuracy  = 0.945\n",
      "Error_rate  = 0.055\n",
      "Precision = 0.82\n",
      "Recall    = 0.35\n",
      "f1_score  = 0.49\n",
      "-----------------------------------------\n"
     ]
    },
    {
     "data": {
      "text/html": [
       "<div>\n",
       "<style scoped>\n",
       "    .dataframe tbody tr th:only-of-type {\n",
       "        vertical-align: middle;\n",
       "    }\n",
       "\n",
       "    .dataframe tbody tr th {\n",
       "        vertical-align: top;\n",
       "    }\n",
       "\n",
       "    .dataframe thead th {\n",
       "        text-align: right;\n",
       "    }\n",
       "</style>\n",
       "<table border=\"1\" class=\"dataframe\">\n",
       "  <thead>\n",
       "    <tr style=\"text-align: right;\">\n",
       "      <th></th>\n",
       "      <th>Predict : negative</th>\n",
       "      <th>Predict :positive</th>\n",
       "    </tr>\n",
       "  </thead>\n",
       "  <tbody>\n",
       "    <tr>\n",
       "      <th>Actual : negative</th>\n",
       "      <td>4788</td>\n",
       "      <td>31</td>\n",
       "    </tr>\n",
       "    <tr>\n",
       "      <th>Actual : positive</th>\n",
       "      <td>256</td>\n",
       "      <td>139</td>\n",
       "    </tr>\n",
       "  </tbody>\n",
       "</table>\n",
       "</div>"
      ],
      "text/plain": [
       "                    Predict : negative  Predict :positive \n",
       "Actual : negative                 4788                  31\n",
       "Actual : positive                  256                 139"
      ]
     },
     "execution_count": 47,
     "metadata": {},
     "output_type": "execute_result"
    }
   ],
   "source": [
    "my_KNN_report(X_train, y_train, X_test,y_test, K=5, threshold=0.5, weights='uniform')"
   ]
  },
  {
   "cell_type": "markdown",
   "id": "34733f55",
   "metadata": {},
   "source": [
    "##### **Accuracy:** 94.5% of the predictions were correct. </br>\n",
    "**Error Rate:** 5.5% of the predictions were incorrect. </br>\n",
    "**Precision:** Precision is 0.82 because 82% of the predictions that there was an overload were, were accurately predicted.  (139/(139+31)=0.82) </br>\n",
    "**Recall:** Recall is 0.35 because 35% of the cases that are in fact classified as an overload, were accurately predicted (139/(139+256) = 0.35). </br>\n",
    "**F1 Score:** The f1 score is a combination of precision and recall. In this case the harmonic combination of the two measures is 0.49. </br>\n",
    "</br>\n",
    "I do not trust the accuracy of the model. By looking at the confusion matrix we can see that the data set is imbalanced, so accuracy won't be a reliable measure of performance. "
   ]
  },
  {
   "cell_type": "markdown",
   "id": "29c67349",
   "metadata": {},
   "source": [
    "### 2. Now use threshold = 0.3 in the my_logistic_report() function. what happens to accuracy, precision, recall and f1 score? what happens to false negatives? is this consistent with you answer to question 3.4? "
   ]
  },
  {
   "cell_type": "code",
   "execution_count": 48,
   "id": "999fac87",
   "metadata": {},
   "outputs": [
    {
     "name": "stdout",
     "output_type": "stream",
     "text": [
      "-----------------------------------------\n",
      "Accuracy  = 0.9334\n",
      "Error_rate  = 0.0666\n",
      "Precision = 0.56\n",
      "Recall    = 0.61\n",
      "f1_score  = 0.58\n",
      "-----------------------------------------\n"
     ]
    },
    {
     "data": {
      "text/html": [
       "<div>\n",
       "<style scoped>\n",
       "    .dataframe tbody tr th:only-of-type {\n",
       "        vertical-align: middle;\n",
       "    }\n",
       "\n",
       "    .dataframe tbody tr th {\n",
       "        vertical-align: top;\n",
       "    }\n",
       "\n",
       "    .dataframe thead th {\n",
       "        text-align: right;\n",
       "    }\n",
       "</style>\n",
       "<table border=\"1\" class=\"dataframe\">\n",
       "  <thead>\n",
       "    <tr style=\"text-align: right;\">\n",
       "      <th></th>\n",
       "      <th>Predict : negative</th>\n",
       "      <th>Predict :positive</th>\n",
       "    </tr>\n",
       "  </thead>\n",
       "  <tbody>\n",
       "    <tr>\n",
       "      <th>Actual : negative</th>\n",
       "      <td>4626</td>\n",
       "      <td>193</td>\n",
       "    </tr>\n",
       "    <tr>\n",
       "      <th>Actual : positive</th>\n",
       "      <td>154</td>\n",
       "      <td>241</td>\n",
       "    </tr>\n",
       "  </tbody>\n",
       "</table>\n",
       "</div>"
      ],
      "text/plain": [
       "                    Predict : negative  Predict :positive \n",
       "Actual : negative                 4626                 193\n",
       "Actual : positive                  154                 241"
      ]
     },
     "execution_count": 48,
     "metadata": {},
     "output_type": "execute_result"
    }
   ],
   "source": [
    "my_KNN_report(X_train, y_train, X_test,y_test, K=5, threshold=0.3, weights='uniform')"
   ]
  },
  {
   "cell_type": "markdown",
   "id": "0832a40b",
   "metadata": {},
   "source": [
    "**Accuracy** decreases slightly, **error rate** increases slightly. **Precision** decreases and **recall** increases. **F-score** increases. </br>\n",
    "This is consistent with the answer to 3.4. By choosing a lower threshold the performance of the model increased, because we are avoiding more false negatives. "
   ]
  },
  {
   "cell_type": "markdown",
   "id": "35ce99fe",
   "metadata": {},
   "source": [
    "## 5. Plot the ROC curve and report the AUC score. Is your model doing a better job than random prediction (no skill)? "
   ]
  },
  {
   "cell_type": "code",
   "execution_count": 49,
   "id": "08990972",
   "metadata": {},
   "outputs": [
    {
     "name": "stdout",
     "output_type": "stream",
     "text": [
      "No Skill: ROC AUC=0.500\n",
      "KNN: ROC AUC=0.886\n"
     ]
    },
    {
     "data": {
      "image/png": "[encoded data removed]",
      "text/plain": [
       "<Figure size 432x288 with 1 Axes>"
      ]
     },
     "metadata": {},
     "output_type": "display_data"
    }
   ],
   "source": [
    "# generate a no skill (ns) prediction and KNN  (lr) predictions.\n",
    "ns_probs = [0 for i in range(len(y_test))]\n",
    "lr_probs = KNN_classifier.predict_proba(X_test)[:,1]\n",
    "# calculating scores for no skill and KNN \n",
    "ns_auc = roc_auc_score(y_test, ns_probs)\n",
    "lr_auc = roc_auc_score(y_test, lr_probs)\n",
    "print('No Skill: ROC AUC=%.3f' % (ns_auc))\n",
    "print('KNN: ROC AUC=%.3f' % (lr_auc))\n",
    "\n",
    "# calculate roc curves\n",
    "ns_fpr, ns_tpr, _ = roc_curve(y_test, ns_probs)\n",
    "lr_fpr, lr_tpr, _ = roc_curve(y_test, lr_probs)\n",
    "# plot the roc curve for the model\n",
    "plt.plot(ns_fpr, ns_tpr, linestyle='--', label='No Skill')\n",
    "plt.plot(lr_fpr, lr_tpr, marker='.', label='KNN')\n",
    "# axis labels\n",
    "plt.xlabel('False Positive Rate')\n",
    "plt.ylabel('True Positive Rate')\n",
    "# show the legend\n",
    "plt.legend()\n",
    "# show the plot\n",
    "plt.show()"
   ]
  },
  {
   "cell_type": "markdown",
   "id": "cb42b3ad",
   "metadata": {},
   "source": [
    "Yes! KNN is doing a better job than random prediction, because the AUC is bigger than 0.5. "
   ]
  },
  {
   "cell_type": "markdown",
   "id": "268c4f0d",
   "metadata": {},
   "source": [
    "## 6. Cross validation: "
   ]
  },
  {
   "cell_type": "code",
   "execution_count": 50,
   "id": "1fcab382",
   "metadata": {},
   "outputs": [
    {
     "data": {
      "text/plain": [
       "['accuracy',\n",
       " 'adjusted_mutual_info_score',\n",
       " 'adjusted_rand_score',\n",
       " 'average_precision',\n",
       " 'balanced_accuracy',\n",
       " 'completeness_score',\n",
       " 'explained_variance',\n",
       " 'f1',\n",
       " 'f1_macro',\n",
       " 'f1_micro',\n",
       " 'f1_samples',\n",
       " 'f1_weighted',\n",
       " 'fowlkes_mallows_score',\n",
       " 'homogeneity_score',\n",
       " 'jaccard',\n",
       " 'jaccard_macro',\n",
       " 'jaccard_micro',\n",
       " 'jaccard_samples',\n",
       " 'jaccard_weighted',\n",
       " 'max_error',\n",
       " 'mutual_info_score',\n",
       " 'neg_brier_score',\n",
       " 'neg_log_loss',\n",
       " 'neg_mean_absolute_error',\n",
       " 'neg_mean_absolute_percentage_error',\n",
       " 'neg_mean_gamma_deviance',\n",
       " 'neg_mean_poisson_deviance',\n",
       " 'neg_mean_squared_error',\n",
       " 'neg_mean_squared_log_error',\n",
       " 'neg_median_absolute_error',\n",
       " 'neg_root_mean_squared_error',\n",
       " 'normalized_mutual_info_score',\n",
       " 'precision',\n",
       " 'precision_macro',\n",
       " 'precision_micro',\n",
       " 'precision_samples',\n",
       " 'precision_weighted',\n",
       " 'r2',\n",
       " 'rand_score',\n",
       " 'recall',\n",
       " 'recall_macro',\n",
       " 'recall_micro',\n",
       " 'recall_samples',\n",
       " 'recall_weighted',\n",
       " 'roc_auc',\n",
       " 'roc_auc_ovo',\n",
       " 'roc_auc_ovo_weighted',\n",
       " 'roc_auc_ovr',\n",
       " 'roc_auc_ovr_weighted',\n",
       " 'top_k_accuracy',\n",
       " 'v_measure_score']"
      ]
     },
     "execution_count": 50,
     "metadata": {},
     "output_type": "execute_result"
    }
   ],
   "source": [
    "from sklearn.model_selection import cross_val_score\n",
    "import sklearn.metrics\n",
    "sorted(sklearn.metrics.SCORERS.keys())"
   ]
  },
  {
   "cell_type": "markdown",
   "id": "124a0305",
   "metadata": {},
   "source": [
    "### 1. Estimate the error_rate_test by doing a 5 fold cross validation on the train set and name it as error_rate_CV."
   ]
  },
  {
   "cell_type": "code",
   "execution_count": 51,
   "id": "4fd58651",
   "metadata": {},
   "outputs": [],
   "source": [
    "# remember we saved our model in an object called \"KNN_classifier\"\n",
    "accuracy = cross_val_score(estimator = KNN_classifier, X = X_train, y = y_train, cv = 5 , scoring=\"accuracy\" )"
   ]
  },
  {
   "cell_type": "code",
   "execution_count": 52,
   "id": "1ff15632",
   "metadata": {},
   "outputs": [
    {
     "data": {
      "text/plain": [
       "array([0.05754213, 0.05466502, 0.05713111, 0.05466502, 0.05713111])"
      ]
     },
     "execution_count": 52,
     "metadata": {},
     "output_type": "execute_result"
    }
   ],
   "source": [
    "1-accuracy"
   ]
  },
  {
   "cell_type": "code",
   "execution_count": 53,
   "id": "168f1442",
   "metadata": {},
   "outputs": [
    {
     "data": {
      "text/plain": [
       "0.0562"
      ]
     },
     "execution_count": 53,
     "metadata": {},
     "output_type": "execute_result"
    }
   ],
   "source": [
    "error_rate=round((1-accuracy).mean(),4)\n",
    "error_rate"
   ]
  },
  {
   "cell_type": "markdown",
   "id": "e2c1abef",
   "metadata": {},
   "source": [
    "### 2. Plot the error_rate_CV vs K and find the optimal value for K in the KNN classification model. "
   ]
  },
  {
   "cell_type": "code",
   "execution_count": 54,
   "id": "6978264d",
   "metadata": {},
   "outputs": [],
   "source": [
    "error_rate = []\n",
    "k=15\n",
    "\n",
    "for i in range(1,k):\n",
    "    KNN_i = KNeighborsClassifier(n_neighbors=i)\n",
    "    KNN_i.fit(X_train, y_train)\n",
    "    error_rate.append(np.mean(y_test != KNN_i.predict(X_test)) )\n"
   ]
  },
  {
   "cell_type": "code",
   "execution_count": 55,
   "id": "8277d8ca",
   "metadata": {},
   "outputs": [
    {
     "data": {
      "image/png": "[encoded data removed]",
      "text/plain": [
       "<Figure size 720x360 with 1 Axes>"
      ]
     },
     "metadata": {},
     "output_type": "display_data"
    }
   ],
   "source": [
    "plt.figure(figsize=(10,5))\n",
    "sns.lineplot(y=error_rate, x=range(1,k))\n",
    "plt.title('Test Error Rate VS K')\n",
    "plt.xlabel('K')\n",
    "plt.ylabel('Error rate')\n",
    "plt.show()"
   ]
  },
  {
   "cell_type": "code",
   "execution_count": 56,
   "id": "893f385b",
   "metadata": {},
   "outputs": [],
   "source": [
    "error_rate_test = []\n",
    "error_rate_CV=[]\n",
    "k=15\n",
    "\n",
    "for i in range(1,k):\n",
    "    KNN_i = KNeighborsClassifier(n_neighbors=i)\n",
    "    KNN_i.fit(X_train, y_train)\n",
    "    accuracy =  cross_val_score(estimator = KNN_i, X = X_train, y = y_train, cv = 5 , scoring=\"accuracy\")\n",
    "    error_rate_CV.append(np.mean(1-accuracy))\n",
    "    error_rate_test.append(np.mean(y_test != KNN_i.predict(X_test)) )\n",
    "    \n",
    "optimal_k = pd.DataFrame({'error_rate_CV': error_rate_CV, 'error_rate_test':error_rate_test}, index=range(1,k))"
   ]
  },
  {
   "cell_type": "code",
   "execution_count": 57,
   "id": "270c89f7",
   "metadata": {},
   "outputs": [
    {
     "data": {
      "text/html": [
       "<div>\n",
       "<style scoped>\n",
       "    .dataframe tbody tr th:only-of-type {\n",
       "        vertical-align: middle;\n",
       "    }\n",
       "\n",
       "    .dataframe tbody tr th {\n",
       "        vertical-align: top;\n",
       "    }\n",
       "\n",
       "    .dataframe thead th {\n",
       "        text-align: right;\n",
       "    }\n",
       "</style>\n",
       "<table border=\"1\" class=\"dataframe\">\n",
       "  <thead>\n",
       "    <tr style=\"text-align: right;\">\n",
       "      <th></th>\n",
       "      <th>error_rate_CV</th>\n",
       "      <th>error_rate_test</th>\n",
       "    </tr>\n",
       "  </thead>\n",
       "  <tbody>\n",
       "    <tr>\n",
       "      <th>1</th>\n",
       "      <td>0.064201</td>\n",
       "      <td>0.064634</td>\n",
       "    </tr>\n",
       "    <tr>\n",
       "      <th>2</th>\n",
       "      <td>0.059104</td>\n",
       "      <td>0.059839</td>\n",
       "    </tr>\n",
       "    <tr>\n",
       "      <th>3</th>\n",
       "      <td>0.058529</td>\n",
       "      <td>0.054469</td>\n",
       "    </tr>\n",
       "    <tr>\n",
       "      <th>4</th>\n",
       "      <td>0.059515</td>\n",
       "      <td>0.059839</td>\n",
       "    </tr>\n",
       "    <tr>\n",
       "      <th>5</th>\n",
       "      <td>0.056227</td>\n",
       "      <td>0.055044</td>\n",
       "    </tr>\n",
       "    <tr>\n",
       "      <th>6</th>\n",
       "      <td>0.059844</td>\n",
       "      <td>0.060990</td>\n",
       "    </tr>\n",
       "    <tr>\n",
       "      <th>7</th>\n",
       "      <td>0.055651</td>\n",
       "      <td>0.058688</td>\n",
       "    </tr>\n",
       "    <tr>\n",
       "      <th>8</th>\n",
       "      <td>0.060008</td>\n",
       "      <td>0.061949</td>\n",
       "    </tr>\n",
       "    <tr>\n",
       "      <th>9</th>\n",
       "      <td>0.057049</td>\n",
       "      <td>0.060414</td>\n",
       "    </tr>\n",
       "    <tr>\n",
       "      <th>10</th>\n",
       "      <td>0.060995</td>\n",
       "      <td>0.061949</td>\n",
       "    </tr>\n",
       "  </tbody>\n",
       "</table>\n",
       "</div>"
      ],
      "text/plain": [
       "    error_rate_CV  error_rate_test\n",
       "1        0.064201         0.064634\n",
       "2        0.059104         0.059839\n",
       "3        0.058529         0.054469\n",
       "4        0.059515         0.059839\n",
       "5        0.056227         0.055044\n",
       "6        0.059844         0.060990\n",
       "7        0.055651         0.058688\n",
       "8        0.060008         0.061949\n",
       "9        0.057049         0.060414\n",
       "10       0.060995         0.061949"
      ]
     },
     "execution_count": 57,
     "metadata": {},
     "output_type": "execute_result"
    }
   ],
   "source": [
    "optimal_k.head(10)"
   ]
  },
  {
   "cell_type": "code",
   "execution_count": 58,
   "id": "87454d9a",
   "metadata": {
    "scrolled": true
   },
   "outputs": [
    {
     "data": {
      "image/png": "[encoded data removed]",
      "text/plain": [
       "<Figure size 720x360 with 1 Axes>"
      ]
     },
     "metadata": {},
     "output_type": "display_data"
    }
   ],
   "source": [
    "plt.figure(figsize=(10,5))\n",
    "sns.lineplot(data=optimal_k)\n",
    "plt.title('Cross Validated Test Errors Rates VS K')\n",
    "plt.xlabel('K')\n",
    "plt.ylabel('Error rate')\n",
    "plt.show()"
   ]
  },
  {
   "cell_type": "markdown",
   "id": "6957ef12",
   "metadata": {},
   "source": [
    "This graph shows us that the **optimal k is 5**!"
   ]
  },
  {
   "cell_type": "markdown",
   "id": "12f3fd4d",
   "metadata": {},
   "source": [
    "## 7. As the manager of Capital Bikeshare, you are dealing with a trade off between unexpected overload cost and cost of idle bikes. If the cost of a single idle bike is smaller than the cost of a single unexpected overload, then which of the following probability thresholds would satisfy your objective? 0.3, 0.5 or 0.7? "
   ]
  },
  {
   "cell_type": "markdown",
   "id": "da6a4f06",
   "metadata": {},
   "source": [
    "Because an unexpected overload (false negative) is more costly, I would choose 0.3 as the threshold. By reducing the threshold we avoid more false negatives. "
   ]
  }
 ],
 "metadata": {
  "kernelspec": {
   "display_name": "Python 3 (ipykernel)",
   "language": "python",
   "name": "python3"
  },
  "language_info": {
   "codemirror_mode": {
    "name": "ipython",
    "version": 3
   },
   "file_extension": ".py",
   "mimetype": "text/x-python",
   "name": "python",
   "nbconvert_exporter": "python",
   "pygments_lexer": "ipython3",
   "version": "3.9.7"
  }
 },
 "nbformat": 4,
 "nbformat_minor": 5
}
