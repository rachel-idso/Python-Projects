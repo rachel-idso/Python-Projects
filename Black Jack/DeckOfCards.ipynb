{
 "cells": [
  {
   "cell_type": "code",
   "execution_count": 1,
   "id": "01982203",
   "metadata": {},
   "outputs": [],
   "source": [
    "import random\n",
    "\n",
    "#first let's create a class called Card.\n",
    "#This will give us the blueprint to create a card in general\n",
    "\n",
    "class Card():\n",
    "    def __init__(self, suit, face, value):\n",
    "        self.suit = suit\n",
    "        self.face = face\n",
    "        self.val = value\n",
    "        \n",
    "    def __str__(self):\n",
    "        return self.face + \" of \" + self.suit + \", value: \" + str(self.val)\n",
    "\n",
    "#then we will create a class called DeckOfCards\n",
    "#this creates the specifics for each type of card in the deck\n",
    "class DeckOfCards():\n",
    "    def __init__(self):\n",
    "        self.deck = []\n",
    "        self.suits = [\"Hearts\", \"Diamonds\", \"Spades\", \"Clubs\"]\n",
    "        self.faces = [\"2\", \"3\", \"4\", \"5\", \"6\", \"7\", \"8\", \"9\", \"10\", \"Jack\", \"Queen\", \"King\", \"Ace\"]\n",
    "        self.values = [2, 3, 4, 5, 6, 7, 8, 9, 10, 10, 10, 10, 11]\n",
    "        self.play_idx = 0\n",
    "        \n",
    "        #now we will fill the list 'self.deck' with the cards. \n",
    "        #We will loop through the suits, and faces to create each individual card. \n",
    "        for suit in self.suits:\n",
    "            i = 0\n",
    "            for i in range(len(self.faces)):\n",
    "                self.deck.append(Card(suit, self.faces[i], self.values[i]))\n",
    "                \n",
    "    #this function shuffles the objects in the list self.deck within the class DeckOfCards\n",
    "    #essentially, this is shuffeling the deck\n",
    "    def shuffle_deck(self):\n",
    "        random.shuffle(self.deck)\n",
    "    \n",
    "    #this function prints the deck, and tells us what the face and suit of each card is    \n",
    "    def print_deck(self):\n",
    "        for card in self.deck:\n",
    "            print(card.face, \"of\", card.suit)\n",
    "        print(\"---\")\n",
    "    \n",
    "    #this function is how the user draws a card from the list self.deck. \n",
    "    def get_card(self):\n",
    "        self.play_idx += 1\n",
    "        return self.deck[self.play_idx - 1]"
   ]
  }
 ],
 "metadata": {
  "kernelspec": {
   "display_name": "Python 3 (ipykernel)",
   "language": "python",
   "name": "python3"
  },
  "language_info": {
   "codemirror_mode": {
    "name": "ipython",
    "version": 3
   },
   "file_extension": ".py",
   "mimetype": "text/x-python",
   "name": "python",
   "nbconvert_exporter": "python",
   "pygments_lexer": "ipython3",
   "version": "3.9.7"
  }
 },
 "nbformat": 4,
 "nbformat_minor": 5
}
